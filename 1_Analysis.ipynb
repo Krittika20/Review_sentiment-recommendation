{
 "cells": [
  {
   "cell_type": "code",
   "execution_count": null,
   "metadata": {},
   "outputs": [],
   "source": [
    "import pandas as pd\n",
    "import numpy as np\n",
    "import json"
   ]
  },
  {
   "cell_type": "code",
   "execution_count": null,
   "metadata": {},
   "outputs": [],
   "source": [
    "electronics_json_data = [json.loads(line) for line in (open(\"dataset/Electronics_5.json\", \"r\"))]"
   ]
  },
  {
   "cell_type": "code",
   "execution_count": null,
   "metadata": {},
   "outputs": [],
   "source": [
    "electronics_data = pd.DataFrame(electronics_json_data)"
   ]
  },
  {
   "cell_type": "code",
   "execution_count": null,
   "metadata": {},
   "outputs": [],
   "source": [
    "electronics_data.head(5)"
   ]
  },
  {
   "cell_type": "code",
   "execution_count": null,
   "metadata": {},
   "outputs": [],
   "source": [
    "electronics_data[\"overall\"].value_counts()"
   ]
  },
  {
   "cell_type": "code",
   "execution_count": null,
   "metadata": {},
   "outputs": [],
   "source": [
    "electronics_data.columns"
   ]
  },
  {
   "cell_type": "markdown",
   "metadata": {},
   "source": [
    "<br><b>Here according to data description :</b>\n",
    "<li>reviewerID - ID of the reviewer, e.g. A2SUAM1J3GNN3B</li>\n",
    "<li>asin - ID of the product, e.g. 0000013714</li>\n",
    "<li>reviewerName - name of the reviewer</li>\n",
    "<li>helpful - helpfulness rating of the review, e.g. 2/3</li>\n",
    "<li>reviewText - text of the review</li>\n",
    "<li>overall - rating of the product</li>\n",
    "<li>summary - summary of the review</li>\n",
    "<li>unixReviewTime - time of the review (unix time)</li>\n",
    "<li>reviewTime - time of the review (raw)</li>"
   ]
  },
  {
   "cell_type": "code",
   "execution_count": null,
   "metadata": {},
   "outputs": [],
   "source": [
    "electronics_data.isnull().sum()"
   ]
  },
  {
   "cell_type": "code",
   "execution_count": null,
   "metadata": {},
   "outputs": [],
   "source": [
    "electronics_data.shape"
   ]
  },
  {
   "cell_type": "code",
   "execution_count": null,
   "metadata": {},
   "outputs": [],
   "source": [
    "electronics_data = electronics_data[0:100000]"
   ]
  },
  {
   "cell_type": "code",
   "execution_count": null,
   "metadata": {},
   "outputs": [],
   "source": [
    "electronics_data.shape"
   ]
  },
  {
   "cell_type": "markdown",
   "metadata": {},
   "source": [
    "\n",
    "\n",
    "\n",
    "# Data Wrangling"
   ]
  },
  {
   "cell_type": "markdown",
   "metadata": {},
   "source": [
    "#### <u>Adding helpful and not-helpful column</u>"
   ]
  },
  {
   "cell_type": "code",
   "execution_count": null,
   "metadata": {},
   "outputs": [],
   "source": [
    "#helpful col is in matrix it is better to seperate it into two columns\n",
    "list_helpful_rev = []\n",
    "list_not_helpful_rev = []\n",
    "\n",
    "for h in electronics_data[\"helpful\"]:\n",
    "    list_helpful_rev.append(h[0])\n",
    "    list_not_helpful_rev.append(h[1] - h[0])\n",
    "    \n",
    "#adding helpful review col, review that finds customers rev usefull\n",
    "electronics_data[\"helpful_rev\"] = list_helpful_rev\n",
    "#adding not helpful review col, review that finds customers rev useless\n",
    "electronics_data[\"not_helpful_rev\"] = list_not_helpful_rev\n",
    "\n",
    "#dropping helpful column\n",
    "electronics_data = electronics_data.drop(\"helpful\", axis = 1)"
   ]
  },
  {
   "cell_type": "code",
   "execution_count": null,
   "metadata": {},
   "outputs": [],
   "source": [
    "electronics_data.head(5)"
   ]
  },
  {
   "cell_type": "markdown",
   "metadata": {},
   "source": [
    "#### <u>Adding rating_class column</u>"
   ]
  },
  {
   "cell_type": "code",
   "execution_count": null,
   "metadata": {},
   "outputs": [],
   "source": [
    "#now overall rating has 5 unique values (1,2,3,4,5) lets classify it as good rating and bad rating\n",
    "\n",
    "threshold = 3\n",
    "\n",
    "electronics_data[\"rating_class\"] = electronics_data[\"overall\"].apply(lambda x: \"good\" if x > 3 else \"bad\")\n",
    "    "
   ]
  },
  {
   "cell_type": "code",
   "execution_count": null,
   "metadata": {},
   "outputs": [],
   "source": [
    "electronics_data.sample(5)"
   ]
  },
  {
   "cell_type": "code",
   "execution_count": null,
   "metadata": {},
   "outputs": [],
   "source": [
    "#calculating total number of good and bad ratings\n",
    "import seaborn as sns\n",
    "import matplotlib.pyplot as plt\n",
    "\n",
    "sns.set_theme(style=\"darkgrid\")\n",
    "sns.countplot(x = \"rating_class\", data = electronics_data)\n",
    "plt.show()\n",
    "\n",
    "val = electronics_data[\"rating_class\"].value_counts()\n",
    "print(val)"
   ]
  },
  {
   "cell_type": "code",
   "execution_count": null,
   "metadata": {},
   "outputs": [],
   "source": [
    "print(\"{:.2f}% more percentage of good rev than bad reviews.\".format( ((val[0] - val[1]) / (val[1]+val[0])) * 100 ))"
   ]
  },
  {
   "cell_type": "markdown",
   "metadata": {},
   "source": [
    "#### <u>Adding helpful review ratio for each user</u>"
   ]
  },
  {
   "cell_type": "code",
   "execution_count": null,
   "metadata": {},
   "outputs": [],
   "source": [
    "##adding col helpful_rev_ratio\n",
    "electronics_data[\"helpful_rev_ratio\"] = electronics_data[\"helpful_rev\"] / (electronics_data[\"helpful_rev\"] + electronics_data[\"not_helpful_rev\"])"
   ]
  },
  {
   "cell_type": "code",
   "execution_count": null,
   "metadata": {},
   "outputs": [],
   "source": [
    "electronics_data.sample(2)"
   ]
  },
  {
   "cell_type": "code",
   "execution_count": null,
   "metadata": {},
   "outputs": [],
   "source": [
    "electronics_data[\"helpful_rev_ratio\"].fillna(0, inplace = True)"
   ]
  },
  {
   "cell_type": "code",
   "execution_count": null,
   "metadata": {},
   "outputs": [],
   "source": [
    "electronics_data.head(2)"
   ]
  },
  {
   "cell_type": "code",
   "execution_count": null,
   "metadata": {},
   "outputs": [],
   "source": [
    "#dropping columns reviewerName, unixReviewTime\n",
    "electronics_data = electronics_data.drop([\"reviewerName\", \"unixReviewTime\"], axis = 1)"
   ]
  },
  {
   "cell_type": "code",
   "execution_count": null,
   "metadata": {},
   "outputs": [],
   "source": [
    "#Converting time in yyyy-mm-dd\n",
    "electronics_data[\"reviewTime\"] = pd.to_datetime(electronics_data[\"reviewTime\"])"
   ]
  },
  {
   "cell_type": "code",
   "execution_count": null,
   "metadata": {},
   "outputs": [],
   "source": [
    "electronics_data.head(2)"
   ]
  },
  {
   "cell_type": "code",
   "execution_count": null,
   "metadata": {},
   "outputs": [],
   "source": [
    "electronics_data = electronics_data.rename(columns = {\"overall\":\"rating\"})"
   ]
  },
  {
   "cell_type": "code",
   "execution_count": null,
   "metadata": {},
   "outputs": [],
   "source": [
    "electronics_data[[\"helpful_rev\", \"not_helpful_rev\", \"rating\", \"helpful_rev_ratio\"]].describe()"
   ]
  },
  {
   "cell_type": "markdown",
   "metadata": {},
   "source": [
    "# Visualizing Data"
   ]
  },
  {
   "cell_type": "markdown",
   "metadata": {},
   "source": [
    "#### <u>Number of Reviews over the year</u>"
   ]
  },
  {
   "cell_type": "code",
   "execution_count": null,
   "metadata": {},
   "outputs": [],
   "source": [
    "#creating additional column of month and year of review\n",
    "electronics_data[\"rev_year\"] = electronics_data[\"reviewTime\"].dt.year\n",
    "electronics_data[\"rev_month\"] = electronics_data[\"reviewTime\"].dt.month"
   ]
  },
  {
   "cell_type": "code",
   "execution_count": null,
   "metadata": {},
   "outputs": [],
   "source": [
    "#grouping review w.r.t year and taking count of reviewID\n",
    "Yearly = electronics_data.groupby(\"rev_year\")[\"reviewerID\"].count().reset_index()\n",
    "Yearly = Yearly.rename(columns = {\"reviewerID\":\"Number_Of_Reviews\"})\n",
    "Yearly.head(5)"
   ]
  },
  {
   "cell_type": "code",
   "execution_count": null,
   "metadata": {},
   "outputs": [],
   "source": [
    "ax = sns.barplot(x = \"rev_year\", y = \"Number_Of_Reviews\", data = Yearly)\n",
    "ax.set_xticklabels(ax.get_xticklabels(), rotation = 90)\n",
    "plt.show()"
   ]
  },
  {
   "cell_type": "markdown",
   "metadata": {},
   "source": [
    "We see that year 2013 has maximum number of reviews."
   ]
  },
  {
   "cell_type": "markdown",
   "metadata": {},
   "source": [
    "\n",
    "#### <u>Number Of Reviews By Month</u>"
   ]
  },
  {
   "cell_type": "code",
   "execution_count": null,
   "metadata": {},
   "outputs": [],
   "source": [
    "Monthly = electronics_data.groupby(\"rev_month\")[\"reviewerID\"].count().reset_index()\n",
    "Monthly = Monthly.rename(columns = {\"reviewerID\":\"Number_Of_Reviews\"})\n",
    "Monthly.head(2)"
   ]
  },
  {
   "cell_type": "code",
   "execution_count": null,
   "metadata": {},
   "outputs": [],
   "source": [
    "import calendar\n",
    "Monthly[\"rev_month\"] = Monthly[\"rev_month\"].apply(lambda x : calendar.month_abbr[x])\n",
    "Monthly"
   ]
  },
  {
   "cell_type": "code",
   "execution_count": null,
   "metadata": {},
   "outputs": [],
   "source": [
    "ax = sns.barplot(x = \"rev_month\", y = \"Number_Of_Reviews\", data = Monthly)\n",
    "ax.set_xticklabels(ax.get_xticklabels(), rotation = 90)\n",
    "plt.show()"
   ]
  },
  {
   "cell_type": "markdown",
   "metadata": {},
   "source": [
    "#### <u>Average overall rating over years</u>"
   ]
  },
  {
   "cell_type": "code",
   "execution_count": null,
   "metadata": {},
   "outputs": [],
   "source": [
    "Yearly_avg_rating = electronics_data.groupby(\"rev_year\")[\"rating\"].mean().reset_index()\n",
    "Yearly_avg_rating = Yearly_avg_rating.rename(columns = {\"rating\":\"avg_rating\"})"
   ]
  },
  {
   "cell_type": "code",
   "execution_count": null,
   "metadata": {},
   "outputs": [],
   "source": [
    "Yearly_avg_rating.head(3)"
   ]
  },
  {
   "cell_type": "code",
   "execution_count": null,
   "metadata": {},
   "outputs": [],
   "source": [
    "sns.lineplot(x = \"rev_year\", y = \"avg_rating\", data = Yearly_avg_rating)"
   ]
  },
  {
   "cell_type": "markdown",
   "metadata": {},
   "source": [
    "#### <u>Average Rating V/S Average Helpfullness Rating by the User</u>"
   ]
  },
  {
   "cell_type": "code",
   "execution_count": null,
   "metadata": {},
   "outputs": [],
   "source": [
    "user_rating_stats = electronics_data[[\"reviewerID\", \"helpful_rev\", \"not_helpful_rev\", \"rating\"]]"
   ]
  },
  {
   "cell_type": "code",
   "execution_count": null,
   "metadata": {},
   "outputs": [],
   "source": [
    "import warnings\n",
    "warnings.filterwarnings('ignore')"
   ]
  },
  {
   "cell_type": "code",
   "execution_count": null,
   "metadata": {},
   "outputs": [],
   "source": [
    "user_rating_stats[\"total_rev_given\"] = user_rating_stats[\"helpful_rev\"] + user_rating_stats[\"not_helpful_rev\"]\n",
    "user_rating_stats[\"percentage_helpful\"] = (user_rating_stats[\"helpful_rev\"]/(user_rating_stats[\"helpful_rev\"] + user_rating_stats[\"not_helpful_rev\"] ))*100\n",
    "user_rating_stats[\"avg_rating_given\"] = user_rating_stats.groupby(\"reviewerID\")[\"rating\"].mean()"
   ]
  },
  {
   "cell_type": "code",
   "execution_count": null,
   "metadata": {},
   "outputs": [],
   "source": [
    "user_rating_stats.sample()"
   ]
  },
  {
   "cell_type": "code",
   "execution_count": null,
   "metadata": {},
   "outputs": [],
   "source": [
    "user_rating_stats = user_rating_stats.drop([\"helpful_rev\", \"not_helpful_rev\", \"rating\"], axis = 1)"
   ]
  },
  {
   "cell_type": "code",
   "execution_count": null,
   "metadata": {},
   "outputs": [],
   "source": [
    "\n",
    "user_rating_stats[\"percentage_helpful\"].fillna(0, inplace = True)\n",
    "user_rating_stats[\"avg_rating_given\"].fillna(0, inplace = True)"
   ]
  },
  {
   "cell_type": "code",
   "execution_count": null,
   "metadata": {},
   "outputs": [],
   "source": [
    "user_rating_stats[\"helpful_rev_given\"] = electronics_data[\"helpful_rev\"]"
   ]
  },
  {
   "cell_type": "code",
   "execution_count": null,
   "metadata": {},
   "outputs": [],
   "source": [
    "user_rating_stats[[\"reviewerID\", \"avg_rating_given\", \"total_rev_given\", \"helpful_rev_given\", \"percentage_helpful\"]].sample(5)"
   ]
  },
  {
   "cell_type": "code",
   "execution_count": null,
   "metadata": {},
   "outputs": [],
   "source": [
    "sns.scatterplot(x = \"total_rev_given\", y = \"percentage_helpful\", data = user_rating_stats)"
   ]
  },
  {
   "cell_type": "markdown",
   "metadata": {},
   "source": [
    "\n",
    "#### <u>Length of Review V/S Rating Given</u>"
   ]
  },
  {
   "cell_type": "code",
   "execution_count": null,
   "metadata": {},
   "outputs": [],
   "source": [
    "cmp_review_text_rating = electronics_data[[\"reviewText\", \"rating_class\"]]"
   ]
  },
  {
   "cell_type": "code",
   "execution_count": null,
   "metadata": {},
   "outputs": [],
   "source": [
    "cmp_review_text_rating[\"reviewText_length\"] = cmp_review_text_rating[\"reviewText\"].apply(lambda x : len(x))"
   ]
  },
  {
   "cell_type": "code",
   "execution_count": null,
   "metadata": {},
   "outputs": [],
   "source": [
    "cmp_review_text_rating.head(5)"
   ]
  },
  {
   "cell_type": "code",
   "execution_count": null,
   "metadata": {},
   "outputs": [],
   "source": [
    "sns.barplot(x = \"rating_class\", y = \"reviewText_length\", data = cmp_review_text_rating )"
   ]
  },
  {
   "cell_type": "code",
   "execution_count": null,
   "metadata": {},
   "outputs": [],
   "source": [
    "electronics_data.to_csv(\"electronics_data_2.csv\", sep=',', encoding='utf-8', index = False)"
   ]
  }
 ],
 "metadata": {
  "kernelspec": {
   "display_name": "Python 3",
   "language": "python",
   "name": "python3"
  },
  "language_info": {
   "codemirror_mode": {
    "name": "ipython",
    "version": 3
   },
   "file_extension": ".py",
   "mimetype": "text/x-python",
   "name": "python",
   "nbconvert_exporter": "python",
   "pygments_lexer": "ipython3",
   "version": "3.7.9"
  }
 },
 "nbformat": 4,
 "nbformat_minor": 4
}
