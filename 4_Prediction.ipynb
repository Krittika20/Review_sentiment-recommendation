{
  "nbformat": 4,
  "nbformat_minor": 0,
  "metadata": {
    "colab": {
      "name": "4_Prediction.ipynb",
      "provenance": [],
      "include_colab_link": true
    },
    "kernelspec": {
      "display_name": "Python 3",
      "language": "python",
      "name": "python3"
    },
    "language_info": {
      "codemirror_mode": {
        "name": "ipython",
        "version": 3
      },
      "file_extension": ".py",
      "mimetype": "text/x-python",
      "name": "python",
      "nbconvert_exporter": "python",
      "pygments_lexer": "ipython3",
      "version": "3.7.9"
    }
  },
  "cells": [
    {
      "cell_type": "markdown",
      "metadata": {
        "id": "view-in-github",
        "colab_type": "text"
      },
      "source": [
        "<a href=\"https://colab.research.google.com/github/Krittika20/Review_sentiment-recommendation/blob/main/4_Prediction.ipynb\" target=\"_parent\"><img src=\"https://colab.research.google.com/assets/colab-badge.svg\" alt=\"Open In Colab\"/></a>"
      ]
    },
    {
      "cell_type": "code",
      "metadata": {
        "id": "9r2bTSL8JmfZ"
      },
      "source": [
        "import pandas as pd\n",
        "import time\n",
        "from sklearn.model_selection import train_test_split\n",
        "from sklearn.feature_extraction.text import TfidfVectorizer\n",
        "import xgboost as xgb\n",
        "from catboost import CatBoostClassifier\n",
        "from sklearn.linear_model import LogisticRegression\n",
        "from sklearn import svm\n",
        "from sklearn.metrics import f1_score\n",
        "from sklearn import metrics"
      ],
      "execution_count": 2,
      "outputs": []
    },
    {
      "cell_type": "code",
      "metadata": {
        "colab": {
          "base_uri": "https://localhost:8080/"
        },
        "id": "M2Xi2NV9JsZU",
        "outputId": "0085e300-4f9f-4f87-e059-fd4b250cb1e1"
      },
      "source": [
        "from google.colab import drive\n",
        "drive.mount('/content/drive')"
      ],
      "execution_count": 3,
      "outputs": [
        {
          "output_type": "stream",
          "text": [
            "Mounted at /content/drive\n"
          ],
          "name": "stdout"
        }
      ]
    },
    {
      "cell_type": "code",
      "metadata": {
        "id": "36dmz-YRJmfc"
      },
      "source": [
        "cleaned_data = pd.read_csv(\"/content/drive/MyDrive/cleaned_data2.csv\")"
      ],
      "execution_count": 4,
      "outputs": []
    },
    {
      "cell_type": "code",
      "metadata": {
        "colab": {
          "base_uri": "https://localhost:8080/",
          "height": 194
        },
        "id": "aWN5XPV-Jmfe",
        "outputId": "e5c3663a-afbb-4e90-db35-dc422f713315"
      },
      "source": [
        "cleaned_data.head(5)"
      ],
      "execution_count": 5,
      "outputs": [
        {
          "output_type": "execute_result",
          "data": {
            "text/html": [
              "<div>\n",
              "<style scoped>\n",
              "    .dataframe tbody tr th:only-of-type {\n",
              "        vertical-align: middle;\n",
              "    }\n",
              "\n",
              "    .dataframe tbody tr th {\n",
              "        vertical-align: top;\n",
              "    }\n",
              "\n",
              "    .dataframe thead th {\n",
              "        text-align: right;\n",
              "    }\n",
              "</style>\n",
              "<table border=\"1\" class=\"dataframe\">\n",
              "  <thead>\n",
              "    <tr style=\"text-align: right;\">\n",
              "      <th></th>\n",
              "      <th>reviewerID</th>\n",
              "      <th>reviewText</th>\n",
              "      <th>clean_reviewText</th>\n",
              "      <th>clean_summary</th>\n",
              "      <th>rating_class</th>\n",
              "    </tr>\n",
              "  </thead>\n",
              "  <tbody>\n",
              "    <tr>\n",
              "      <th>0</th>\n",
              "      <td>A1BZ18U2EF4FAI</td>\n",
              "      <td>the nook color is a great tablet. it sometimes...</td>\n",
              "      <td>nook color great tablet sometimes slow still t...</td>\n",
              "      <td>good</td>\n",
              "      <td>good</td>\n",
              "    </tr>\n",
              "    <tr>\n",
              "      <th>1</th>\n",
              "      <td>A3W2CJFXG0158G</td>\n",
              "      <td>1. I have a iPhone3Gs with a case, the cable w...</td>\n",
              "      <td>phone is case win without remove case manage p...</td>\n",
              "      <td>first belkin disappointment</td>\n",
              "      <td>bad</td>\n",
              "    </tr>\n",
              "    <tr>\n",
              "      <th>2</th>\n",
              "      <td>A3F9CBHV4OHFBS</td>\n",
              "      <td>I needed this cable to connect my Epson projec...</td>\n",
              "      <td>need connect elson project lawton great price ...</td>\n",
              "      <td>great product especially price</td>\n",
              "      <td>good</td>\n",
              "    </tr>\n",
              "    <tr>\n",
              "      <th>3</th>\n",
              "      <td>AZHV16QDXACKC</td>\n",
              "      <td>i bought these over a year ago hoping that a c...</td>\n",
              "      <td>year ago hop company offer lifetime warranty p...</td>\n",
              "      <td>not great</td>\n",
              "      <td>bad</td>\n",
              "    </tr>\n",
              "    <tr>\n",
              "      <th>4</th>\n",
              "      <td>A231WM2Z2JL0U3</td>\n",
              "      <td>or those who shun manuals. I am a fairly compu...</td>\n",
              "      <td>shun manual fairly computer-navvy person hande...</td>\n",
              "      <td>not faint-hearted</td>\n",
              "      <td>bad</td>\n",
              "    </tr>\n",
              "  </tbody>\n",
              "</table>\n",
              "</div>"
            ],
            "text/plain": [
              "       reviewerID  ... rating_class\n",
              "0  A1BZ18U2EF4FAI  ...         good\n",
              "1  A3W2CJFXG0158G  ...          bad\n",
              "2  A3F9CBHV4OHFBS  ...         good\n",
              "3   AZHV16QDXACKC  ...          bad\n",
              "4  A231WM2Z2JL0U3  ...          bad\n",
              "\n",
              "[5 rows x 5 columns]"
            ]
          },
          "metadata": {
            "tags": []
          },
          "execution_count": 5
        }
      ]
    },
    {
      "cell_type": "code",
      "metadata": {
        "id": "-oY9xorVJmfe"
      },
      "source": [
        "cleaned_data[\"rating_class\"] = cleaned_data[\"rating_class\"].apply(lambda x: 1 if x==\"good\" else 0)"
      ],
      "execution_count": 6,
      "outputs": []
    },
    {
      "cell_type": "code",
      "metadata": {
        "colab": {
          "base_uri": "https://localhost:8080/",
          "height": 194
        },
        "id": "DDYWwK5nJmff",
        "outputId": "000680f2-7cc9-44ed-ada9-44d1954886ec"
      },
      "source": [
        "cleaned_data.head(5)"
      ],
      "execution_count": 7,
      "outputs": [
        {
          "output_type": "execute_result",
          "data": {
            "text/html": [
              "<div>\n",
              "<style scoped>\n",
              "    .dataframe tbody tr th:only-of-type {\n",
              "        vertical-align: middle;\n",
              "    }\n",
              "\n",
              "    .dataframe tbody tr th {\n",
              "        vertical-align: top;\n",
              "    }\n",
              "\n",
              "    .dataframe thead th {\n",
              "        text-align: right;\n",
              "    }\n",
              "</style>\n",
              "<table border=\"1\" class=\"dataframe\">\n",
              "  <thead>\n",
              "    <tr style=\"text-align: right;\">\n",
              "      <th></th>\n",
              "      <th>reviewerID</th>\n",
              "      <th>reviewText</th>\n",
              "      <th>clean_reviewText</th>\n",
              "      <th>clean_summary</th>\n",
              "      <th>rating_class</th>\n",
              "    </tr>\n",
              "  </thead>\n",
              "  <tbody>\n",
              "    <tr>\n",
              "      <th>0</th>\n",
              "      <td>A1BZ18U2EF4FAI</td>\n",
              "      <td>the nook color is a great tablet. it sometimes...</td>\n",
              "      <td>nook color great tablet sometimes slow still t...</td>\n",
              "      <td>good</td>\n",
              "      <td>1</td>\n",
              "    </tr>\n",
              "    <tr>\n",
              "      <th>1</th>\n",
              "      <td>A3W2CJFXG0158G</td>\n",
              "      <td>1. I have a iPhone3Gs with a case, the cable w...</td>\n",
              "      <td>phone is case win without remove case manage p...</td>\n",
              "      <td>first belkin disappointment</td>\n",
              "      <td>0</td>\n",
              "    </tr>\n",
              "    <tr>\n",
              "      <th>2</th>\n",
              "      <td>A3F9CBHV4OHFBS</td>\n",
              "      <td>I needed this cable to connect my Epson projec...</td>\n",
              "      <td>need connect elson project lawton great price ...</td>\n",
              "      <td>great product especially price</td>\n",
              "      <td>1</td>\n",
              "    </tr>\n",
              "    <tr>\n",
              "      <th>3</th>\n",
              "      <td>AZHV16QDXACKC</td>\n",
              "      <td>i bought these over a year ago hoping that a c...</td>\n",
              "      <td>year ago hop company offer lifetime warranty p...</td>\n",
              "      <td>not great</td>\n",
              "      <td>0</td>\n",
              "    </tr>\n",
              "    <tr>\n",
              "      <th>4</th>\n",
              "      <td>A231WM2Z2JL0U3</td>\n",
              "      <td>or those who shun manuals. I am a fairly compu...</td>\n",
              "      <td>shun manual fairly computer-navvy person hande...</td>\n",
              "      <td>not faint-hearted</td>\n",
              "      <td>0</td>\n",
              "    </tr>\n",
              "  </tbody>\n",
              "</table>\n",
              "</div>"
            ],
            "text/plain": [
              "       reviewerID  ... rating_class\n",
              "0  A1BZ18U2EF4FAI  ...            1\n",
              "1  A3W2CJFXG0158G  ...            0\n",
              "2  A3F9CBHV4OHFBS  ...            1\n",
              "3   AZHV16QDXACKC  ...            0\n",
              "4  A231WM2Z2JL0U3  ...            0\n",
              "\n",
              "[5 rows x 5 columns]"
            ]
          },
          "metadata": {
            "tags": []
          },
          "execution_count": 7
        }
      ]
    },
    {
      "cell_type": "code",
      "metadata": {
        "id": "Lohju65xJmfg"
      },
      "source": [
        "Y = cleaned_data[\"rating_class\"]\n",
        "X = cleaned_data[\"clean_reviewText\"]"
      ],
      "execution_count": 8,
      "outputs": []
    },
    {
      "cell_type": "code",
      "metadata": {
        "id": "B9tfREPhJmfg"
      },
      "source": [
        "tfidf_vect = TfidfVectorizer(ngram_range=(1, 1))\n",
        "X_tfidf = tfidf_vect.fit_transform(X.values.astype(\"U\"))\n",
        "X_tfidf  = X_tfidf.toarray()"
      ],
      "execution_count": 9,
      "outputs": []
    },
    {
      "cell_type": "code",
      "metadata": {
        "id": "z69mdGq8Jmfh"
      },
      "source": [
        "from sklearn.feature_selection import SelectKBest\n",
        "from sklearn.feature_selection import f_classif\n",
        "\n",
        "selectK = SelectKBest(f_classif, k=1000)\n",
        "selectK.fit(X_tfidf, Y)\n",
        "X_sel = selectK.transform(X_tfidf)"
      ],
      "execution_count": 10,
      "outputs": []
    },
    {
      "cell_type": "code",
      "metadata": {
        "id": "0U7NczP7Jmfh"
      },
      "source": [
        "tfidf_vect_train, tfidf_vect_test, Y_train, Y_test = train_test_split(X_sel, Y, test_size=0.2, random_state=42,shuffle=True, stratify = Y)"
      ],
      "execution_count": 11,
      "outputs": []
    },
    {
      "cell_type": "code",
      "metadata": {
        "colab": {
          "base_uri": "https://localhost:8080/"
        },
        "id": "iENks_PCJmfh",
        "outputId": "4d5cad0f-eb5e-4d8b-91bc-c22e58b8ec28"
      },
      "source": [
        "model = xgb.XGBClassifier(n_estimators=100, learning_rate =0.20, max_depth = 30,min_child_weight= 5,gamma = 0.5,colsample_bytree = 0.4)\n",
        "t0 = time.time()\n",
        "eval_s = [(tfidf_vect_train, Y_train), (tfidf_vect_test, Y_test)]\n",
        "model.fit(tfidf_vect_train, Y_train, eval_metric=[\"aucpr\",\"error\"], verbose=True, eval_set = eval_s, early_stopping_rounds=20)\n",
        "t1 = time.time()\n",
        "xg_Ypred = model.predict(tfidf_vect_test)\n",
        "t2 = time.time()\n",
        "xg_time_linear_train = t1-t0\n",
        "xg_time_linear_predict = t2-t1\n",
        "xg_f1Score = f1_score(Y_test, xg_Ypred, average = \"weighted\")"
      ],
      "execution_count": 12,
      "outputs": [
        {
          "output_type": "stream",
          "text": [
            "[0]\tvalidation_0-aucpr:0.775271\tvalidation_0-error:0.29325\tvalidation_1-aucpr:0.69504\tvalidation_1-error:0.359\n",
            "Multiple eval metrics have been passed: 'validation_1-error' will be used for early stopping.\n",
            "\n",
            "Will train until validation_1-error hasn't improved in 20 rounds.\n",
            "[1]\tvalidation_0-aucpr:0.842361\tvalidation_0-error:0.2275\tvalidation_1-aucpr:0.751136\tvalidation_1-error:0.308\n",
            "[2]\tvalidation_0-aucpr:0.874654\tvalidation_0-error:0.19925\tvalidation_1-aucpr:0.784726\tvalidation_1-error:0.279\n",
            "[3]\tvalidation_0-aucpr:0.898486\tvalidation_0-error:0.1785\tvalidation_1-aucpr:0.800627\tvalidation_1-error:0.261\n",
            "[4]\tvalidation_0-aucpr:0.909085\tvalidation_0-error:0.16575\tvalidation_1-aucpr:0.802882\tvalidation_1-error:0.263\n",
            "[5]\tvalidation_0-aucpr:0.918584\tvalidation_0-error:0.15425\tvalidation_1-aucpr:0.813667\tvalidation_1-error:0.247\n",
            "[6]\tvalidation_0-aucpr:0.925826\tvalidation_0-error:0.146\tvalidation_1-aucpr:0.816835\tvalidation_1-error:0.249\n",
            "[7]\tvalidation_0-aucpr:0.933962\tvalidation_0-error:0.14\tvalidation_1-aucpr:0.825727\tvalidation_1-error:0.238\n",
            "[8]\tvalidation_0-aucpr:0.939976\tvalidation_0-error:0.1305\tvalidation_1-aucpr:0.82535\tvalidation_1-error:0.244\n",
            "[9]\tvalidation_0-aucpr:0.944928\tvalidation_0-error:0.12575\tvalidation_1-aucpr:0.825627\tvalidation_1-error:0.24\n",
            "[10]\tvalidation_0-aucpr:0.946938\tvalidation_0-error:0.11975\tvalidation_1-aucpr:0.826941\tvalidation_1-error:0.238\n",
            "[11]\tvalidation_0-aucpr:0.948881\tvalidation_0-error:0.11675\tvalidation_1-aucpr:0.832314\tvalidation_1-error:0.233\n",
            "[12]\tvalidation_0-aucpr:0.952084\tvalidation_0-error:0.11175\tvalidation_1-aucpr:0.838658\tvalidation_1-error:0.231\n",
            "[13]\tvalidation_0-aucpr:0.954507\tvalidation_0-error:0.1095\tvalidation_1-aucpr:0.839892\tvalidation_1-error:0.232\n",
            "[14]\tvalidation_0-aucpr:0.957058\tvalidation_0-error:0.10675\tvalidation_1-aucpr:0.838573\tvalidation_1-error:0.233\n",
            "[15]\tvalidation_0-aucpr:0.959644\tvalidation_0-error:0.09875\tvalidation_1-aucpr:0.842609\tvalidation_1-error:0.235\n",
            "[16]\tvalidation_0-aucpr:0.96217\tvalidation_0-error:0.09625\tvalidation_1-aucpr:0.845675\tvalidation_1-error:0.235\n",
            "[17]\tvalidation_0-aucpr:0.963249\tvalidation_0-error:0.09175\tvalidation_1-aucpr:0.848751\tvalidation_1-error:0.225\n",
            "[18]\tvalidation_0-aucpr:0.964277\tvalidation_0-error:0.09175\tvalidation_1-aucpr:0.852176\tvalidation_1-error:0.221\n",
            "[19]\tvalidation_0-aucpr:0.96541\tvalidation_0-error:0.09\tvalidation_1-aucpr:0.851629\tvalidation_1-error:0.222\n",
            "[20]\tvalidation_0-aucpr:0.967087\tvalidation_0-error:0.0885\tvalidation_1-aucpr:0.854384\tvalidation_1-error:0.22\n",
            "[21]\tvalidation_0-aucpr:0.968766\tvalidation_0-error:0.0855\tvalidation_1-aucpr:0.85546\tvalidation_1-error:0.223\n",
            "[22]\tvalidation_0-aucpr:0.969632\tvalidation_0-error:0.082\tvalidation_1-aucpr:0.855883\tvalidation_1-error:0.225\n",
            "[23]\tvalidation_0-aucpr:0.970927\tvalidation_0-error:0.08425\tvalidation_1-aucpr:0.860425\tvalidation_1-error:0.222\n",
            "[24]\tvalidation_0-aucpr:0.971567\tvalidation_0-error:0.07975\tvalidation_1-aucpr:0.863193\tvalidation_1-error:0.223\n",
            "[25]\tvalidation_0-aucpr:0.972201\tvalidation_0-error:0.07675\tvalidation_1-aucpr:0.864044\tvalidation_1-error:0.217\n",
            "[26]\tvalidation_0-aucpr:0.973102\tvalidation_0-error:0.07475\tvalidation_1-aucpr:0.863483\tvalidation_1-error:0.214\n",
            "[27]\tvalidation_0-aucpr:0.973613\tvalidation_0-error:0.0745\tvalidation_1-aucpr:0.862663\tvalidation_1-error:0.219\n",
            "[28]\tvalidation_0-aucpr:0.974527\tvalidation_0-error:0.0705\tvalidation_1-aucpr:0.862515\tvalidation_1-error:0.219\n",
            "[29]\tvalidation_0-aucpr:0.975191\tvalidation_0-error:0.07075\tvalidation_1-aucpr:0.864484\tvalidation_1-error:0.222\n",
            "[30]\tvalidation_0-aucpr:0.9758\tvalidation_0-error:0.072\tvalidation_1-aucpr:0.863342\tvalidation_1-error:0.221\n",
            "[31]\tvalidation_0-aucpr:0.976008\tvalidation_0-error:0.0695\tvalidation_1-aucpr:0.864726\tvalidation_1-error:0.214\n",
            "[32]\tvalidation_0-aucpr:0.976591\tvalidation_0-error:0.06925\tvalidation_1-aucpr:0.86567\tvalidation_1-error:0.216\n",
            "[33]\tvalidation_0-aucpr:0.977063\tvalidation_0-error:0.0675\tvalidation_1-aucpr:0.866094\tvalidation_1-error:0.215\n",
            "[34]\tvalidation_0-aucpr:0.977715\tvalidation_0-error:0.06825\tvalidation_1-aucpr:0.866841\tvalidation_1-error:0.215\n",
            "[35]\tvalidation_0-aucpr:0.978088\tvalidation_0-error:0.0675\tvalidation_1-aucpr:0.866285\tvalidation_1-error:0.214\n",
            "[36]\tvalidation_0-aucpr:0.978425\tvalidation_0-error:0.06575\tvalidation_1-aucpr:0.86564\tvalidation_1-error:0.214\n",
            "[37]\tvalidation_0-aucpr:0.979079\tvalidation_0-error:0.0645\tvalidation_1-aucpr:0.865942\tvalidation_1-error:0.217\n",
            "[38]\tvalidation_0-aucpr:0.979743\tvalidation_0-error:0.064\tvalidation_1-aucpr:0.866638\tvalidation_1-error:0.215\n",
            "[39]\tvalidation_0-aucpr:0.980242\tvalidation_0-error:0.0625\tvalidation_1-aucpr:0.866312\tvalidation_1-error:0.213\n",
            "[40]\tvalidation_0-aucpr:0.980664\tvalidation_0-error:0.062\tvalidation_1-aucpr:0.866729\tvalidation_1-error:0.211\n",
            "[41]\tvalidation_0-aucpr:0.981035\tvalidation_0-error:0.06275\tvalidation_1-aucpr:0.867332\tvalidation_1-error:0.212\n",
            "[42]\tvalidation_0-aucpr:0.981416\tvalidation_0-error:0.0605\tvalidation_1-aucpr:0.867498\tvalidation_1-error:0.216\n",
            "[43]\tvalidation_0-aucpr:0.981835\tvalidation_0-error:0.0605\tvalidation_1-aucpr:0.868265\tvalidation_1-error:0.21\n",
            "[44]\tvalidation_0-aucpr:0.98215\tvalidation_0-error:0.05975\tvalidation_1-aucpr:0.867656\tvalidation_1-error:0.213\n",
            "[45]\tvalidation_0-aucpr:0.982558\tvalidation_0-error:0.059\tvalidation_1-aucpr:0.868448\tvalidation_1-error:0.213\n",
            "[46]\tvalidation_0-aucpr:0.983106\tvalidation_0-error:0.05975\tvalidation_1-aucpr:0.867777\tvalidation_1-error:0.216\n",
            "[47]\tvalidation_0-aucpr:0.983567\tvalidation_0-error:0.059\tvalidation_1-aucpr:0.868033\tvalidation_1-error:0.216\n",
            "[48]\tvalidation_0-aucpr:0.984075\tvalidation_0-error:0.05925\tvalidation_1-aucpr:0.869057\tvalidation_1-error:0.214\n",
            "[49]\tvalidation_0-aucpr:0.984436\tvalidation_0-error:0.05725\tvalidation_1-aucpr:0.868894\tvalidation_1-error:0.212\n",
            "[50]\tvalidation_0-aucpr:0.984684\tvalidation_0-error:0.0575\tvalidation_1-aucpr:0.868687\tvalidation_1-error:0.211\n",
            "[51]\tvalidation_0-aucpr:0.984928\tvalidation_0-error:0.05675\tvalidation_1-aucpr:0.869324\tvalidation_1-error:0.207\n",
            "[52]\tvalidation_0-aucpr:0.985148\tvalidation_0-error:0.05625\tvalidation_1-aucpr:0.869673\tvalidation_1-error:0.209\n",
            "[53]\tvalidation_0-aucpr:0.985536\tvalidation_0-error:0.05575\tvalidation_1-aucpr:0.869099\tvalidation_1-error:0.21\n",
            "[54]\tvalidation_0-aucpr:0.985916\tvalidation_0-error:0.054\tvalidation_1-aucpr:0.86859\tvalidation_1-error:0.209\n",
            "[55]\tvalidation_0-aucpr:0.98622\tvalidation_0-error:0.053\tvalidation_1-aucpr:0.867986\tvalidation_1-error:0.207\n",
            "[56]\tvalidation_0-aucpr:0.98642\tvalidation_0-error:0.0515\tvalidation_1-aucpr:0.867528\tvalidation_1-error:0.211\n",
            "[57]\tvalidation_0-aucpr:0.986776\tvalidation_0-error:0.04975\tvalidation_1-aucpr:0.867917\tvalidation_1-error:0.211\n",
            "[58]\tvalidation_0-aucpr:0.987113\tvalidation_0-error:0.0495\tvalidation_1-aucpr:0.867988\tvalidation_1-error:0.208\n",
            "[59]\tvalidation_0-aucpr:0.987378\tvalidation_0-error:0.0485\tvalidation_1-aucpr:0.866874\tvalidation_1-error:0.205\n",
            "[60]\tvalidation_0-aucpr:0.987524\tvalidation_0-error:0.048\tvalidation_1-aucpr:0.86694\tvalidation_1-error:0.203\n",
            "[61]\tvalidation_0-aucpr:0.987769\tvalidation_0-error:0.0465\tvalidation_1-aucpr:0.867326\tvalidation_1-error:0.205\n",
            "[62]\tvalidation_0-aucpr:0.987916\tvalidation_0-error:0.045\tvalidation_1-aucpr:0.867405\tvalidation_1-error:0.205\n",
            "[63]\tvalidation_0-aucpr:0.988188\tvalidation_0-error:0.0465\tvalidation_1-aucpr:0.867627\tvalidation_1-error:0.203\n",
            "[64]\tvalidation_0-aucpr:0.988411\tvalidation_0-error:0.04475\tvalidation_1-aucpr:0.867662\tvalidation_1-error:0.204\n",
            "[65]\tvalidation_0-aucpr:0.988629\tvalidation_0-error:0.04475\tvalidation_1-aucpr:0.867625\tvalidation_1-error:0.206\n",
            "[66]\tvalidation_0-aucpr:0.988812\tvalidation_0-error:0.04325\tvalidation_1-aucpr:0.867377\tvalidation_1-error:0.209\n",
            "[67]\tvalidation_0-aucpr:0.989086\tvalidation_0-error:0.04375\tvalidation_1-aucpr:0.866684\tvalidation_1-error:0.211\n",
            "[68]\tvalidation_0-aucpr:0.989279\tvalidation_0-error:0.04275\tvalidation_1-aucpr:0.86663\tvalidation_1-error:0.211\n",
            "[69]\tvalidation_0-aucpr:0.989473\tvalidation_0-error:0.04275\tvalidation_1-aucpr:0.867484\tvalidation_1-error:0.21\n",
            "[70]\tvalidation_0-aucpr:0.98974\tvalidation_0-error:0.042\tvalidation_1-aucpr:0.868042\tvalidation_1-error:0.21\n",
            "[71]\tvalidation_0-aucpr:0.989923\tvalidation_0-error:0.0425\tvalidation_1-aucpr:0.867859\tvalidation_1-error:0.213\n",
            "[72]\tvalidation_0-aucpr:0.990116\tvalidation_0-error:0.042\tvalidation_1-aucpr:0.868343\tvalidation_1-error:0.207\n",
            "[73]\tvalidation_0-aucpr:0.990198\tvalidation_0-error:0.0425\tvalidation_1-aucpr:0.868759\tvalidation_1-error:0.208\n",
            "[74]\tvalidation_0-aucpr:0.990429\tvalidation_0-error:0.0415\tvalidation_1-aucpr:0.869008\tvalidation_1-error:0.212\n",
            "[75]\tvalidation_0-aucpr:0.990618\tvalidation_0-error:0.04175\tvalidation_1-aucpr:0.867755\tvalidation_1-error:0.212\n",
            "[76]\tvalidation_0-aucpr:0.990644\tvalidation_0-error:0.04175\tvalidation_1-aucpr:0.868228\tvalidation_1-error:0.21\n",
            "[77]\tvalidation_0-aucpr:0.990805\tvalidation_0-error:0.041\tvalidation_1-aucpr:0.867984\tvalidation_1-error:0.211\n",
            "[78]\tvalidation_0-aucpr:0.99101\tvalidation_0-error:0.04125\tvalidation_1-aucpr:0.868407\tvalidation_1-error:0.21\n",
            "[79]\tvalidation_0-aucpr:0.991138\tvalidation_0-error:0.04125\tvalidation_1-aucpr:0.867901\tvalidation_1-error:0.21\n",
            "[80]\tvalidation_0-aucpr:0.991244\tvalidation_0-error:0.04125\tvalidation_1-aucpr:0.867909\tvalidation_1-error:0.212\n",
            "Stopping. Best iteration:\n",
            "[60]\tvalidation_0-aucpr:0.987524\tvalidation_0-error:0.048\tvalidation_1-aucpr:0.86694\tvalidation_1-error:0.203\n",
            "\n"
          ],
          "name": "stdout"
        }
      ]
    },
    {
      "cell_type": "code",
      "metadata": {
        "id": "nBH9u8V4Jmfi"
      },
      "source": [
        "data_dmatrix = xgb.DMatrix(data=tfidf_vect_train,label=Y_train)"
      ],
      "execution_count": 13,
      "outputs": []
    },
    {
      "cell_type": "code",
      "metadata": {
        "id": "APgDtk-0Jmfi"
      },
      "source": [
        "params =  {\"objective\":\"binary:logistic\",'colsample_bytree': 0.4,'learning_rate': 0.20,\n",
        "                'max_depth': 30, 'gamma': 0.5}\n",
        "cv_result = xgb.cv(dtrain=data_dmatrix, params=params, nfold=3,\n",
        "                    num_boost_round=50,early_stopping_rounds=10,metrics=\"error\", as_pandas=True, seed=123)"
      ],
      "execution_count": 14,
      "outputs": []
    },
    {
      "cell_type": "code",
      "metadata": {
        "colab": {
          "base_uri": "https://localhost:8080/",
          "height": 194
        },
        "id": "vhXx3ll7Jmfj",
        "outputId": "1eade6e2-4e3c-4776-e92f-c31a6c81bb9f"
      },
      "source": [
        "cv_result.head()"
      ],
      "execution_count": 15,
      "outputs": [
        {
          "output_type": "execute_result",
          "data": {
            "text/html": [
              "<div>\n",
              "<style scoped>\n",
              "    .dataframe tbody tr th:only-of-type {\n",
              "        vertical-align: middle;\n",
              "    }\n",
              "\n",
              "    .dataframe tbody tr th {\n",
              "        vertical-align: top;\n",
              "    }\n",
              "\n",
              "    .dataframe thead th {\n",
              "        text-align: right;\n",
              "    }\n",
              "</style>\n",
              "<table border=\"1\" class=\"dataframe\">\n",
              "  <thead>\n",
              "    <tr style=\"text-align: right;\">\n",
              "      <th></th>\n",
              "      <th>train-error-mean</th>\n",
              "      <th>train-error-std</th>\n",
              "      <th>test-error-mean</th>\n",
              "      <th>test-error-std</th>\n",
              "    </tr>\n",
              "  </thead>\n",
              "  <tbody>\n",
              "    <tr>\n",
              "      <th>0</th>\n",
              "      <td>0.233749</td>\n",
              "      <td>0.010828</td>\n",
              "      <td>0.368749</td>\n",
              "      <td>0.011752</td>\n",
              "    </tr>\n",
              "    <tr>\n",
              "      <th>1</th>\n",
              "      <td>0.153500</td>\n",
              "      <td>0.003412</td>\n",
              "      <td>0.322748</td>\n",
              "      <td>0.016404</td>\n",
              "    </tr>\n",
              "    <tr>\n",
              "      <th>2</th>\n",
              "      <td>0.130001</td>\n",
              "      <td>0.007576</td>\n",
              "      <td>0.296002</td>\n",
              "      <td>0.014594</td>\n",
              "    </tr>\n",
              "    <tr>\n",
              "      <th>3</th>\n",
              "      <td>0.110124</td>\n",
              "      <td>0.005890</td>\n",
              "      <td>0.282755</td>\n",
              "      <td>0.018603</td>\n",
              "    </tr>\n",
              "    <tr>\n",
              "      <th>4</th>\n",
              "      <td>0.092125</td>\n",
              "      <td>0.004165</td>\n",
              "      <td>0.272754</td>\n",
              "      <td>0.012249</td>\n",
              "    </tr>\n",
              "  </tbody>\n",
              "</table>\n",
              "</div>"
            ],
            "text/plain": [
              "   train-error-mean  train-error-std  test-error-mean  test-error-std\n",
              "0          0.233749         0.010828         0.368749        0.011752\n",
              "1          0.153500         0.003412         0.322748        0.016404\n",
              "2          0.130001         0.007576         0.296002        0.014594\n",
              "3          0.110124         0.005890         0.282755        0.018603\n",
              "4          0.092125         0.004165         0.272754        0.012249"
            ]
          },
          "metadata": {
            "tags": []
          },
          "execution_count": 15
        }
      ]
    },
    {
      "cell_type": "code",
      "metadata": {
        "colab": {
          "base_uri": "https://localhost:8080/"
        },
        "id": "xUrM0b_7Jmfj",
        "outputId": "95725f8c-9cce-4627-add5-e71990970775"
      },
      "source": [
        "print(\"Training time: %fs; Prediction time: %fs\" % (xg_time_linear_train, xg_time_linear_predict))"
      ],
      "execution_count": 16,
      "outputs": [
        {
          "output_type": "stream",
          "text": [
            "Training time: 30.730822s; Prediction time: 0.019425s\n"
          ],
          "name": "stdout"
        }
      ]
    },
    {
      "cell_type": "code",
      "metadata": {
        "colab": {
          "base_uri": "https://localhost:8080/",
          "height": 283
        },
        "id": "lU0Hreo1Jmfk",
        "outputId": "bfc5cd32-0499-4097-90b1-9ddf5d4f92e1"
      },
      "source": [
        "import seaborn as sns\n",
        "import numpy as np \n",
        "\n",
        "cf_matrix = metrics.confusion_matrix(Y_test, xg_Ypred)\n",
        "group_names = ['True Neg','False Pos','False Neg','True Pos']\n",
        "group_counts = ['{0:0.0f}'.format(value) for value in\n",
        "                cf_matrix.flatten()]\n",
        "group_percentages = ['{0:.2%}'.format(value) for value in\n",
        "                     cf_matrix.flatten()/np.sum(cf_matrix)]\n",
        "labels = [f\"{v1}\\n{v2}\\n{v3}\" for v1, v2, v3 in\n",
        "          zip(group_names,group_counts,group_percentages)]\n",
        "labels = np.asarray(labels).reshape(2,2)\n",
        "sns.heatmap(cf_matrix, annot=labels, fmt='', cmap='Blues')"
      ],
      "execution_count": 17,
      "outputs": [
        {
          "output_type": "execute_result",
          "data": {
            "text/plain": [
              "<matplotlib.axes._subplots.AxesSubplot at 0x7f9271eb8910>"
            ]
          },
          "metadata": {
            "tags": []
          },
          "execution_count": 17
        },
        {
          "output_type": "display_data",
          "data": {
            "image/png": "[encoded data removed]",
            "text/plain": [
              "<Figure size 432x288 with 2 Axes>"
            ]
          },
          "metadata": {
            "tags": [],
            "needs_background": "light"
          }
        }
      ]
    },
    {
      "cell_type": "code",
      "metadata": {
        "colab": {
          "base_uri": "https://localhost:8080/"
        },
        "id": "YiqI4Nd3Jmfk",
        "outputId": "025f5155-f3f5-49a0-b19e-f993e89324f7"
      },
      "source": [
        "xg_f1Score"
      ],
      "execution_count": 18,
      "outputs": [
        {
          "output_type": "execute_result",
          "data": {
            "text/plain": [
              "0.7969104375029388"
            ]
          },
          "metadata": {
            "tags": []
          },
          "execution_count": 18
        }
      ]
    },
    {
      "cell_type": "code",
      "metadata": {
        "colab": {
          "base_uri": "https://localhost:8080/"
        },
        "id": "7w8jUR--Jmfk",
        "outputId": "7f6d9256-32ce-437f-d3c9-da7e923ca2b0"
      },
      "source": [
        "model = CatBoostClassifier(iterations=300, learning_rate=0.1, max_depth = 8)\n",
        "t0 = time.time()\n",
        "model.fit(tfidf_vect_train, Y_train)\n",
        "t1 = time.time()\n",
        "cat_Ypred = model.predict(tfidf_vect_test)\n",
        "t2 = time.time()\n",
        "cat_time_linear_train = t1-t0\n",
        "cat_time_linear_predict = t2-t1\n",
        "cat_f1Score = f1_score(Y_test, cat_Ypred, average = \"weighted\")"
      ],
      "execution_count": 19,
      "outputs": [
        {
          "output_type": "stream",
          "text": [
            "0:\tlearn: 0.6760537\ttotal: 592ms\tremaining: 2m 56s\n",
            "1:\tlearn: 0.6548140\ttotal: 868ms\tremaining: 2m 9s\n",
            "2:\tlearn: 0.6447067\ttotal: 1.14s\tremaining: 1m 52s\n",
            "3:\tlearn: 0.6300647\ttotal: 1.41s\tremaining: 1m 44s\n",
            "4:\tlearn: 0.6179865\ttotal: 1.7s\tremaining: 1m 40s\n",
            "5:\tlearn: 0.6073360\ttotal: 1.97s\tremaining: 1m 36s\n",
            "6:\tlearn: 0.5977972\ttotal: 2.23s\tremaining: 1m 33s\n",
            "7:\tlearn: 0.5892094\ttotal: 2.5s\tremaining: 1m 31s\n",
            "8:\tlearn: 0.5817280\ttotal: 2.78s\tremaining: 1m 29s\n",
            "9:\tlearn: 0.5743804\ttotal: 3.06s\tremaining: 1m 28s\n",
            "10:\tlearn: 0.5696996\ttotal: 3.33s\tremaining: 1m 27s\n",
            "11:\tlearn: 0.5644111\ttotal: 3.6s\tremaining: 1m 26s\n",
            "12:\tlearn: 0.5607004\ttotal: 3.88s\tremaining: 1m 25s\n",
            "13:\tlearn: 0.5561395\ttotal: 4.14s\tremaining: 1m 24s\n",
            "14:\tlearn: 0.5515005\ttotal: 4.42s\tremaining: 1m 24s\n",
            "15:\tlearn: 0.5473616\ttotal: 4.72s\tremaining: 1m 23s\n",
            "16:\tlearn: 0.5431200\ttotal: 5s\tremaining: 1m 23s\n",
            "17:\tlearn: 0.5397574\ttotal: 5.27s\tremaining: 1m 22s\n",
            "18:\tlearn: 0.5361742\ttotal: 5.54s\tremaining: 1m 21s\n",
            "19:\tlearn: 0.5312775\ttotal: 5.82s\tremaining: 1m 21s\n",
            "20:\tlearn: 0.5277758\ttotal: 6.09s\tremaining: 1m 20s\n",
            "21:\tlearn: 0.5232807\ttotal: 6.36s\tremaining: 1m 20s\n",
            "22:\tlearn: 0.5197912\ttotal: 6.64s\tremaining: 1m 19s\n",
            "23:\tlearn: 0.5163450\ttotal: 6.92s\tremaining: 1m 19s\n",
            "24:\tlearn: 0.5134838\ttotal: 7.19s\tremaining: 1m 19s\n",
            "25:\tlearn: 0.5105082\ttotal: 7.47s\tremaining: 1m 18s\n",
            "26:\tlearn: 0.5069346\ttotal: 7.74s\tremaining: 1m 18s\n",
            "27:\tlearn: 0.5038354\ttotal: 8.01s\tremaining: 1m 17s\n",
            "28:\tlearn: 0.5012298\ttotal: 8.28s\tremaining: 1m 17s\n",
            "29:\tlearn: 0.4984587\ttotal: 8.55s\tremaining: 1m 16s\n",
            "30:\tlearn: 0.4951726\ttotal: 8.82s\tremaining: 1m 16s\n",
            "31:\tlearn: 0.4919828\ttotal: 9.09s\tremaining: 1m 16s\n",
            "32:\tlearn: 0.4892090\ttotal: 9.37s\tremaining: 1m 15s\n",
            "33:\tlearn: 0.4866897\ttotal: 9.64s\tremaining: 1m 15s\n",
            "34:\tlearn: 0.4844252\ttotal: 9.92s\tremaining: 1m 15s\n",
            "35:\tlearn: 0.4815868\ttotal: 10.2s\tremaining: 1m 14s\n",
            "36:\tlearn: 0.4786734\ttotal: 10.5s\tremaining: 1m 14s\n",
            "37:\tlearn: 0.4763885\ttotal: 10.7s\tremaining: 1m 13s\n",
            "38:\tlearn: 0.4740517\ttotal: 11s\tremaining: 1m 13s\n",
            "39:\tlearn: 0.4717152\ttotal: 11.3s\tremaining: 1m 13s\n",
            "40:\tlearn: 0.4690395\ttotal: 11.6s\tremaining: 1m 12s\n",
            "41:\tlearn: 0.4667911\ttotal: 11.8s\tremaining: 1m 12s\n",
            "42:\tlearn: 0.4648626\ttotal: 12.1s\tremaining: 1m 12s\n",
            "43:\tlearn: 0.4633439\ttotal: 12.4s\tremaining: 1m 11s\n",
            "44:\tlearn: 0.4613177\ttotal: 12.6s\tremaining: 1m 11s\n",
            "45:\tlearn: 0.4591159\ttotal: 12.9s\tremaining: 1m 11s\n",
            "46:\tlearn: 0.4569172\ttotal: 13.2s\tremaining: 1m 10s\n",
            "47:\tlearn: 0.4547877\ttotal: 13.5s\tremaining: 1m 10s\n",
            "48:\tlearn: 0.4526504\ttotal: 13.7s\tremaining: 1m 10s\n",
            "49:\tlearn: 0.4501745\ttotal: 14s\tremaining: 1m 10s\n",
            "50:\tlearn: 0.4481342\ttotal: 14.3s\tremaining: 1m 9s\n",
            "51:\tlearn: 0.4464830\ttotal: 14.6s\tremaining: 1m 9s\n",
            "52:\tlearn: 0.4443074\ttotal: 14.8s\tremaining: 1m 9s\n",
            "53:\tlearn: 0.4427219\ttotal: 15.1s\tremaining: 1m 8s\n",
            "54:\tlearn: 0.4407604\ttotal: 15.4s\tremaining: 1m 8s\n",
            "55:\tlearn: 0.4390200\ttotal: 15.7s\tremaining: 1m 8s\n",
            "56:\tlearn: 0.4371039\ttotal: 15.9s\tremaining: 1m 7s\n",
            "57:\tlearn: 0.4354854\ttotal: 16.2s\tremaining: 1m 7s\n",
            "58:\tlearn: 0.4337272\ttotal: 16.5s\tremaining: 1m 7s\n",
            "59:\tlearn: 0.4322252\ttotal: 16.8s\tremaining: 1m 7s\n",
            "60:\tlearn: 0.4300492\ttotal: 17s\tremaining: 1m 6s\n",
            "61:\tlearn: 0.4284076\ttotal: 17.3s\tremaining: 1m 6s\n",
            "62:\tlearn: 0.4267026\ttotal: 17.6s\tremaining: 1m 6s\n",
            "63:\tlearn: 0.4250687\ttotal: 17.9s\tremaining: 1m 5s\n",
            "64:\tlearn: 0.4237855\ttotal: 18.2s\tremaining: 1m 5s\n",
            "65:\tlearn: 0.4222731\ttotal: 18.4s\tremaining: 1m 5s\n",
            "66:\tlearn: 0.4209033\ttotal: 18.7s\tremaining: 1m 5s\n",
            "67:\tlearn: 0.4194708\ttotal: 19s\tremaining: 1m 4s\n",
            "68:\tlearn: 0.4178360\ttotal: 19.2s\tremaining: 1m 4s\n",
            "69:\tlearn: 0.4166269\ttotal: 19.5s\tremaining: 1m 4s\n",
            "70:\tlearn: 0.4147386\ttotal: 19.8s\tremaining: 1m 3s\n",
            "71:\tlearn: 0.4129638\ttotal: 20s\tremaining: 1m 3s\n",
            "72:\tlearn: 0.4115190\ttotal: 20.3s\tremaining: 1m 3s\n",
            "73:\tlearn: 0.4095655\ttotal: 20.6s\tremaining: 1m 2s\n",
            "74:\tlearn: 0.4079986\ttotal: 20.9s\tremaining: 1m 2s\n",
            "75:\tlearn: 0.4062887\ttotal: 21.1s\tremaining: 1m 2s\n",
            "76:\tlearn: 0.4047322\ttotal: 21.4s\tremaining: 1m 2s\n",
            "77:\tlearn: 0.4033739\ttotal: 21.7s\tremaining: 1m 1s\n",
            "78:\tlearn: 0.4018242\ttotal: 21.9s\tremaining: 1m 1s\n",
            "79:\tlearn: 0.4000392\ttotal: 22.2s\tremaining: 1m 1s\n",
            "80:\tlearn: 0.3981976\ttotal: 22.5s\tremaining: 1m\n",
            "81:\tlearn: 0.3964953\ttotal: 22.8s\tremaining: 1m\n",
            "82:\tlearn: 0.3951054\ttotal: 23s\tremaining: 1m\n",
            "83:\tlearn: 0.3935327\ttotal: 23.3s\tremaining: 59.9s\n",
            "84:\tlearn: 0.3918437\ttotal: 23.6s\tremaining: 59.6s\n",
            "85:\tlearn: 0.3898056\ttotal: 23.8s\tremaining: 59.3s\n",
            "86:\tlearn: 0.3882467\ttotal: 24.1s\tremaining: 59s\n",
            "87:\tlearn: 0.3864758\ttotal: 24.4s\tremaining: 58.8s\n",
            "88:\tlearn: 0.3847737\ttotal: 24.7s\tremaining: 58.5s\n",
            "89:\tlearn: 0.3832642\ttotal: 24.9s\tremaining: 58.2s\n",
            "90:\tlearn: 0.3813107\ttotal: 25.2s\tremaining: 57.9s\n",
            "91:\tlearn: 0.3790262\ttotal: 25.5s\tremaining: 57.6s\n",
            "92:\tlearn: 0.3775620\ttotal: 25.8s\tremaining: 57.3s\n",
            "93:\tlearn: 0.3758362\ttotal: 26s\tremaining: 57s\n",
            "94:\tlearn: 0.3739661\ttotal: 26.3s\tremaining: 56.8s\n",
            "95:\tlearn: 0.3721194\ttotal: 26.6s\tremaining: 56.5s\n",
            "96:\tlearn: 0.3705115\ttotal: 26.8s\tremaining: 56.2s\n",
            "97:\tlearn: 0.3687031\ttotal: 27.1s\tremaining: 55.9s\n",
            "98:\tlearn: 0.3666209\ttotal: 27.4s\tremaining: 55.6s\n",
            "99:\tlearn: 0.3645666\ttotal: 27.7s\tremaining: 55.3s\n",
            "100:\tlearn: 0.3629482\ttotal: 27.9s\tremaining: 55s\n",
            "101:\tlearn: 0.3608764\ttotal: 28.2s\tremaining: 54.7s\n",
            "102:\tlearn: 0.3599065\ttotal: 28.5s\tremaining: 54.5s\n",
            "103:\tlearn: 0.3582938\ttotal: 28.7s\tremaining: 54.2s\n",
            "104:\tlearn: 0.3565669\ttotal: 29s\tremaining: 53.9s\n",
            "105:\tlearn: 0.3544672\ttotal: 29.3s\tremaining: 53.6s\n",
            "106:\tlearn: 0.3529241\ttotal: 29.6s\tremaining: 53.3s\n",
            "107:\tlearn: 0.3513515\ttotal: 29.8s\tremaining: 53s\n",
            "108:\tlearn: 0.3491033\ttotal: 30.1s\tremaining: 52.7s\n",
            "109:\tlearn: 0.3473926\ttotal: 30.4s\tremaining: 52.5s\n",
            "110:\tlearn: 0.3452665\ttotal: 30.7s\tremaining: 52.2s\n",
            "111:\tlearn: 0.3432946\ttotal: 30.9s\tremaining: 51.9s\n",
            "112:\tlearn: 0.3413947\ttotal: 31.2s\tremaining: 51.6s\n",
            "113:\tlearn: 0.3398520\ttotal: 31.5s\tremaining: 51.4s\n",
            "114:\tlearn: 0.3380748\ttotal: 31.8s\tremaining: 51.1s\n",
            "115:\tlearn: 0.3363297\ttotal: 32s\tremaining: 50.8s\n",
            "116:\tlearn: 0.3349280\ttotal: 32.3s\tremaining: 50.5s\n",
            "117:\tlearn: 0.3334790\ttotal: 32.6s\tremaining: 50.2s\n",
            "118:\tlearn: 0.3322957\ttotal: 32.8s\tremaining: 49.9s\n",
            "119:\tlearn: 0.3307749\ttotal: 33.1s\tremaining: 49.7s\n",
            "120:\tlearn: 0.3293728\ttotal: 33.4s\tremaining: 49.4s\n",
            "121:\tlearn: 0.3284490\ttotal: 33.7s\tremaining: 49.1s\n",
            "122:\tlearn: 0.3266583\ttotal: 33.9s\tremaining: 48.8s\n",
            "123:\tlearn: 0.3252662\ttotal: 34.2s\tremaining: 48.6s\n",
            "124:\tlearn: 0.3235448\ttotal: 34.5s\tremaining: 48.3s\n",
            "125:\tlearn: 0.3218517\ttotal: 34.8s\tremaining: 48s\n",
            "126:\tlearn: 0.3209693\ttotal: 35s\tremaining: 47.7s\n",
            "127:\tlearn: 0.3197654\ttotal: 35.3s\tremaining: 47.4s\n",
            "128:\tlearn: 0.3180409\ttotal: 35.6s\tremaining: 47.2s\n",
            "129:\tlearn: 0.3165034\ttotal: 35.9s\tremaining: 46.9s\n",
            "130:\tlearn: 0.3150778\ttotal: 36.1s\tremaining: 46.6s\n",
            "131:\tlearn: 0.3133221\ttotal: 36.4s\tremaining: 46.4s\n",
            "132:\tlearn: 0.3118980\ttotal: 36.7s\tremaining: 46.1s\n",
            "133:\tlearn: 0.3105705\ttotal: 37s\tremaining: 45.8s\n",
            "134:\tlearn: 0.3089441\ttotal: 37.2s\tremaining: 45.5s\n",
            "135:\tlearn: 0.3078304\ttotal: 37.5s\tremaining: 45.2s\n",
            "136:\tlearn: 0.3063784\ttotal: 37.8s\tremaining: 45s\n",
            "137:\tlearn: 0.3052979\ttotal: 38.1s\tremaining: 44.7s\n",
            "138:\tlearn: 0.3039411\ttotal: 38.3s\tremaining: 44.4s\n",
            "139:\tlearn: 0.3027704\ttotal: 38.6s\tremaining: 44.1s\n",
            "140:\tlearn: 0.3014914\ttotal: 38.9s\tremaining: 43.9s\n",
            "141:\tlearn: 0.3006154\ttotal: 39.2s\tremaining: 43.6s\n",
            "142:\tlearn: 0.2992308\ttotal: 39.4s\tremaining: 43.3s\n",
            "143:\tlearn: 0.2985077\ttotal: 39.7s\tremaining: 43s\n",
            "144:\tlearn: 0.2977828\ttotal: 40s\tremaining: 42.7s\n",
            "145:\tlearn: 0.2966144\ttotal: 40.3s\tremaining: 42.5s\n",
            "146:\tlearn: 0.2953681\ttotal: 40.5s\tremaining: 42.2s\n",
            "147:\tlearn: 0.2944046\ttotal: 40.8s\tremaining: 41.9s\n",
            "148:\tlearn: 0.2929392\ttotal: 41.1s\tremaining: 41.6s\n",
            "149:\tlearn: 0.2917660\ttotal: 41.3s\tremaining: 41.3s\n",
            "150:\tlearn: 0.2905261\ttotal: 41.6s\tremaining: 41.1s\n",
            "151:\tlearn: 0.2891215\ttotal: 41.9s\tremaining: 40.8s\n",
            "152:\tlearn: 0.2878067\ttotal: 42.2s\tremaining: 40.5s\n",
            "153:\tlearn: 0.2876072\ttotal: 42.4s\tremaining: 40.2s\n",
            "154:\tlearn: 0.2865154\ttotal: 42.7s\tremaining: 39.9s\n",
            "155:\tlearn: 0.2854639\ttotal: 43s\tremaining: 39.7s\n",
            "156:\tlearn: 0.2843377\ttotal: 43.2s\tremaining: 39.4s\n",
            "157:\tlearn: 0.2836651\ttotal: 43.5s\tremaining: 39.1s\n",
            "158:\tlearn: 0.2824995\ttotal: 43.7s\tremaining: 38.7s\n",
            "159:\tlearn: 0.2811232\ttotal: 43.9s\tremaining: 38.4s\n",
            "160:\tlearn: 0.2804777\ttotal: 44.1s\tremaining: 38.1s\n",
            "161:\tlearn: 0.2793921\ttotal: 44.4s\tremaining: 37.8s\n",
            "162:\tlearn: 0.2784574\ttotal: 44.7s\tremaining: 37.6s\n",
            "163:\tlearn: 0.2772510\ttotal: 45s\tremaining: 37.3s\n",
            "164:\tlearn: 0.2759119\ttotal: 45.2s\tremaining: 37s\n",
            "165:\tlearn: 0.2748159\ttotal: 45.5s\tremaining: 36.7s\n",
            "166:\tlearn: 0.2743514\ttotal: 45.8s\tremaining: 36.4s\n",
            "167:\tlearn: 0.2735901\ttotal: 46s\tremaining: 36.2s\n",
            "168:\tlearn: 0.2725385\ttotal: 46.3s\tremaining: 35.9s\n",
            "169:\tlearn: 0.2713537\ttotal: 46.6s\tremaining: 35.6s\n",
            "170:\tlearn: 0.2711252\ttotal: 46.9s\tremaining: 35.4s\n",
            "171:\tlearn: 0.2700760\ttotal: 47.1s\tremaining: 35.1s\n",
            "172:\tlearn: 0.2695955\ttotal: 47.4s\tremaining: 34.8s\n",
            "173:\tlearn: 0.2693447\ttotal: 47.7s\tremaining: 34.5s\n",
            "174:\tlearn: 0.2684049\ttotal: 47.9s\tremaining: 34.2s\n",
            "175:\tlearn: 0.2674462\ttotal: 48.2s\tremaining: 34s\n",
            "176:\tlearn: 0.2672469\ttotal: 48.5s\tremaining: 33.7s\n",
            "177:\tlearn: 0.2670619\ttotal: 48.7s\tremaining: 33.4s\n",
            "178:\tlearn: 0.2661534\ttotal: 49s\tremaining: 33.1s\n",
            "179:\tlearn: 0.2660123\ttotal: 49.3s\tremaining: 32.8s\n",
            "180:\tlearn: 0.2650231\ttotal: 49.5s\tremaining: 32.6s\n",
            "181:\tlearn: 0.2639743\ttotal: 49.8s\tremaining: 32.3s\n",
            "182:\tlearn: 0.2638065\ttotal: 50.1s\tremaining: 32s\n",
            "183:\tlearn: 0.2628983\ttotal: 50.3s\tremaining: 31.7s\n",
            "184:\tlearn: 0.2623804\ttotal: 50.6s\tremaining: 31.4s\n",
            "185:\tlearn: 0.2612653\ttotal: 50.8s\tremaining: 31.1s\n",
            "186:\tlearn: 0.2600731\ttotal: 51s\tremaining: 30.8s\n",
            "187:\tlearn: 0.2590069\ttotal: 51.2s\tremaining: 30.5s\n",
            "188:\tlearn: 0.2584296\ttotal: 51.5s\tremaining: 30.3s\n",
            "189:\tlearn: 0.2571970\ttotal: 51.8s\tremaining: 30s\n",
            "190:\tlearn: 0.2566027\ttotal: 52s\tremaining: 29.7s\n",
            "191:\tlearn: 0.2562733\ttotal: 52.3s\tremaining: 29.4s\n",
            "192:\tlearn: 0.2551195\ttotal: 52.6s\tremaining: 29.1s\n",
            "193:\tlearn: 0.2539399\ttotal: 52.9s\tremaining: 28.9s\n",
            "194:\tlearn: 0.2529839\ttotal: 53.1s\tremaining: 28.6s\n",
            "195:\tlearn: 0.2519953\ttotal: 53.4s\tremaining: 28.3s\n",
            "196:\tlearn: 0.2511507\ttotal: 53.6s\tremaining: 28s\n",
            "197:\tlearn: 0.2502945\ttotal: 53.9s\tremaining: 27.8s\n",
            "198:\tlearn: 0.2494005\ttotal: 54.2s\tremaining: 27.5s\n",
            "199:\tlearn: 0.2490877\ttotal: 54.5s\tremaining: 27.2s\n",
            "200:\tlearn: 0.2484226\ttotal: 54.7s\tremaining: 27s\n",
            "201:\tlearn: 0.2479002\ttotal: 55s\tremaining: 26.7s\n",
            "202:\tlearn: 0.2475651\ttotal: 55.3s\tremaining: 26.4s\n",
            "203:\tlearn: 0.2467194\ttotal: 55.5s\tremaining: 26.1s\n",
            "204:\tlearn: 0.2456569\ttotal: 55.8s\tremaining: 25.9s\n",
            "205:\tlearn: 0.2454255\ttotal: 56.1s\tremaining: 25.6s\n",
            "206:\tlearn: 0.2441897\ttotal: 56.3s\tremaining: 25.3s\n",
            "207:\tlearn: 0.2432252\ttotal: 56.6s\tremaining: 25s\n",
            "208:\tlearn: 0.2421568\ttotal: 56.9s\tremaining: 24.8s\n",
            "209:\tlearn: 0.2412343\ttotal: 57.2s\tremaining: 24.5s\n",
            "210:\tlearn: 0.2403356\ttotal: 57.5s\tremaining: 24.2s\n",
            "211:\tlearn: 0.2393174\ttotal: 57.7s\tremaining: 24s\n",
            "212:\tlearn: 0.2383668\ttotal: 58s\tremaining: 23.7s\n",
            "213:\tlearn: 0.2374170\ttotal: 58.3s\tremaining: 23.4s\n",
            "214:\tlearn: 0.2369506\ttotal: 58.5s\tremaining: 23.1s\n",
            "215:\tlearn: 0.2362493\ttotal: 58.8s\tremaining: 22.9s\n",
            "216:\tlearn: 0.2353259\ttotal: 59s\tremaining: 22.6s\n",
            "217:\tlearn: 0.2347504\ttotal: 59.3s\tremaining: 22.3s\n",
            "218:\tlearn: 0.2344924\ttotal: 59.6s\tremaining: 22s\n",
            "219:\tlearn: 0.2339410\ttotal: 59.8s\tremaining: 21.8s\n",
            "220:\tlearn: 0.2331770\ttotal: 1m\tremaining: 21.5s\n",
            "221:\tlearn: 0.2323704\ttotal: 1m\tremaining: 21.2s\n",
            "222:\tlearn: 0.2315509\ttotal: 1m\tremaining: 20.9s\n",
            "223:\tlearn: 0.2309104\ttotal: 1m\tremaining: 20.7s\n",
            "224:\tlearn: 0.2299982\ttotal: 1m 1s\tremaining: 20.4s\n",
            "225:\tlearn: 0.2298565\ttotal: 1m 1s\tremaining: 20.1s\n",
            "226:\tlearn: 0.2289001\ttotal: 1m 1s\tremaining: 19.8s\n",
            "227:\tlearn: 0.2280887\ttotal: 1m 1s\tremaining: 19.6s\n",
            "228:\tlearn: 0.2272936\ttotal: 1m 2s\tremaining: 19.3s\n",
            "229:\tlearn: 0.2268323\ttotal: 1m 2s\tremaining: 19s\n",
            "230:\tlearn: 0.2260023\ttotal: 1m 2s\tremaining: 18.7s\n",
            "231:\tlearn: 0.2252100\ttotal: 1m 3s\tremaining: 18.5s\n",
            "232:\tlearn: 0.2248274\ttotal: 1m 3s\tremaining: 18.2s\n",
            "233:\tlearn: 0.2239419\ttotal: 1m 3s\tremaining: 17.9s\n",
            "234:\tlearn: 0.2231910\ttotal: 1m 3s\tremaining: 17.7s\n",
            "235:\tlearn: 0.2225747\ttotal: 1m 4s\tremaining: 17.4s\n",
            "236:\tlearn: 0.2218120\ttotal: 1m 4s\tremaining: 17.1s\n",
            "237:\tlearn: 0.2216814\ttotal: 1m 4s\tremaining: 16.8s\n",
            "238:\tlearn: 0.2210271\ttotal: 1m 4s\tremaining: 16.6s\n",
            "239:\tlearn: 0.2201016\ttotal: 1m 5s\tremaining: 16.3s\n",
            "240:\tlearn: 0.2195340\ttotal: 1m 5s\tremaining: 16s\n",
            "241:\tlearn: 0.2184786\ttotal: 1m 5s\tremaining: 15.8s\n",
            "242:\tlearn: 0.2178332\ttotal: 1m 6s\tremaining: 15.5s\n",
            "243:\tlearn: 0.2176800\ttotal: 1m 6s\tremaining: 15.2s\n",
            "244:\tlearn: 0.2167404\ttotal: 1m 6s\tremaining: 14.9s\n",
            "245:\tlearn: 0.2164527\ttotal: 1m 6s\tremaining: 14.7s\n",
            "246:\tlearn: 0.2156504\ttotal: 1m 7s\tremaining: 14.4s\n",
            "247:\tlearn: 0.2148997\ttotal: 1m 7s\tremaining: 14.1s\n",
            "248:\tlearn: 0.2146118\ttotal: 1m 7s\tremaining: 13.8s\n",
            "249:\tlearn: 0.2141113\ttotal: 1m 7s\tremaining: 13.6s\n",
            "250:\tlearn: 0.2135752\ttotal: 1m 8s\tremaining: 13.3s\n",
            "251:\tlearn: 0.2134407\ttotal: 1m 8s\tremaining: 13s\n",
            "252:\tlearn: 0.2133133\ttotal: 1m 8s\tremaining: 12.8s\n",
            "253:\tlearn: 0.2132084\ttotal: 1m 8s\tremaining: 12.5s\n",
            "254:\tlearn: 0.2123413\ttotal: 1m 9s\tremaining: 12.2s\n",
            "255:\tlearn: 0.2115941\ttotal: 1m 9s\tremaining: 11.9s\n",
            "256:\tlearn: 0.2108167\ttotal: 1m 9s\tremaining: 11.7s\n",
            "257:\tlearn: 0.2101297\ttotal: 1m 10s\tremaining: 11.4s\n",
            "258:\tlearn: 0.2097871\ttotal: 1m 10s\tremaining: 11.1s\n",
            "259:\tlearn: 0.2091550\ttotal: 1m 10s\tremaining: 10.9s\n",
            "260:\tlearn: 0.2089018\ttotal: 1m 10s\tremaining: 10.6s\n",
            "261:\tlearn: 0.2081673\ttotal: 1m 11s\tremaining: 10.3s\n",
            "262:\tlearn: 0.2076133\ttotal: 1m 11s\tremaining: 10s\n",
            "263:\tlearn: 0.2071449\ttotal: 1m 11s\tremaining: 9.77s\n",
            "264:\tlearn: 0.2064066\ttotal: 1m 11s\tremaining: 9.5s\n",
            "265:\tlearn: 0.2057921\ttotal: 1m 12s\tremaining: 9.23s\n",
            "266:\tlearn: 0.2049963\ttotal: 1m 12s\tremaining: 8.96s\n",
            "267:\tlearn: 0.2043354\ttotal: 1m 12s\tremaining: 8.69s\n",
            "268:\tlearn: 0.2042218\ttotal: 1m 13s\tremaining: 8.42s\n",
            "269:\tlearn: 0.2041136\ttotal: 1m 13s\tremaining: 8.15s\n",
            "270:\tlearn: 0.2033267\ttotal: 1m 13s\tremaining: 7.87s\n",
            "271:\tlearn: 0.2024278\ttotal: 1m 13s\tremaining: 7.6s\n",
            "272:\tlearn: 0.2019258\ttotal: 1m 14s\tremaining: 7.33s\n",
            "273:\tlearn: 0.2017129\ttotal: 1m 14s\tremaining: 7.06s\n",
            "274:\tlearn: 0.2013594\ttotal: 1m 14s\tremaining: 6.79s\n",
            "275:\tlearn: 0.2005775\ttotal: 1m 14s\tremaining: 6.51s\n",
            "276:\tlearn: 0.1999041\ttotal: 1m 15s\tremaining: 6.24s\n",
            "277:\tlearn: 0.1992517\ttotal: 1m 15s\tremaining: 5.97s\n",
            "278:\tlearn: 0.1985901\ttotal: 1m 15s\tremaining: 5.7s\n",
            "279:\tlearn: 0.1979260\ttotal: 1m 16s\tremaining: 5.43s\n",
            "280:\tlearn: 0.1973951\ttotal: 1m 16s\tremaining: 5.16s\n",
            "281:\tlearn: 0.1966833\ttotal: 1m 16s\tremaining: 4.89s\n",
            "282:\tlearn: 0.1961612\ttotal: 1m 16s\tremaining: 4.61s\n",
            "283:\tlearn: 0.1958230\ttotal: 1m 17s\tremaining: 4.34s\n",
            "284:\tlearn: 0.1949319\ttotal: 1m 17s\tremaining: 4.07s\n",
            "285:\tlearn: 0.1946191\ttotal: 1m 17s\tremaining: 3.8s\n",
            "286:\tlearn: 0.1945016\ttotal: 1m 17s\tremaining: 3.53s\n",
            "287:\tlearn: 0.1937137\ttotal: 1m 18s\tremaining: 3.26s\n",
            "288:\tlearn: 0.1936008\ttotal: 1m 18s\tremaining: 2.98s\n",
            "289:\tlearn: 0.1930279\ttotal: 1m 18s\tremaining: 2.71s\n",
            "290:\tlearn: 0.1925968\ttotal: 1m 19s\tremaining: 2.44s\n",
            "291:\tlearn: 0.1919856\ttotal: 1m 19s\tremaining: 2.17s\n",
            "292:\tlearn: 0.1912047\ttotal: 1m 19s\tremaining: 1.9s\n",
            "293:\tlearn: 0.1910968\ttotal: 1m 19s\tremaining: 1.63s\n",
            "294:\tlearn: 0.1910021\ttotal: 1m 20s\tremaining: 1.36s\n",
            "295:\tlearn: 0.1903953\ttotal: 1m 20s\tremaining: 1.08s\n",
            "296:\tlearn: 0.1902906\ttotal: 1m 20s\tremaining: 814ms\n",
            "297:\tlearn: 0.1895784\ttotal: 1m 20s\tremaining: 543ms\n",
            "298:\tlearn: 0.1889540\ttotal: 1m 21s\tremaining: 271ms\n",
            "299:\tlearn: 0.1881546\ttotal: 1m 21s\tremaining: 0us\n"
          ],
          "name": "stdout"
        }
      ]
    },
    {
      "cell_type": "code",
      "metadata": {
        "colab": {
          "base_uri": "https://localhost:8080/"
        },
        "id": "YRw0GJaKJmfl",
        "outputId": "4b93fa2b-22be-46f8-f502-dec1a096637d"
      },
      "source": [
        "print(\"Training time: %fs; Prediction time: %fs\" % (cat_time_linear_train, cat_time_linear_predict))"
      ],
      "execution_count": 20,
      "outputs": [
        {
          "output_type": "stream",
          "text": [
            "Training time: 83.284347s; Prediction time: 0.372354s\n"
          ],
          "name": "stdout"
        }
      ]
    },
    {
      "cell_type": "code",
      "metadata": {
        "colab": {
          "base_uri": "https://localhost:8080/",
          "height": 283
        },
        "id": "TAHNAzhpJmfl",
        "outputId": "8182d59a-4d70-40ef-b625-a572eb288856"
      },
      "source": [
        "cf_matrix = metrics.confusion_matrix(Y_test, cat_Ypred)\n",
        "group_names = ['True Neg','False Pos','False Neg','True Pos']\n",
        "group_counts = ['{0:0.0f}'.format(value) for value in\n",
        "                cf_matrix.flatten()]\n",
        "group_percentages = ['{0:.2%}'.format(value) for value in\n",
        "                     cf_matrix.flatten()/np.sum(cf_matrix)]\n",
        "labels = [f\"{v1}\\n{v2}\\n{v3}\" for v1, v2, v3 in\n",
        "          zip(group_names,group_counts,group_percentages)]\n",
        "labels = np.asarray(labels).reshape(2,2)\n",
        "sns.heatmap(cf_matrix, annot=labels, fmt='', cmap='Blues')"
      ],
      "execution_count": 21,
      "outputs": [
        {
          "output_type": "execute_result",
          "data": {
            "text/plain": [
              "<matplotlib.axes._subplots.AxesSubplot at 0x7f927083b350>"
            ]
          },
          "metadata": {
            "tags": []
          },
          "execution_count": 21
        },
        {
          "output_type": "display_data",
          "data": {
            "image/png": "[encoded data removed]",
            "text/plain": [
              "<Figure size 432x288 with 2 Axes>"
            ]
          },
          "metadata": {
            "tags": [],
            "needs_background": "light"
          }
        }
      ]
    },
    {
      "cell_type": "code",
      "metadata": {
        "colab": {
          "base_uri": "https://localhost:8080/"
        },
        "id": "hVlywDX4Jmfm",
        "outputId": "2bfc5892-e2c5-4a4e-f727-e10316456d8c"
      },
      "source": [
        "cat_f1Score"
      ],
      "execution_count": 22,
      "outputs": [
        {
          "output_type": "execute_result",
          "data": {
            "text/plain": [
              "0.8049561151259034"
            ]
          },
          "metadata": {
            "tags": []
          },
          "execution_count": 22
        }
      ]
    },
    {
      "cell_type": "code",
      "metadata": {
        "id": "GQoHV7jDJmfm"
      },
      "source": [
        "model = svm.SVC(C = 10)\n",
        "t0 = time.time()\n",
        "model.fit(tfidf_vect_train, Y_train)\n",
        "t1 = time.time()\n",
        "svc_Ypred = model.predict(tfidf_vect_test)\n",
        "t2 = time.time()\n",
        "svc_time_linear_train = t1-t0\n",
        "svc_time_linear_predict = t2-t1\n",
        "svc_f1Score = f1_score(Y_test, svc_Ypred, average = \"weighted\")"
      ],
      "execution_count": 23,
      "outputs": []
    },
    {
      "cell_type": "code",
      "metadata": {
        "colab": {
          "base_uri": "https://localhost:8080/"
        },
        "id": "PcGRNfQtJmfm",
        "outputId": "a3bc3eec-c27b-4c7a-e701-116884a17505"
      },
      "source": [
        "print(\"Training time: %fs; Prediction time: %fs\" % (svc_time_linear_train, svc_time_linear_predict))"
      ],
      "execution_count": 24,
      "outputs": [
        {
          "output_type": "stream",
          "text": [
            "Training time: 25.361872s; Prediction time: 4.905240s\n"
          ],
          "name": "stdout"
        }
      ]
    },
    {
      "cell_type": "code",
      "metadata": {
        "colab": {
          "base_uri": "https://localhost:8080/"
        },
        "id": "QGTENHz3Jmfm",
        "outputId": "7ba31ca8-3b6c-4024-b45c-ef56545749cf"
      },
      "source": [
        "svc_f1Score"
      ],
      "execution_count": 25,
      "outputs": [
        {
          "output_type": "execute_result",
          "data": {
            "text/plain": [
              "0.8129773702618017"
            ]
          },
          "metadata": {
            "tags": []
          },
          "execution_count": 25
        }
      ]
    },
    {
      "cell_type": "code",
      "metadata": {
        "colab": {
          "base_uri": "https://localhost:8080/",
          "height": 283
        },
        "id": "fET9YwcYJmfn",
        "outputId": "c9574246-64ad-48d8-8ed3-bd86a43069a1"
      },
      "source": [
        "cf_matrix = metrics.confusion_matrix(Y_test, svc_Ypred)\n",
        "group_names = ['True Neg','False Pos','False Neg','True Pos']\n",
        "group_counts = ['{0:0.0f}'.format(value) for value in\n",
        "                cf_matrix.flatten()]\n",
        "group_percentages = ['{0:.2%}'.format(value) for value in\n",
        "                     cf_matrix.flatten()/np.sum(cf_matrix)]\n",
        "labels = [f\"{v1}\\n{v2}\\n{v3}\" for v1, v2, v3 in\n",
        "          zip(group_names,group_counts,group_percentages)]\n",
        "labels = np.asarray(labels).reshape(2,2)\n",
        "sns.heatmap(cf_matrix, annot=labels, fmt='', cmap='Blues')"
      ],
      "execution_count": 26,
      "outputs": [
        {
          "output_type": "execute_result",
          "data": {
            "text/plain": [
              "<matplotlib.axes._subplots.AxesSubplot at 0x7f9267ab4750>"
            ]
          },
          "metadata": {
            "tags": []
          },
          "execution_count": 26
        },
        {
          "output_type": "display_data",
          "data": {
            "image/png": "[encoded data removed]",
            "text/plain": [
              "<Figure size 432x288 with 2 Axes>"
            ]
          },
          "metadata": {
            "tags": [],
            "needs_background": "light"
          }
        }
      ]
    },
    {
      "cell_type": "code",
      "metadata": {
        "id": "SGXmSPZLJmfn"
      },
      "source": [
        "f1_scores = [svc_f1Score, cat_f1Score, xg_f1Score]\n",
        "train_time = [svc_time_linear_train, cat_time_linear_train, xg_time_linear_train]\n",
        "predict_time = [svc_time_linear_predict, cat_time_linear_predict, xg_time_linear_predict]\n",
        "algo_name = [\"SVC\", \"CatBoost\", \"XGBoost\"]"
      ],
      "execution_count": 27,
      "outputs": []
    },
    {
      "cell_type": "code",
      "metadata": {
        "colab": {
          "base_uri": "https://localhost:8080/",
          "height": 253
        },
        "id": "Itfk3TwEJmfo",
        "outputId": "e99927c4-626a-49b5-b945-5690dc92fae3"
      },
      "source": [
        "f1_scores = [svc_f1Score, cat_f1Score, xg_f1Score]\n",
        "train_time = [svc_time_linear_train, cat_time_linear_train, xg_time_linear_train]\n",
        "predict_time = [svc_time_linear_predict, cat_time_linear_predict, xg_time_linear_predict]\n",
        "algo_name = [\"SVC\", \"CatBoost\", \"XGBoost\"]\n",
        "\n",
        "import seaborn as sns\n",
        "import matplotlib.pyplot as plt\n",
        "plt.figure(figsize=(8,3))\n",
        "sns.set_theme(style = \"whitegrid\")\n",
        "ax = sns.pointplot(x = algo_name, y = f1_scores)\n",
        "ax.set_xticklabels(ax.get_xticklabels() , rotation = 90)\n",
        "plt.show()"
      ],
      "execution_count": 28,
      "outputs": [
        {
          "output_type": "display_data",
          "data": {
            "image/png": "[encoded data removed]",
            "text/plain": [
              "<Figure size 576x216 with 1 Axes>"
            ]
          },
          "metadata": {
            "tags": [],
            "needs_background": "light"
          }
        }
      ]
    },
    {
      "cell_type": "code",
      "metadata": {
        "colab": {
          "base_uri": "https://localhost:8080/",
          "height": 253
        },
        "id": "biO8IYXJJmfo",
        "outputId": "65c41708-c1b4-41df-c9bf-28c84d8a5e78"
      },
      "source": [
        "plt.figure(figsize=(8,3))\n",
        "sns.set_theme(style = \"whitegrid\")\n",
        "bx = sns.pointplot(x = algo_name, y = train_time)\n",
        "bx.set_xticklabels(ax.get_xticklabels() , rotation = 90)\n",
        "plt.show()"
      ],
      "execution_count": 29,
      "outputs": [
        {
          "output_type": "display_data",
          "data": {
            "image/png": "[encoded data removed]",
            "text/plain": [
              "<Figure size 576x216 with 1 Axes>"
            ]
          },
          "metadata": {
            "tags": []
          }
        }
      ]
    },
    {
      "cell_type": "code",
      "metadata": {
        "colab": {
          "base_uri": "https://localhost:8080/",
          "height": 253
        },
        "id": "1ZePmYX_Jmfo",
        "outputId": "276c325d-29ec-4e48-afca-3cfa918b3a5c"
      },
      "source": [
        "plt.figure(figsize=(8,3))\n",
        "sns.set_theme(style = \"whitegrid\")\n",
        "cx = sns.pointplot(x = algo_name, y = predict_time)\n",
        "cx.set_xticklabels(ax.get_xticklabels() , rotation = 90)\n",
        "plt.show()"
      ],
      "execution_count": 30,
      "outputs": [
        {
          "output_type": "display_data",
          "data": {
            "image/png": "[encoded data removed]",
            "text/plain": [
              "<Figure size 576x216 with 1 Axes>"
            ]
          },
          "metadata": {
            "tags": []
          }
        }
      ]
    },
    {
      "cell_type": "code",
      "metadata": {
        "id": "kFnh_4osJmfp"
      },
      "source": [
        ""
      ],
      "execution_count": 30,
      "outputs": []
    }
  ]
}