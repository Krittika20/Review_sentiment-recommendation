{
 "cells": [
  {
   "cell_type": "code",
   "execution_count": 36,
   "metadata": {},
   "outputs": [],
   "source": [
    "import pandas as pd\n",
    "import time\n",
    "from sklearn.model_selection import train_test_split\n",
    "from sklearn.feature_extraction.text import TfidfVectorizer\n",
    "from xgboost import XGBClassifier\n",
    "from catboost import CatBoostClassifier\n",
    "from sklearn.linear_model import LogisticRegression\n",
    "from sklearn import svm\n",
    "from sklearn.metrics import f1_score"
   ]
  },
  {
   "cell_type": "code",
   "execution_count": 12,
   "metadata": {},
   "outputs": [],
   "source": [
    "cleaned_data = pd.read_csv(\"dataset/cleaned_data2.csv\")"
   ]
  },
  {
   "cell_type": "code",
   "execution_count": 13,
   "metadata": {},
   "outputs": [
    {
     "data": {
      "text/html": [
       "<div>\n",
       "<style scoped>\n",
       "    .dataframe tbody tr th:only-of-type {\n",
       "        vertical-align: middle;\n",
       "    }\n",
       "\n",
       "    .dataframe tbody tr th {\n",
       "        vertical-align: top;\n",
       "    }\n",
       "\n",
       "    .dataframe thead th {\n",
       "        text-align: right;\n",
       "    }\n",
       "</style>\n",
       "<table border=\"1\" class=\"dataframe\">\n",
       "  <thead>\n",
       "    <tr style=\"text-align: right;\">\n",
       "      <th></th>\n",
       "      <th>reviewerID</th>\n",
       "      <th>reviewText</th>\n",
       "      <th>clean_reviewText</th>\n",
       "      <th>clean_summary</th>\n",
       "      <th>rating_class</th>\n",
       "    </tr>\n",
       "  </thead>\n",
       "  <tbody>\n",
       "    <tr>\n",
       "      <th>0</th>\n",
       "      <td>A1BZ18U2EF4FAI</td>\n",
       "      <td>the nook color is a great tablet. it sometimes...</td>\n",
       "      <td>nook color great tablet sometimes slow still t...</td>\n",
       "      <td>good</td>\n",
       "      <td>good</td>\n",
       "    </tr>\n",
       "    <tr>\n",
       "      <th>1</th>\n",
       "      <td>A3W2CJFXG0158G</td>\n",
       "      <td>1. I have a iPhone3Gs with a case, the cable w...</td>\n",
       "      <td>phone is case win without remove case manage p...</td>\n",
       "      <td>first belkin disappointment</td>\n",
       "      <td>bad</td>\n",
       "    </tr>\n",
       "    <tr>\n",
       "      <th>2</th>\n",
       "      <td>A3F9CBHV4OHFBS</td>\n",
       "      <td>I needed this cable to connect my Epson projec...</td>\n",
       "      <td>need connect elson project lawton great price ...</td>\n",
       "      <td>great product especially price</td>\n",
       "      <td>good</td>\n",
       "    </tr>\n",
       "    <tr>\n",
       "      <th>3</th>\n",
       "      <td>AZHV16QDXACKC</td>\n",
       "      <td>i bought these over a year ago hoping that a c...</td>\n",
       "      <td>year ago hop company offer lifetime warranty p...</td>\n",
       "      <td>not great</td>\n",
       "      <td>bad</td>\n",
       "    </tr>\n",
       "    <tr>\n",
       "      <th>4</th>\n",
       "      <td>A231WM2Z2JL0U3</td>\n",
       "      <td>or those who shun manuals. I am a fairly compu...</td>\n",
       "      <td>shun manual fairly computer-navvy person hande...</td>\n",
       "      <td>not faint-hearted</td>\n",
       "      <td>bad</td>\n",
       "    </tr>\n",
       "  </tbody>\n",
       "</table>\n",
       "</div>"
      ],
      "text/plain": [
       "       reviewerID                                         reviewText  \\\n",
       "0  A1BZ18U2EF4FAI  the nook color is a great tablet. it sometimes...   \n",
       "1  A3W2CJFXG0158G  1. I have a iPhone3Gs with a case, the cable w...   \n",
       "2  A3F9CBHV4OHFBS  I needed this cable to connect my Epson projec...   \n",
       "3   AZHV16QDXACKC  i bought these over a year ago hoping that a c...   \n",
       "4  A231WM2Z2JL0U3  or those who shun manuals. I am a fairly compu...   \n",
       "\n",
       "                                    clean_reviewText  \\\n",
       "0  nook color great tablet sometimes slow still t...   \n",
       "1  phone is case win without remove case manage p...   \n",
       "2  need connect elson project lawton great price ...   \n",
       "3  year ago hop company offer lifetime warranty p...   \n",
       "4  shun manual fairly computer-navvy person hande...   \n",
       "\n",
       "                    clean_summary rating_class  \n",
       "0                            good         good  \n",
       "1     first belkin disappointment          bad  \n",
       "2  great product especially price         good  \n",
       "3                       not great          bad  \n",
       "4               not faint-hearted          bad  "
      ]
     },
     "execution_count": 13,
     "metadata": {},
     "output_type": "execute_result"
    }
   ],
   "source": [
    "cleaned_data.head(5)"
   ]
  },
  {
   "cell_type": "code",
   "execution_count": 14,
   "metadata": {},
   "outputs": [],
   "source": [
    "cleaned_data[\"rating_class\"] = cleaned_data[\"rating_class\"].apply(lambda x: 1 if x==\"good\" else 0)"
   ]
  },
  {
   "cell_type": "code",
   "execution_count": 15,
   "metadata": {},
   "outputs": [
    {
     "data": {
      "text/html": [
       "<div>\n",
       "<style scoped>\n",
       "    .dataframe tbody tr th:only-of-type {\n",
       "        vertical-align: middle;\n",
       "    }\n",
       "\n",
       "    .dataframe tbody tr th {\n",
       "        vertical-align: top;\n",
       "    }\n",
       "\n",
       "    .dataframe thead th {\n",
       "        text-align: right;\n",
       "    }\n",
       "</style>\n",
       "<table border=\"1\" class=\"dataframe\">\n",
       "  <thead>\n",
       "    <tr style=\"text-align: right;\">\n",
       "      <th></th>\n",
       "      <th>reviewerID</th>\n",
       "      <th>reviewText</th>\n",
       "      <th>clean_reviewText</th>\n",
       "      <th>clean_summary</th>\n",
       "      <th>rating_class</th>\n",
       "    </tr>\n",
       "  </thead>\n",
       "  <tbody>\n",
       "    <tr>\n",
       "      <th>0</th>\n",
       "      <td>A1BZ18U2EF4FAI</td>\n",
       "      <td>the nook color is a great tablet. it sometimes...</td>\n",
       "      <td>nook color great tablet sometimes slow still t...</td>\n",
       "      <td>good</td>\n",
       "      <td>1</td>\n",
       "    </tr>\n",
       "    <tr>\n",
       "      <th>1</th>\n",
       "      <td>A3W2CJFXG0158G</td>\n",
       "      <td>1. I have a iPhone3Gs with a case, the cable w...</td>\n",
       "      <td>phone is case win without remove case manage p...</td>\n",
       "      <td>first belkin disappointment</td>\n",
       "      <td>0</td>\n",
       "    </tr>\n",
       "    <tr>\n",
       "      <th>2</th>\n",
       "      <td>A3F9CBHV4OHFBS</td>\n",
       "      <td>I needed this cable to connect my Epson projec...</td>\n",
       "      <td>need connect elson project lawton great price ...</td>\n",
       "      <td>great product especially price</td>\n",
       "      <td>1</td>\n",
       "    </tr>\n",
       "    <tr>\n",
       "      <th>3</th>\n",
       "      <td>AZHV16QDXACKC</td>\n",
       "      <td>i bought these over a year ago hoping that a c...</td>\n",
       "      <td>year ago hop company offer lifetime warranty p...</td>\n",
       "      <td>not great</td>\n",
       "      <td>0</td>\n",
       "    </tr>\n",
       "    <tr>\n",
       "      <th>4</th>\n",
       "      <td>A231WM2Z2JL0U3</td>\n",
       "      <td>or those who shun manuals. I am a fairly compu...</td>\n",
       "      <td>shun manual fairly computer-navvy person hande...</td>\n",
       "      <td>not faint-hearted</td>\n",
       "      <td>0</td>\n",
       "    </tr>\n",
       "  </tbody>\n",
       "</table>\n",
       "</div>"
      ],
      "text/plain": [
       "       reviewerID                                         reviewText  \\\n",
       "0  A1BZ18U2EF4FAI  the nook color is a great tablet. it sometimes...   \n",
       "1  A3W2CJFXG0158G  1. I have a iPhone3Gs with a case, the cable w...   \n",
       "2  A3F9CBHV4OHFBS  I needed this cable to connect my Epson projec...   \n",
       "3   AZHV16QDXACKC  i bought these over a year ago hoping that a c...   \n",
       "4  A231WM2Z2JL0U3  or those who shun manuals. I am a fairly compu...   \n",
       "\n",
       "                                    clean_reviewText  \\\n",
       "0  nook color great tablet sometimes slow still t...   \n",
       "1  phone is case win without remove case manage p...   \n",
       "2  need connect elson project lawton great price ...   \n",
       "3  year ago hop company offer lifetime warranty p...   \n",
       "4  shun manual fairly computer-navvy person hande...   \n",
       "\n",
       "                    clean_summary  rating_class  \n",
       "0                            good             1  \n",
       "1     first belkin disappointment             0  \n",
       "2  great product especially price             1  \n",
       "3                       not great             0  \n",
       "4               not faint-hearted             0  "
      ]
     },
     "execution_count": 15,
     "metadata": {},
     "output_type": "execute_result"
    }
   ],
   "source": [
    "cleaned_data.head(5)"
   ]
  },
  {
   "cell_type": "code",
   "execution_count": 16,
   "metadata": {},
   "outputs": [],
   "source": [
    "Y = cleaned_data[\"rating_class\"]\n",
    "X = cleaned_data[\"clean_reviewText\"]"
   ]
  },
  {
   "cell_type": "code",
   "execution_count": 17,
   "metadata": {},
   "outputs": [],
   "source": [
    "X_train, X_test, Y_train, Y_test = train_test_split(X, Y, test_size=0.2, random_state=42,shuffle=True, stratify = Y)"
   ]
  },
  {
   "cell_type": "code",
   "execution_count": 18,
   "metadata": {},
   "outputs": [],
   "source": [
    "tfidf_vect = TfidfVectorizer(ngram_range=(1, 1))\n",
    "tfidf_vect_train = tfidf_vect.fit_transform(X_train.values.astype(\"U\"))\n",
    "tfidf_vect_train = tfidf_vect_train.toarray()\n",
    "tfidf_vect_test = tfidf_vect.transform(X_test.values.astype(\"U\"))\n",
    "tfidf_vect_test = tfidf_vect_test.toarray()"
   ]
  },
  {
   "cell_type": "code",
   "execution_count": 39,
   "metadata": {},
   "outputs": [
    {
     "name": "stdout",
     "output_type": "stream",
     "text": [
      "[0]\tvalidation_0-error:0.25375\tvalidation_1-error:0.317\n",
      "Multiple eval metrics have been passed: 'validation_1-error' will be used for early stopping.\n",
      "\n",
      "Will train until validation_1-error hasn't improved in 20 rounds.\n",
      "[1]\tvalidation_0-error:0.20325\tvalidation_1-error:0.289\n",
      "[2]\tvalidation_0-error:0.184\tvalidation_1-error:0.296\n",
      "[3]\tvalidation_0-error:0.1695\tvalidation_1-error:0.288\n",
      "[4]\tvalidation_0-error:0.14975\tvalidation_1-error:0.272\n",
      "[5]\tvalidation_0-error:0.142\tvalidation_1-error:0.266\n",
      "[6]\tvalidation_0-error:0.14375\tvalidation_1-error:0.253\n",
      "[7]\tvalidation_0-error:0.1325\tvalidation_1-error:0.254\n",
      "[8]\tvalidation_0-error:0.127\tvalidation_1-error:0.242\n",
      "[9]\tvalidation_0-error:0.117\tvalidation_1-error:0.255\n",
      "[10]\tvalidation_0-error:0.112\tvalidation_1-error:0.255\n",
      "[11]\tvalidation_0-error:0.1045\tvalidation_1-error:0.252\n",
      "[12]\tvalidation_0-error:0.09775\tvalidation_1-error:0.253\n",
      "[13]\tvalidation_0-error:0.093\tvalidation_1-error:0.251\n",
      "[14]\tvalidation_0-error:0.08875\tvalidation_1-error:0.249\n",
      "[15]\tvalidation_0-error:0.084\tvalidation_1-error:0.246\n",
      "[16]\tvalidation_0-error:0.08175\tvalidation_1-error:0.245\n",
      "[17]\tvalidation_0-error:0.07925\tvalidation_1-error:0.241\n",
      "[18]\tvalidation_0-error:0.078\tvalidation_1-error:0.244\n",
      "[19]\tvalidation_0-error:0.07275\tvalidation_1-error:0.239\n",
      "[20]\tvalidation_0-error:0.07225\tvalidation_1-error:0.24\n",
      "[21]\tvalidation_0-error:0.071\tvalidation_1-error:0.231\n",
      "[22]\tvalidation_0-error:0.06525\tvalidation_1-error:0.235\n",
      "[23]\tvalidation_0-error:0.06425\tvalidation_1-error:0.233\n",
      "[24]\tvalidation_0-error:0.06275\tvalidation_1-error:0.235\n",
      "[25]\tvalidation_0-error:0.06\tvalidation_1-error:0.227\n",
      "[26]\tvalidation_0-error:0.059\tvalidation_1-error:0.227\n",
      "[27]\tvalidation_0-error:0.05825\tvalidation_1-error:0.23\n",
      "[28]\tvalidation_0-error:0.058\tvalidation_1-error:0.229\n",
      "[29]\tvalidation_0-error:0.05525\tvalidation_1-error:0.227\n",
      "[30]\tvalidation_0-error:0.05475\tvalidation_1-error:0.226\n",
      "[31]\tvalidation_0-error:0.05375\tvalidation_1-error:0.222\n",
      "[32]\tvalidation_0-error:0.0535\tvalidation_1-error:0.22\n",
      "[33]\tvalidation_0-error:0.052\tvalidation_1-error:0.223\n",
      "[34]\tvalidation_0-error:0.0505\tvalidation_1-error:0.226\n",
      "[35]\tvalidation_0-error:0.0515\tvalidation_1-error:0.224\n",
      "[36]\tvalidation_0-error:0.05025\tvalidation_1-error:0.222\n",
      "[37]\tvalidation_0-error:0.04825\tvalidation_1-error:0.221\n",
      "[38]\tvalidation_0-error:0.04675\tvalidation_1-error:0.218\n",
      "[39]\tvalidation_0-error:0.04475\tvalidation_1-error:0.225\n",
      "[40]\tvalidation_0-error:0.04525\tvalidation_1-error:0.221\n",
      "[41]\tvalidation_0-error:0.04425\tvalidation_1-error:0.221\n",
      "[42]\tvalidation_0-error:0.043\tvalidation_1-error:0.221\n",
      "[43]\tvalidation_0-error:0.042\tvalidation_1-error:0.218\n",
      "[44]\tvalidation_0-error:0.03975\tvalidation_1-error:0.22\n",
      "[45]\tvalidation_0-error:0.03825\tvalidation_1-error:0.214\n",
      "[46]\tvalidation_0-error:0.0375\tvalidation_1-error:0.215\n",
      "[47]\tvalidation_0-error:0.03725\tvalidation_1-error:0.214\n",
      "[48]\tvalidation_0-error:0.03525\tvalidation_1-error:0.213\n",
      "[49]\tvalidation_0-error:0.03525\tvalidation_1-error:0.214\n",
      "[50]\tvalidation_0-error:0.03475\tvalidation_1-error:0.215\n",
      "[51]\tvalidation_0-error:0.034\tvalidation_1-error:0.214\n",
      "[52]\tvalidation_0-error:0.033\tvalidation_1-error:0.216\n",
      "[53]\tvalidation_0-error:0.03275\tvalidation_1-error:0.22\n",
      "[54]\tvalidation_0-error:0.03225\tvalidation_1-error:0.218\n",
      "[55]\tvalidation_0-error:0.0315\tvalidation_1-error:0.219\n",
      "[56]\tvalidation_0-error:0.0305\tvalidation_1-error:0.22\n",
      "[57]\tvalidation_0-error:0.0295\tvalidation_1-error:0.222\n",
      "[58]\tvalidation_0-error:0.0295\tvalidation_1-error:0.217\n",
      "[59]\tvalidation_0-error:0.0275\tvalidation_1-error:0.224\n",
      "[60]\tvalidation_0-error:0.02625\tvalidation_1-error:0.222\n",
      "[61]\tvalidation_0-error:0.02675\tvalidation_1-error:0.223\n",
      "[62]\tvalidation_0-error:0.027\tvalidation_1-error:0.224\n",
      "[63]\tvalidation_0-error:0.026\tvalidation_1-error:0.222\n",
      "[64]\tvalidation_0-error:0.0255\tvalidation_1-error:0.222\n",
      "[65]\tvalidation_0-error:0.025\tvalidation_1-error:0.22\n",
      "[66]\tvalidation_0-error:0.02525\tvalidation_1-error:0.22\n",
      "[67]\tvalidation_0-error:0.02475\tvalidation_1-error:0.223\n",
      "[68]\tvalidation_0-error:0.024\tvalidation_1-error:0.223\n",
      "Stopping. Best iteration:\n",
      "[48]\tvalidation_0-error:0.03525\tvalidation_1-error:0.213\n",
      "\n"
     ]
    }
   ],
   "source": [
    "model = XGBClassifier(n_estimators=300, learning_rate =0.20, max_depth = 30,min_child_weight= 5,gamma = 0.5,colsample_bytree = 0.4)\n",
    "t0 = time.time()\n",
    "eval_s = [(tfidf_vect_train, Y_train), (tfidf_vect_test, Y_test)]\n",
    "model.fit(tfidf_vect_train, Y_train, eval_metric=[\"error\"], verbose=True, eval_set = eval_s, early_stopping_rounds=20)\n",
    "t1 = time.time()\n",
    "xg_Ypred = model.predict(tfidf_vect_test)\n",
    "t2 = time.time()\n",
    "xg_time_linear_train = t1-t0\n",
    "xg_time_linear_predict = t2-t1\n",
    "xg_f1Score = f1_score(Y_test, xg_Ypred, average = \"weighted\")"
   ]
  },
  {
   "cell_type": "code",
   "execution_count": 40,
   "metadata": {},
   "outputs": [
    {
     "name": "stdout",
     "output_type": "stream",
     "text": [
      "Training time: 155.657040s; Prediction time: 0.547644s\n"
     ]
    }
   ],
   "source": [
    "print(\"Training time: %fs; Prediction time: %fs\" % (xg_time_linear_train, xg_time_linear_predict))"
   ]
  },
  {
   "cell_type": "code",
   "execution_count": 41,
   "metadata": {},
   "outputs": [
    {
     "data": {
      "text/plain": [
       "0.7869639969154787"
      ]
     },
     "execution_count": 41,
     "metadata": {},
     "output_type": "execute_result"
    }
   ],
   "source": [
    "xg_f1Score"
   ]
  },
  {
   "cell_type": "code",
   "execution_count": 19,
   "metadata": {},
   "outputs": [
    {
     "name": "stdout",
     "output_type": "stream",
     "text": [
      "0:\tlearn: 0.6745708\ttotal: 371ms\tremaining: 1m 50s\n",
      "1:\tlearn: 0.6610382\ttotal: 790ms\tremaining: 1m 57s\n",
      "2:\tlearn: 0.6480858\ttotal: 1.09s\tremaining: 1m 48s\n",
      "3:\tlearn: 0.6361605\ttotal: 1.41s\tremaining: 1m 44s\n",
      "4:\tlearn: 0.6231623\ttotal: 1.72s\tremaining: 1m 41s\n",
      "5:\tlearn: 0.6145025\ttotal: 2.03s\tremaining: 1m 39s\n",
      "6:\tlearn: 0.6053007\ttotal: 2.33s\tremaining: 1m 37s\n",
      "7:\tlearn: 0.5961403\ttotal: 2.65s\tremaining: 1m 36s\n",
      "8:\tlearn: 0.5892206\ttotal: 2.95s\tremaining: 1m 35s\n",
      "9:\tlearn: 0.5833317\ttotal: 3.25s\tremaining: 1m 34s\n",
      "10:\tlearn: 0.5780788\ttotal: 3.55s\tremaining: 1m 33s\n",
      "11:\tlearn: 0.5726296\ttotal: 3.85s\tremaining: 1m 32s\n",
      "12:\tlearn: 0.5688342\ttotal: 4.16s\tremaining: 1m 31s\n",
      "13:\tlearn: 0.5639662\ttotal: 4.46s\tremaining: 1m 31s\n",
      "14:\tlearn: 0.5595987\ttotal: 4.77s\tremaining: 1m 30s\n",
      "15:\tlearn: 0.5560822\ttotal: 5.08s\tremaining: 1m 30s\n",
      "16:\tlearn: 0.5529659\ttotal: 5.4s\tremaining: 1m 29s\n",
      "17:\tlearn: 0.5469982\ttotal: 5.74s\tremaining: 1m 29s\n",
      "18:\tlearn: 0.5426066\ttotal: 6.08s\tremaining: 1m 29s\n",
      "19:\tlearn: 0.5400331\ttotal: 6.45s\tremaining: 1m 30s\n",
      "20:\tlearn: 0.5366677\ttotal: 6.82s\tremaining: 1m 30s\n",
      "21:\tlearn: 0.5336716\ttotal: 7.18s\tremaining: 1m 30s\n",
      "22:\tlearn: 0.5312198\ttotal: 7.55s\tremaining: 1m 30s\n",
      "23:\tlearn: 0.5292273\ttotal: 7.91s\tremaining: 1m 30s\n",
      "24:\tlearn: 0.5246637\ttotal: 8.25s\tremaining: 1m 30s\n",
      "25:\tlearn: 0.5214879\ttotal: 8.63s\tremaining: 1m 30s\n",
      "26:\tlearn: 0.5180124\ttotal: 9s\tremaining: 1m 30s\n",
      "27:\tlearn: 0.5148150\ttotal: 9.36s\tremaining: 1m 30s\n",
      "28:\tlearn: 0.5120787\ttotal: 9.73s\tremaining: 1m 30s\n",
      "29:\tlearn: 0.5097674\ttotal: 10.1s\tremaining: 1m 30s\n",
      "30:\tlearn: 0.5063400\ttotal: 10.5s\tremaining: 1m 30s\n",
      "31:\tlearn: 0.5036577\ttotal: 10.8s\tremaining: 1m 30s\n",
      "32:\tlearn: 0.5001896\ttotal: 11.2s\tremaining: 1m 30s\n",
      "33:\tlearn: 0.4981548\ttotal: 11.5s\tremaining: 1m 30s\n",
      "34:\tlearn: 0.4956371\ttotal: 11.9s\tremaining: 1m 30s\n",
      "35:\tlearn: 0.4932251\ttotal: 12.3s\tremaining: 1m 30s\n",
      "36:\tlearn: 0.4910011\ttotal: 12.7s\tremaining: 1m 30s\n",
      "37:\tlearn: 0.4882357\ttotal: 13s\tremaining: 1m 29s\n",
      "38:\tlearn: 0.4860117\ttotal: 13.4s\tremaining: 1m 29s\n",
      "39:\tlearn: 0.4836535\ttotal: 13.8s\tremaining: 1m 29s\n",
      "40:\tlearn: 0.4820764\ttotal: 14.2s\tremaining: 1m 29s\n",
      "41:\tlearn: 0.4798428\ttotal: 14.5s\tremaining: 1m 29s\n",
      "42:\tlearn: 0.4776493\ttotal: 14.9s\tremaining: 1m 28s\n",
      "43:\tlearn: 0.4752912\ttotal: 15.2s\tremaining: 1m 28s\n",
      "44:\tlearn: 0.4734486\ttotal: 15.6s\tremaining: 1m 28s\n",
      "45:\tlearn: 0.4715068\ttotal: 15.9s\tremaining: 1m 27s\n",
      "46:\tlearn: 0.4698920\ttotal: 16.3s\tremaining: 1m 27s\n",
      "47:\tlearn: 0.4677185\ttotal: 16.6s\tremaining: 1m 27s\n",
      "48:\tlearn: 0.4659628\ttotal: 17s\tremaining: 1m 26s\n",
      "49:\tlearn: 0.4634451\ttotal: 17.3s\tremaining: 1m 26s\n",
      "50:\tlearn: 0.4615405\ttotal: 17.7s\tremaining: 1m 26s\n",
      "51:\tlearn: 0.4592409\ttotal: 18s\tremaining: 1m 25s\n",
      "52:\tlearn: 0.4569104\ttotal: 18.4s\tremaining: 1m 25s\n",
      "53:\tlearn: 0.4551815\ttotal: 18.7s\tremaining: 1m 25s\n",
      "54:\tlearn: 0.4536744\ttotal: 19.1s\tremaining: 1m 24s\n",
      "55:\tlearn: 0.4521933\ttotal: 19.4s\tremaining: 1m 24s\n",
      "56:\tlearn: 0.4507947\ttotal: 19.8s\tremaining: 1m 24s\n",
      "57:\tlearn: 0.4488984\ttotal: 20.1s\tremaining: 1m 24s\n",
      "58:\tlearn: 0.4468505\ttotal: 20.5s\tremaining: 1m 23s\n",
      "59:\tlearn: 0.4452570\ttotal: 20.9s\tremaining: 1m 23s\n",
      "60:\tlearn: 0.4438371\ttotal: 21.4s\tremaining: 1m 23s\n",
      "61:\tlearn: 0.4427834\ttotal: 21.8s\tremaining: 1m 23s\n",
      "62:\tlearn: 0.4413967\ttotal: 22.2s\tremaining: 1m 23s\n",
      "63:\tlearn: 0.4400203\ttotal: 22.6s\tremaining: 1m 23s\n",
      "64:\tlearn: 0.4386510\ttotal: 22.9s\tremaining: 1m 22s\n",
      "65:\tlearn: 0.4374258\ttotal: 23.3s\tremaining: 1m 22s\n",
      "66:\tlearn: 0.4362723\ttotal: 23.8s\tremaining: 1m 22s\n",
      "67:\tlearn: 0.4351800\ttotal: 24.2s\tremaining: 1m 22s\n",
      "68:\tlearn: 0.4332203\ttotal: 24.7s\tremaining: 1m 22s\n",
      "69:\tlearn: 0.4314175\ttotal: 25.1s\tremaining: 1m 22s\n",
      "70:\tlearn: 0.4301190\ttotal: 25.5s\tremaining: 1m 22s\n",
      "71:\tlearn: 0.4279529\ttotal: 26s\tremaining: 1m 22s\n",
      "72:\tlearn: 0.4261151\ttotal: 26.5s\tremaining: 1m 22s\n",
      "73:\tlearn: 0.4250455\ttotal: 26.9s\tremaining: 1m 22s\n",
      "74:\tlearn: 0.4233541\ttotal: 27.3s\tremaining: 1m 21s\n",
      "75:\tlearn: 0.4220096\ttotal: 27.9s\tremaining: 1m 22s\n",
      "76:\tlearn: 0.4205023\ttotal: 28.4s\tremaining: 1m 22s\n",
      "77:\tlearn: 0.4188765\ttotal: 29s\tremaining: 1m 22s\n",
      "78:\tlearn: 0.4169179\ttotal: 29.4s\tremaining: 1m 22s\n",
      "79:\tlearn: 0.4157861\ttotal: 29.7s\tremaining: 1m 21s\n",
      "80:\tlearn: 0.4145062\ttotal: 30.1s\tremaining: 1m 21s\n",
      "81:\tlearn: 0.4131167\ttotal: 30.5s\tremaining: 1m 21s\n",
      "82:\tlearn: 0.4111250\ttotal: 30.9s\tremaining: 1m 20s\n",
      "83:\tlearn: 0.4093697\ttotal: 31.2s\tremaining: 1m 20s\n",
      "84:\tlearn: 0.4080951\ttotal: 31.6s\tremaining: 1m 19s\n",
      "85:\tlearn: 0.4066486\ttotal: 31.9s\tremaining: 1m 19s\n",
      "86:\tlearn: 0.4055702\ttotal: 32.3s\tremaining: 1m 19s\n",
      "87:\tlearn: 0.4038996\ttotal: 32.6s\tremaining: 1m 18s\n",
      "88:\tlearn: 0.4023918\ttotal: 33s\tremaining: 1m 18s\n",
      "89:\tlearn: 0.4011067\ttotal: 33.3s\tremaining: 1m 17s\n",
      "90:\tlearn: 0.3995490\ttotal: 33.6s\tremaining: 1m 17s\n",
      "91:\tlearn: 0.3976802\ttotal: 34s\tremaining: 1m 16s\n",
      "92:\tlearn: 0.3960699\ttotal: 34.4s\tremaining: 1m 16s\n",
      "93:\tlearn: 0.3940972\ttotal: 34.7s\tremaining: 1m 16s\n",
      "94:\tlearn: 0.3926792\ttotal: 35.1s\tremaining: 1m 15s\n",
      "95:\tlearn: 0.3911810\ttotal: 35.4s\tremaining: 1m 15s\n",
      "96:\tlearn: 0.3898231\ttotal: 35.8s\tremaining: 1m 14s\n",
      "97:\tlearn: 0.3886436\ttotal: 36.2s\tremaining: 1m 14s\n",
      "98:\tlearn: 0.3875281\ttotal: 36.5s\tremaining: 1m 14s\n",
      "99:\tlearn: 0.3860701\ttotal: 36.9s\tremaining: 1m 13s\n",
      "100:\tlearn: 0.3848056\ttotal: 37.4s\tremaining: 1m 13s\n",
      "101:\tlearn: 0.3836571\ttotal: 37.8s\tremaining: 1m 13s\n",
      "102:\tlearn: 0.3817138\ttotal: 38.1s\tremaining: 1m 12s\n",
      "103:\tlearn: 0.3801253\ttotal: 38.5s\tremaining: 1m 12s\n",
      "104:\tlearn: 0.3787965\ttotal: 38.9s\tremaining: 1m 12s\n",
      "105:\tlearn: 0.3776207\ttotal: 39.2s\tremaining: 1m 11s\n",
      "106:\tlearn: 0.3755062\ttotal: 39.6s\tremaining: 1m 11s\n",
      "107:\tlearn: 0.3742548\ttotal: 40s\tremaining: 1m 11s\n",
      "108:\tlearn: 0.3726005\ttotal: 40.3s\tremaining: 1m 10s\n",
      "109:\tlearn: 0.3709366\ttotal: 40.7s\tremaining: 1m 10s\n",
      "110:\tlearn: 0.3691120\ttotal: 41s\tremaining: 1m 9s\n",
      "111:\tlearn: 0.3675087\ttotal: 41.4s\tremaining: 1m 9s\n",
      "112:\tlearn: 0.3659306\ttotal: 41.8s\tremaining: 1m 9s\n",
      "113:\tlearn: 0.3649462\ttotal: 42.3s\tremaining: 1m 9s\n",
      "114:\tlearn: 0.3641315\ttotal: 42.7s\tremaining: 1m 8s\n",
      "115:\tlearn: 0.3626939\ttotal: 43.1s\tremaining: 1m 8s\n",
      "116:\tlearn: 0.3616199\ttotal: 43.5s\tremaining: 1m 8s\n",
      "117:\tlearn: 0.3604350\ttotal: 43.9s\tremaining: 1m 7s\n",
      "118:\tlearn: 0.3590633\ttotal: 44.3s\tremaining: 1m 7s\n",
      "119:\tlearn: 0.3576873\ttotal: 44.7s\tremaining: 1m 7s\n",
      "120:\tlearn: 0.3565156\ttotal: 45.1s\tremaining: 1m 6s\n",
      "121:\tlearn: 0.3551667\ttotal: 45.5s\tremaining: 1m 6s\n",
      "122:\tlearn: 0.3541519\ttotal: 45.9s\tremaining: 1m 6s\n",
      "123:\tlearn: 0.3527310\ttotal: 46.3s\tremaining: 1m 5s\n",
      "124:\tlearn: 0.3517486\ttotal: 46.6s\tremaining: 1m 5s\n",
      "125:\tlearn: 0.3505042\ttotal: 47s\tremaining: 1m 4s\n",
      "126:\tlearn: 0.3493661\ttotal: 47.4s\tremaining: 1m 4s\n",
      "127:\tlearn: 0.3482142\ttotal: 47.7s\tremaining: 1m 4s\n",
      "128:\tlearn: 0.3470662\ttotal: 48.1s\tremaining: 1m 3s\n",
      "129:\tlearn: 0.3459274\ttotal: 48.5s\tremaining: 1m 3s\n",
      "130:\tlearn: 0.3444901\ttotal: 48.8s\tremaining: 1m 3s\n",
      "131:\tlearn: 0.3428539\ttotal: 49.3s\tremaining: 1m 2s\n",
      "132:\tlearn: 0.3415412\ttotal: 49.6s\tremaining: 1m 2s\n",
      "133:\tlearn: 0.3406554\ttotal: 50s\tremaining: 1m 1s\n",
      "134:\tlearn: 0.3395359\ttotal: 50.4s\tremaining: 1m 1s\n",
      "135:\tlearn: 0.3382169\ttotal: 50.8s\tremaining: 1m 1s\n",
      "136:\tlearn: 0.3370638\ttotal: 51.1s\tremaining: 1m\n",
      "137:\tlearn: 0.3361687\ttotal: 51.6s\tremaining: 1m\n",
      "138:\tlearn: 0.3347817\ttotal: 52.1s\tremaining: 1m\n",
      "139:\tlearn: 0.3337616\ttotal: 52.5s\tremaining: 1m\n",
      "140:\tlearn: 0.3330175\ttotal: 53.1s\tremaining: 59.9s\n",
      "141:\tlearn: 0.3320942\ttotal: 53.6s\tremaining: 59.7s\n",
      "142:\tlearn: 0.3311184\ttotal: 54s\tremaining: 59.3s\n",
      "143:\tlearn: 0.3303649\ttotal: 54.4s\tremaining: 58.9s\n",
      "144:\tlearn: 0.3297559\ttotal: 54.8s\tremaining: 58.5s\n",
      "145:\tlearn: 0.3284593\ttotal: 55.1s\tremaining: 58.2s\n",
      "146:\tlearn: 0.3272989\ttotal: 55.5s\tremaining: 57.8s\n",
      "147:\tlearn: 0.3261135\ttotal: 55.9s\tremaining: 57.4s\n",
      "148:\tlearn: 0.3251878\ttotal: 56.2s\tremaining: 57s\n",
      "149:\tlearn: 0.3242857\ttotal: 56.6s\tremaining: 56.6s\n",
      "150:\tlearn: 0.3236688\ttotal: 57s\tremaining: 56.2s\n",
      "151:\tlearn: 0.3226742\ttotal: 57.3s\tremaining: 55.8s\n",
      "152:\tlearn: 0.3214667\ttotal: 57.7s\tremaining: 55.4s\n",
      "153:\tlearn: 0.3205361\ttotal: 58s\tremaining: 55s\n",
      "154:\tlearn: 0.3198922\ttotal: 58.4s\tremaining: 54.6s\n",
      "155:\tlearn: 0.3191239\ttotal: 58.8s\tremaining: 54.2s\n",
      "156:\tlearn: 0.3184189\ttotal: 59.1s\tremaining: 53.8s\n",
      "157:\tlearn: 0.3175783\ttotal: 59.5s\tremaining: 53.4s\n",
      "158:\tlearn: 0.3166980\ttotal: 59.8s\tremaining: 53.1s\n",
      "159:\tlearn: 0.3159946\ttotal: 1m\tremaining: 52.7s\n",
      "160:\tlearn: 0.3150578\ttotal: 1m\tremaining: 52.3s\n",
      "161:\tlearn: 0.3143098\ttotal: 1m\tremaining: 52s\n",
      "162:\tlearn: 0.3126397\ttotal: 1m 1s\tremaining: 51.6s\n",
      "163:\tlearn: 0.3116815\ttotal: 1m 1s\tremaining: 51.2s\n",
      "164:\tlearn: 0.3108048\ttotal: 1m 2s\tremaining: 50.8s\n",
      "165:\tlearn: 0.3103645\ttotal: 1m 2s\tremaining: 50.4s\n",
      "166:\tlearn: 0.3095784\ttotal: 1m 2s\tremaining: 50s\n",
      "167:\tlearn: 0.3088749\ttotal: 1m 3s\tremaining: 49.6s\n",
      "168:\tlearn: 0.3083800\ttotal: 1m 3s\tremaining: 49.2s\n",
      "169:\tlearn: 0.3076070\ttotal: 1m 3s\tremaining: 48.8s\n",
      "170:\tlearn: 0.3067398\ttotal: 1m 4s\tremaining: 48.4s\n",
      "171:\tlearn: 0.3058543\ttotal: 1m 4s\tremaining: 48.1s\n",
      "172:\tlearn: 0.3049493\ttotal: 1m 4s\tremaining: 47.7s\n",
      "173:\tlearn: 0.3041938\ttotal: 1m 5s\tremaining: 47.3s\n",
      "174:\tlearn: 0.3035352\ttotal: 1m 5s\tremaining: 46.9s\n",
      "175:\tlearn: 0.3020971\ttotal: 1m 5s\tremaining: 46.5s\n",
      "176:\tlearn: 0.3013781\ttotal: 1m 6s\tremaining: 46.1s\n",
      "177:\tlearn: 0.3008104\ttotal: 1m 6s\tremaining: 45.7s\n",
      "178:\tlearn: 0.3004020\ttotal: 1m 7s\tremaining: 45.3s\n",
      "179:\tlearn: 0.2999062\ttotal: 1m 7s\tremaining: 44.9s\n",
      "180:\tlearn: 0.2991766\ttotal: 1m 7s\tremaining: 44.5s\n",
      "181:\tlearn: 0.2983051\ttotal: 1m 8s\tremaining: 44.1s\n",
      "182:\tlearn: 0.2977382\ttotal: 1m 8s\tremaining: 43.7s\n",
      "183:\tlearn: 0.2971425\ttotal: 1m 8s\tremaining: 43.3s\n",
      "184:\tlearn: 0.2964123\ttotal: 1m 9s\tremaining: 43s\n",
      "185:\tlearn: 0.2956879\ttotal: 1m 9s\tremaining: 42.6s\n",
      "186:\tlearn: 0.2950169\ttotal: 1m 9s\tremaining: 42.2s\n",
      "187:\tlearn: 0.2944548\ttotal: 1m 10s\tremaining: 41.8s\n",
      "188:\tlearn: 0.2937673\ttotal: 1m 10s\tremaining: 41.4s\n",
      "189:\tlearn: 0.2933712\ttotal: 1m 10s\tremaining: 41s\n",
      "190:\tlearn: 0.2923332\ttotal: 1m 11s\tremaining: 40.6s\n",
      "191:\tlearn: 0.2913089\ttotal: 1m 11s\tremaining: 40.2s\n",
      "192:\tlearn: 0.2906428\ttotal: 1m 11s\tremaining: 39.8s\n",
      "193:\tlearn: 0.2898008\ttotal: 1m 12s\tremaining: 39.5s\n",
      "194:\tlearn: 0.2887635\ttotal: 1m 12s\tremaining: 39.1s\n",
      "195:\tlearn: 0.2881487\ttotal: 1m 12s\tremaining: 38.7s\n",
      "196:\tlearn: 0.2878468\ttotal: 1m 13s\tremaining: 38.3s\n",
      "197:\tlearn: 0.2870963\ttotal: 1m 13s\tremaining: 37.9s\n",
      "198:\tlearn: 0.2864463\ttotal: 1m 13s\tremaining: 37.5s\n",
      "199:\tlearn: 0.2861418\ttotal: 1m 14s\tremaining: 37.1s\n",
      "200:\tlearn: 0.2854757\ttotal: 1m 14s\tremaining: 36.7s\n",
      "201:\tlearn: 0.2847022\ttotal: 1m 14s\tremaining: 36.4s\n",
      "202:\tlearn: 0.2841802\ttotal: 1m 15s\tremaining: 36s\n",
      "203:\tlearn: 0.2837400\ttotal: 1m 15s\tremaining: 35.6s\n",
      "204:\tlearn: 0.2830239\ttotal: 1m 16s\tremaining: 35.3s\n",
      "205:\tlearn: 0.2826868\ttotal: 1m 16s\tremaining: 34.9s\n",
      "206:\tlearn: 0.2821766\ttotal: 1m 16s\tremaining: 34.5s\n",
      "207:\tlearn: 0.2815441\ttotal: 1m 17s\tremaining: 34.2s\n",
      "208:\tlearn: 0.2809373\ttotal: 1m 17s\tremaining: 33.8s\n",
      "209:\tlearn: 0.2803617\ttotal: 1m 18s\tremaining: 33.4s\n",
      "210:\tlearn: 0.2795342\ttotal: 1m 18s\tremaining: 33.1s\n",
      "211:\tlearn: 0.2787982\ttotal: 1m 18s\tremaining: 32.7s\n",
      "212:\tlearn: 0.2782467\ttotal: 1m 19s\tremaining: 32.3s\n",
      "213:\tlearn: 0.2776471\ttotal: 1m 19s\tremaining: 31.9s\n",
      "214:\tlearn: 0.2766924\ttotal: 1m 19s\tremaining: 31.5s\n",
      "215:\tlearn: 0.2761295\ttotal: 1m 20s\tremaining: 31.2s\n",
      "216:\tlearn: 0.2757554\ttotal: 1m 20s\tremaining: 30.8s\n",
      "217:\tlearn: 0.2751041\ttotal: 1m 20s\tremaining: 30.4s\n",
      "218:\tlearn: 0.2744556\ttotal: 1m 21s\tremaining: 30s\n",
      "219:\tlearn: 0.2736831\ttotal: 1m 21s\tremaining: 29.6s\n",
      "220:\tlearn: 0.2730974\ttotal: 1m 21s\tremaining: 29.3s\n",
      "221:\tlearn: 0.2725234\ttotal: 1m 22s\tremaining: 28.9s\n",
      "222:\tlearn: 0.2720255\ttotal: 1m 22s\tremaining: 28.5s\n",
      "223:\tlearn: 0.2715780\ttotal: 1m 22s\tremaining: 28.1s\n",
      "224:\tlearn: 0.2711396\ttotal: 1m 23s\tremaining: 27.7s\n",
      "225:\tlearn: 0.2704932\ttotal: 1m 23s\tremaining: 27.4s\n",
      "226:\tlearn: 0.2699450\ttotal: 1m 23s\tremaining: 27s\n",
      "227:\tlearn: 0.2695941\ttotal: 1m 24s\tremaining: 26.6s\n",
      "228:\tlearn: 0.2689293\ttotal: 1m 24s\tremaining: 26.2s\n",
      "229:\tlearn: 0.2683869\ttotal: 1m 24s\tremaining: 25.9s\n",
      "230:\tlearn: 0.2677407\ttotal: 1m 25s\tremaining: 25.5s\n",
      "231:\tlearn: 0.2673595\ttotal: 1m 25s\tremaining: 25.1s\n",
      "232:\tlearn: 0.2664137\ttotal: 1m 26s\tremaining: 24.7s\n",
      "233:\tlearn: 0.2660564\ttotal: 1m 26s\tremaining: 24.4s\n",
      "234:\tlearn: 0.2653117\ttotal: 1m 26s\tremaining: 24s\n",
      "235:\tlearn: 0.2647532\ttotal: 1m 27s\tremaining: 23.6s\n",
      "236:\tlearn: 0.2639533\ttotal: 1m 27s\tremaining: 23.3s\n",
      "237:\tlearn: 0.2634446\ttotal: 1m 27s\tremaining: 22.9s\n",
      "238:\tlearn: 0.2630819\ttotal: 1m 28s\tremaining: 22.5s\n",
      "239:\tlearn: 0.2626431\ttotal: 1m 28s\tremaining: 22.1s\n",
      "240:\tlearn: 0.2622378\ttotal: 1m 28s\tremaining: 21.8s\n",
      "241:\tlearn: 0.2615749\ttotal: 1m 29s\tremaining: 21.4s\n",
      "242:\tlearn: 0.2610761\ttotal: 1m 29s\tremaining: 21.1s\n",
      "243:\tlearn: 0.2605013\ttotal: 1m 30s\tremaining: 20.7s\n",
      "244:\tlearn: 0.2600103\ttotal: 1m 30s\tremaining: 20.3s\n",
      "245:\tlearn: 0.2594621\ttotal: 1m 30s\tremaining: 19.9s\n",
      "246:\tlearn: 0.2587368\ttotal: 1m 31s\tremaining: 19.6s\n",
      "247:\tlearn: 0.2581778\ttotal: 1m 31s\tremaining: 19.2s\n",
      "248:\tlearn: 0.2574672\ttotal: 1m 31s\tremaining: 18.8s\n",
      "249:\tlearn: 0.2567091\ttotal: 1m 32s\tremaining: 18.5s\n",
      "250:\tlearn: 0.2561487\ttotal: 1m 32s\tremaining: 18.1s\n",
      "251:\tlearn: 0.2554541\ttotal: 1m 33s\tremaining: 17.7s\n",
      "252:\tlearn: 0.2550938\ttotal: 1m 33s\tremaining: 17.3s\n",
      "253:\tlearn: 0.2546671\ttotal: 1m 33s\tremaining: 17s\n",
      "254:\tlearn: 0.2543116\ttotal: 1m 34s\tremaining: 16.6s\n",
      "255:\tlearn: 0.2538008\ttotal: 1m 34s\tremaining: 16.2s\n",
      "256:\tlearn: 0.2532617\ttotal: 1m 34s\tremaining: 15.9s\n",
      "257:\tlearn: 0.2529221\ttotal: 1m 35s\tremaining: 15.5s\n",
      "258:\tlearn: 0.2521989\ttotal: 1m 35s\tremaining: 15.1s\n",
      "259:\tlearn: 0.2517824\ttotal: 1m 35s\tremaining: 14.8s\n",
      "260:\tlearn: 0.2512700\ttotal: 1m 36s\tremaining: 14.4s\n",
      "261:\tlearn: 0.2508212\ttotal: 1m 36s\tremaining: 14s\n",
      "262:\tlearn: 0.2503097\ttotal: 1m 37s\tremaining: 13.6s\n",
      "263:\tlearn: 0.2498730\ttotal: 1m 37s\tremaining: 13.3s\n",
      "264:\tlearn: 0.2491304\ttotal: 1m 37s\tremaining: 12.9s\n",
      "265:\tlearn: 0.2485752\ttotal: 1m 38s\tremaining: 12.5s\n",
      "266:\tlearn: 0.2479120\ttotal: 1m 38s\tremaining: 12.2s\n",
      "267:\tlearn: 0.2472901\ttotal: 1m 38s\tremaining: 11.8s\n",
      "268:\tlearn: 0.2466124\ttotal: 1m 39s\tremaining: 11.4s\n",
      "269:\tlearn: 0.2462473\ttotal: 1m 39s\tremaining: 11.1s\n",
      "270:\tlearn: 0.2457595\ttotal: 1m 39s\tremaining: 10.7s\n",
      "271:\tlearn: 0.2452460\ttotal: 1m 40s\tremaining: 10.3s\n",
      "272:\tlearn: 0.2449035\ttotal: 1m 40s\tremaining: 9.95s\n",
      "273:\tlearn: 0.2442268\ttotal: 1m 41s\tremaining: 9.58s\n",
      "274:\tlearn: 0.2438115\ttotal: 1m 41s\tremaining: 9.22s\n",
      "275:\tlearn: 0.2432981\ttotal: 1m 41s\tremaining: 8.85s\n",
      "276:\tlearn: 0.2429236\ttotal: 1m 42s\tremaining: 8.48s\n",
      "277:\tlearn: 0.2425514\ttotal: 1m 42s\tremaining: 8.11s\n",
      "278:\tlearn: 0.2421993\ttotal: 1m 42s\tremaining: 7.74s\n",
      "279:\tlearn: 0.2415190\ttotal: 1m 43s\tremaining: 7.37s\n",
      "280:\tlearn: 0.2410072\ttotal: 1m 43s\tremaining: 7s\n",
      "281:\tlearn: 0.2404308\ttotal: 1m 43s\tremaining: 6.63s\n",
      "282:\tlearn: 0.2401517\ttotal: 1m 44s\tremaining: 6.26s\n",
      "283:\tlearn: 0.2394483\ttotal: 1m 44s\tremaining: 5.89s\n",
      "284:\tlearn: 0.2391028\ttotal: 1m 45s\tremaining: 5.53s\n",
      "285:\tlearn: 0.2387428\ttotal: 1m 45s\tremaining: 5.16s\n",
      "286:\tlearn: 0.2383639\ttotal: 1m 45s\tremaining: 4.79s\n",
      "287:\tlearn: 0.2376935\ttotal: 1m 46s\tremaining: 4.42s\n",
      "288:\tlearn: 0.2373965\ttotal: 1m 46s\tremaining: 4.05s\n",
      "289:\tlearn: 0.2367974\ttotal: 1m 46s\tremaining: 3.68s\n",
      "290:\tlearn: 0.2362977\ttotal: 1m 47s\tremaining: 3.32s\n",
      "291:\tlearn: 0.2357514\ttotal: 1m 47s\tremaining: 2.95s\n",
      "292:\tlearn: 0.2351714\ttotal: 1m 48s\tremaining: 2.58s\n",
      "293:\tlearn: 0.2349146\ttotal: 1m 48s\tremaining: 2.21s\n",
      "294:\tlearn: 0.2341461\ttotal: 1m 48s\tremaining: 1.84s\n",
      "295:\tlearn: 0.2337007\ttotal: 1m 49s\tremaining: 1.48s\n",
      "296:\tlearn: 0.2331102\ttotal: 1m 49s\tremaining: 1.11s\n",
      "297:\tlearn: 0.2326973\ttotal: 1m 49s\tremaining: 738ms\n",
      "298:\tlearn: 0.2323842\ttotal: 1m 50s\tremaining: 369ms\n",
      "299:\tlearn: 0.2320170\ttotal: 1m 50s\tremaining: 0us\n"
     ]
    }
   ],
   "source": [
    "model = CatBoostClassifier(iterations=300, learning_rate=0.1, max_depth = 8)\n",
    "t0 = time.time()\n",
    "model.fit(tfidf_vect_train, Y_train)\n",
    "t1 = time.time()\n",
    "cat_Ypred = model.predict(tfidf_vect_test)\n",
    "t2 = time.time()\n",
    "cat_time_linear_train = t1-t0\n",
    "cat_time_linear_predict = t2-t1\n",
    "cat_f1Score = f1_score(Y_test, cat_Ypred, average = \"weighted\")"
   ]
  },
  {
   "cell_type": "code",
   "execution_count": 20,
   "metadata": {},
   "outputs": [
    {
     "name": "stdout",
     "output_type": "stream",
     "text": [
      "Training time: 142.943628s; Prediction time: 1.319339s\n"
     ]
    }
   ],
   "source": [
    "print(\"Training time: %fs; Prediction time: %fs\" % (cat_time_linear_train, cat_time_linear_predict))"
   ]
  },
  {
   "cell_type": "code",
   "execution_count": 21,
   "metadata": {},
   "outputs": [
    {
     "data": {
      "text/plain": [
       "0.781999127996512"
      ]
     },
     "execution_count": 21,
     "metadata": {},
     "output_type": "execute_result"
    }
   ],
   "source": [
    "cat_f1Score"
   ]
  },
  {
   "cell_type": "code",
   "execution_count": 23,
   "metadata": {},
   "outputs": [],
   "source": [
    "model = svm.SVC(kernel='rbf')\n",
    "t0 = time.time()\n",
    "model.fit(tfidf_vect_train, Y_train)\n",
    "t1 = time.time()\n",
    "svc_Ypred = model.predict(tfidf_vect_test)\n",
    "t2 = time.time()\n",
    "svc_time_linear_train = t1-t0\n",
    "svc_time_linear_predict = t2-t1\n",
    "svc_f1Score = f1_score(Y_test, svc_Ypred, average = \"weighted\")"
   ]
  },
  {
   "cell_type": "code",
   "execution_count": 24,
   "metadata": {},
   "outputs": [
    {
     "name": "stdout",
     "output_type": "stream",
     "text": [
      "Training time: 151.053635s; Prediction time: 37.213420s\n"
     ]
    }
   ],
   "source": [
    "print(\"Training time: %fs; Prediction time: %fs\" % (svc_time_linear_train, svc_time_linear_predict))"
   ]
  },
  {
   "cell_type": "code",
   "execution_count": 25,
   "metadata": {},
   "outputs": [
    {
     "data": {
      "text/plain": [
       "0.8239887352790578"
      ]
     },
     "execution_count": 25,
     "metadata": {},
     "output_type": "execute_result"
    }
   ],
   "source": [
    "svc_f1Score"
   ]
  },
  {
   "cell_type": "code",
   "execution_count": 42,
   "metadata": {},
   "outputs": [],
   "source": [
    "f1_scores = [svc_f1Score, cat_f1Score, xg_f1Score]\n",
    "train_time = [svc_time_linear_train, cat_time_linear_train, xg_time_linear_train]\n",
    "predict_time = [svc_time_linear_predict, cat_time_linear_predict, xg_time_linear_predict]\n",
    "algo_name = [\"SVC\", \"CatBoost\", \"XGBoost\"]"
   ]
  },
  {
   "cell_type": "code",
   "execution_count": 57,
   "metadata": {},
   "outputs": [
    {
     "data": {
      "image/png": "[encoded data removed]",
      "text/plain": [
       "<Figure size 576x216 with 1 Axes>"
      ]
     },
     "metadata": {},
     "output_type": "display_data"
    }
   ],
   "source": [
    "f1_scores = [svc_f1Score, cat_f1Score, xg_f1Score]\n",
    "train_time = [svc_time_linear_train, cat_time_linear_train, xg_time_linear_train]\n",
    "predict_time = [svc_time_linear_predict, cat_time_linear_predict, xg_time_linear_predict]\n",
    "algo_name = [\"SVC\", \"CatBoost\", \"XGBoost\"]\n",
    "\n",
    "import seaborn as sns\n",
    "import matplotlib.pyplot as plt\n",
    "plt.figure(figsize=(8,3))\n",
    "sns.set_theme(style = \"whitegrid\")\n",
    "ax = sns.pointplot(x = algo_name, y = f1_scores)\n",
    "ax.set_xticklabels(ax.get_xticklabels() , rotation = 90)\n",
    "plt.show()"
   ]
  },
  {
   "cell_type": "code",
   "execution_count": 56,
   "metadata": {},
   "outputs": [
    {
     "data": {
      "image/png": "[encoded data removed]",
      "text/plain": [
       "<Figure size 576x216 with 1 Axes>"
      ]
     },
     "metadata": {},
     "output_type": "display_data"
    }
   ],
   "source": [
    "plt.figure(figsize=(8,3))\n",
    "sns.set_theme(style = \"whitegrid\")\n",
    "bx = sns.pointplot(x = algo_name, y = train_time)\n",
    "bx.set_xticklabels(ax.get_xticklabels() , rotation = 90)\n",
    "plt.show()"
   ]
  },
  {
   "cell_type": "code",
   "execution_count": 55,
   "metadata": {},
   "outputs": [
    {
     "data": {
      "image/png": "[encoded data removed]",
      "text/plain": [
       "<Figure size 576x216 with 1 Axes>"
      ]
     },
     "metadata": {},
     "output_type": "display_data"
    }
   ],
   "source": [
    "plt.figure(figsize=(8,3))\n",
    "sns.set_theme(style = \"whitegrid\")\n",
    "cx = sns.pointplot(x = algo_name, y = predict_time)\n",
    "cx.set_xticklabels(ax.get_xticklabels() , rotation = 90)\n",
    "plt.show()"
   ]
  },
  {
   "cell_type": "code",
   "execution_count": null,
   "metadata": {},
   "outputs": [],
   "source": []
  }
 ],
 "metadata": {
  "kernelspec": {
   "display_name": "Python 3",
   "language": "python",
   "name": "python3"
  },
  "language_info": {
   "codemirror_mode": {
    "name": "ipython",
    "version": 3
   },
   "file_extension": ".py",
   "mimetype": "text/x-python",
   "name": "python",
   "nbconvert_exporter": "python",
   "pygments_lexer": "ipython3",
   "version": "3.7.9"
  }
 },
 "nbformat": 4,
 "nbformat_minor": 4
}
