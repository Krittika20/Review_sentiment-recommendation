{
 "cells": [
  {
   "cell_type": "code",
   "execution_count": 1,
   "metadata": {},
   "outputs": [],
   "source": [
    "import pandas as pd\n",
    "import time\n",
    "from sklearn.model_selection import train_test_split\n",
    "from sklearn.feature_extraction.text import TfidfVectorizer\n",
    "import xgboost as xgb\n",
    "from catboost import CatBoostClassifier\n",
    "from sklearn.linear_model import LogisticRegression\n",
    "from sklearn import svm\n",
    "from sklearn.metrics import f1_score\n",
    "from sklearn import metrics"
   ]
  },
  {
   "cell_type": "code",
   "execution_count": 2,
   "metadata": {},
   "outputs": [],
   "source": [
    "cleaned_data = pd.read_csv(\"dataset/cleaned_data3.csv\")"
   ]
  },
  {
   "cell_type": "code",
   "execution_count": 3,
   "metadata": {},
   "outputs": [
    {
     "data": {
      "text/html": [
       "<div>\n",
       "<style scoped>\n",
       "    .dataframe tbody tr th:only-of-type {\n",
       "        vertical-align: middle;\n",
       "    }\n",
       "\n",
       "    .dataframe tbody tr th {\n",
       "        vertical-align: top;\n",
       "    }\n",
       "\n",
       "    .dataframe thead th {\n",
       "        text-align: right;\n",
       "    }\n",
       "</style>\n",
       "<table border=\"1\" class=\"dataframe\">\n",
       "  <thead>\n",
       "    <tr style=\"text-align: right;\">\n",
       "      <th></th>\n",
       "      <th>reviewerID</th>\n",
       "      <th>reviewText</th>\n",
       "      <th>clean_reviewText</th>\n",
       "      <th>clean_summary</th>\n",
       "      <th>rating_class</th>\n",
       "    </tr>\n",
       "  </thead>\n",
       "  <tbody>\n",
       "    <tr>\n",
       "      <th>0</th>\n",
       "      <td>A3LDPF5FMB782Z</td>\n",
       "      <td>The Nook tablet is a great color e-reader with...</td>\n",
       "      <td>tablet great color e-reader bonus able read em...</td>\n",
       "      <td>great color e-reader extra feature</td>\n",
       "      <td>good</td>\n",
       "    </tr>\n",
       "    <tr>\n",
       "      <th>1</th>\n",
       "      <td>A2AEZQ3DGBBLPR</td>\n",
       "      <td>I bought this repair kit so I could watch a re...</td>\n",
       "      <td>repair kit could watch movie quite scratch ski...</td>\n",
       "      <td>create new scratch didn fix old ones</td>\n",
       "      <td>bad</td>\n",
       "    </tr>\n",
       "    <tr>\n",
       "      <th>2</th>\n",
       "      <td>ATY86XH2DJ4ZH</td>\n",
       "      <td>I am not an audiophile, but I do care about th...</td>\n",
       "      <td>not audiophile care sound hear headset last we...</td>\n",
       "      <td>not really noise cancel headset</td>\n",
       "      <td>bad</td>\n",
       "    </tr>\n",
       "    <tr>\n",
       "      <th>3</th>\n",
       "      <td>A2ATP6ZTCPX1QX</td>\n",
       "      <td>I'm not one to complain much but I hate old pr...</td>\n",
       "      <td>not one complain much hate old products mix ne...</td>\n",
       "      <td>take old products .</td>\n",
       "      <td>bad</td>\n",
       "    </tr>\n",
       "    <tr>\n",
       "      <th>4</th>\n",
       "      <td>A3QPWNKTUC8N2B</td>\n",
       "      <td>I bought this ereader and the Amazon Kindle er...</td>\n",
       "      <td>ereader amazon kindle ereader time could compa...</td>\n",
       "      <td>favorite ereader</td>\n",
       "      <td>good</td>\n",
       "    </tr>\n",
       "  </tbody>\n",
       "</table>\n",
       "</div>"
      ],
      "text/plain": [
       "       reviewerID                                         reviewText  \\\n",
       "0  A3LDPF5FMB782Z  The Nook tablet is a great color e-reader with...   \n",
       "1  A2AEZQ3DGBBLPR  I bought this repair kit so I could watch a re...   \n",
       "2   ATY86XH2DJ4ZH  I am not an audiophile, but I do care about th...   \n",
       "3  A2ATP6ZTCPX1QX  I'm not one to complain much but I hate old pr...   \n",
       "4  A3QPWNKTUC8N2B  I bought this ereader and the Amazon Kindle er...   \n",
       "\n",
       "                                    clean_reviewText  \\\n",
       "0  tablet great color e-reader bonus able read em...   \n",
       "1  repair kit could watch movie quite scratch ski...   \n",
       "2  not audiophile care sound hear headset last we...   \n",
       "3  not one complain much hate old products mix ne...   \n",
       "4  ereader amazon kindle ereader time could compa...   \n",
       "\n",
       "                          clean_summary rating_class  \n",
       "0    great color e-reader extra feature         good  \n",
       "1  create new scratch didn fix old ones          bad  \n",
       "2       not really noise cancel headset          bad  \n",
       "3                   take old products .          bad  \n",
       "4                      favorite ereader         good  "
      ]
     },
     "execution_count": 3,
     "metadata": {},
     "output_type": "execute_result"
    }
   ],
   "source": [
    "cleaned_data.head(5)"
   ]
  },
  {
   "cell_type": "code",
   "execution_count": 4,
   "metadata": {},
   "outputs": [],
   "source": [
    "cleaned_data[\"rating_class\"] = cleaned_data[\"rating_class\"].apply(lambda x: 1 if x==\"good\" else 0)"
   ]
  },
  {
   "cell_type": "code",
   "execution_count": 5,
   "metadata": {},
   "outputs": [
    {
     "data": {
      "text/html": [
       "<div>\n",
       "<style scoped>\n",
       "    .dataframe tbody tr th:only-of-type {\n",
       "        vertical-align: middle;\n",
       "    }\n",
       "\n",
       "    .dataframe tbody tr th {\n",
       "        vertical-align: top;\n",
       "    }\n",
       "\n",
       "    .dataframe thead th {\n",
       "        text-align: right;\n",
       "    }\n",
       "</style>\n",
       "<table border=\"1\" class=\"dataframe\">\n",
       "  <thead>\n",
       "    <tr style=\"text-align: right;\">\n",
       "      <th></th>\n",
       "      <th>reviewerID</th>\n",
       "      <th>reviewText</th>\n",
       "      <th>clean_reviewText</th>\n",
       "      <th>clean_summary</th>\n",
       "      <th>rating_class</th>\n",
       "    </tr>\n",
       "  </thead>\n",
       "  <tbody>\n",
       "    <tr>\n",
       "      <th>0</th>\n",
       "      <td>A3LDPF5FMB782Z</td>\n",
       "      <td>The Nook tablet is a great color e-reader with...</td>\n",
       "      <td>tablet great color e-reader bonus able read em...</td>\n",
       "      <td>great color e-reader extra feature</td>\n",
       "      <td>1</td>\n",
       "    </tr>\n",
       "    <tr>\n",
       "      <th>1</th>\n",
       "      <td>A2AEZQ3DGBBLPR</td>\n",
       "      <td>I bought this repair kit so I could watch a re...</td>\n",
       "      <td>repair kit could watch movie quite scratch ski...</td>\n",
       "      <td>create new scratch didn fix old ones</td>\n",
       "      <td>0</td>\n",
       "    </tr>\n",
       "    <tr>\n",
       "      <th>2</th>\n",
       "      <td>ATY86XH2DJ4ZH</td>\n",
       "      <td>I am not an audiophile, but I do care about th...</td>\n",
       "      <td>not audiophile care sound hear headset last we...</td>\n",
       "      <td>not really noise cancel headset</td>\n",
       "      <td>0</td>\n",
       "    </tr>\n",
       "    <tr>\n",
       "      <th>3</th>\n",
       "      <td>A2ATP6ZTCPX1QX</td>\n",
       "      <td>I'm not one to complain much but I hate old pr...</td>\n",
       "      <td>not one complain much hate old products mix ne...</td>\n",
       "      <td>take old products .</td>\n",
       "      <td>0</td>\n",
       "    </tr>\n",
       "    <tr>\n",
       "      <th>4</th>\n",
       "      <td>A3QPWNKTUC8N2B</td>\n",
       "      <td>I bought this ereader and the Amazon Kindle er...</td>\n",
       "      <td>ereader amazon kindle ereader time could compa...</td>\n",
       "      <td>favorite ereader</td>\n",
       "      <td>1</td>\n",
       "    </tr>\n",
       "  </tbody>\n",
       "</table>\n",
       "</div>"
      ],
      "text/plain": [
       "       reviewerID                                         reviewText  \\\n",
       "0  A3LDPF5FMB782Z  The Nook tablet is a great color e-reader with...   \n",
       "1  A2AEZQ3DGBBLPR  I bought this repair kit so I could watch a re...   \n",
       "2   ATY86XH2DJ4ZH  I am not an audiophile, but I do care about th...   \n",
       "3  A2ATP6ZTCPX1QX  I'm not one to complain much but I hate old pr...   \n",
       "4  A3QPWNKTUC8N2B  I bought this ereader and the Amazon Kindle er...   \n",
       "\n",
       "                                    clean_reviewText  \\\n",
       "0  tablet great color e-reader bonus able read em...   \n",
       "1  repair kit could watch movie quite scratch ski...   \n",
       "2  not audiophile care sound hear headset last we...   \n",
       "3  not one complain much hate old products mix ne...   \n",
       "4  ereader amazon kindle ereader time could compa...   \n",
       "\n",
       "                          clean_summary  rating_class  \n",
       "0    great color e-reader extra feature             1  \n",
       "1  create new scratch didn fix old ones             0  \n",
       "2       not really noise cancel headset             0  \n",
       "3                   take old products .             0  \n",
       "4                      favorite ereader             1  "
      ]
     },
     "execution_count": 5,
     "metadata": {},
     "output_type": "execute_result"
    }
   ],
   "source": [
    "cleaned_data.head(5)"
   ]
  },
  {
   "cell_type": "code",
   "execution_count": 6,
   "metadata": {},
   "outputs": [],
   "source": [
    "Y = cleaned_data[\"rating_class\"]\n",
    "X = cleaned_data[\"clean_reviewText\"]"
   ]
  },
  {
   "cell_type": "code",
   "execution_count": 7,
   "metadata": {},
   "outputs": [],
   "source": [
    "tfidf_vect = TfidfVectorizer(ngram_range=(1, 3))\n",
    "X_tfidf = tfidf_vect.fit_transform(X.values.astype(\"U\"))\n",
    "X_tfidf  = X_tfidf.toarray()"
   ]
  },
  {
   "cell_type": "code",
   "execution_count": 8,
   "metadata": {},
   "outputs": [],
   "source": [
    "from sklearn.feature_selection import SelectKBest\n",
    "from sklearn.feature_selection import f_classif\n",
    "\n",
    "selectK = SelectKBest(f_classif, k=1000)\n",
    "selectK.fit(X_tfidf, Y)\n",
    "X_sel = selectK.transform(X_tfidf)"
   ]
  },
  {
   "cell_type": "code",
   "execution_count": 9,
   "metadata": {},
   "outputs": [],
   "source": [
    "tfidf_vect_train, tfidf_vect_test, Y_train, Y_test = train_test_split(X_sel, Y, test_size=0.2, random_state=42,shuffle=True, stratify = Y)"
   ]
  },
  {
   "cell_type": "code",
   "execution_count": 10,
   "metadata": {},
   "outputs": [
    {
     "name": "stdout",
     "output_type": "stream",
     "text": [
      "[0]\tvalidation_0-aucpr:0.846432\tvalidation_0-error:0.22375\tvalidation_1-aucpr:0.775736\tvalidation_1-error:0.275\n",
      "Multiple eval metrics have been passed: 'validation_1-error' will be used for early stopping.\n",
      "\n",
      "Will train until validation_1-error hasn't improved in 20 rounds.\n",
      "[1]\tvalidation_0-aucpr:0.878217\tvalidation_0-error:0.18875\tvalidation_1-aucpr:0.801166\tvalidation_1-error:0.27\n",
      "[2]\tvalidation_0-aucpr:0.909877\tvalidation_0-error:0.16375\tvalidation_1-aucpr:0.804989\tvalidation_1-error:0.245\n",
      "[3]\tvalidation_0-aucpr:0.913173\tvalidation_0-error:0.1575\tvalidation_1-aucpr:0.79604\tvalidation_1-error:0.255\n",
      "[4]\tvalidation_0-aucpr:0.917171\tvalidation_0-error:0.16125\tvalidation_1-aucpr:0.843884\tvalidation_1-error:0.23\n",
      "[5]\tvalidation_0-aucpr:0.926968\tvalidation_0-error:0.14625\tvalidation_1-aucpr:0.841202\tvalidation_1-error:0.23\n",
      "[6]\tvalidation_0-aucpr:0.935286\tvalidation_0-error:0.13375\tvalidation_1-aucpr:0.844703\tvalidation_1-error:0.225\n",
      "[7]\tvalidation_0-aucpr:0.938406\tvalidation_0-error:0.1275\tvalidation_1-aucpr:0.855914\tvalidation_1-error:0.235\n",
      "[8]\tvalidation_0-aucpr:0.941755\tvalidation_0-error:0.12375\tvalidation_1-aucpr:0.857879\tvalidation_1-error:0.21\n",
      "[9]\tvalidation_0-aucpr:0.944809\tvalidation_0-error:0.12\tvalidation_1-aucpr:0.863922\tvalidation_1-error:0.21\n",
      "[10]\tvalidation_0-aucpr:0.948811\tvalidation_0-error:0.12625\tvalidation_1-aucpr:0.870641\tvalidation_1-error:0.215\n",
      "[11]\tvalidation_0-aucpr:0.952029\tvalidation_0-error:0.1175\tvalidation_1-aucpr:0.873113\tvalidation_1-error:0.215\n",
      "[12]\tvalidation_0-aucpr:0.953534\tvalidation_0-error:0.1175\tvalidation_1-aucpr:0.877843\tvalidation_1-error:0.21\n",
      "[13]\tvalidation_0-aucpr:0.956339\tvalidation_0-error:0.115\tvalidation_1-aucpr:0.882829\tvalidation_1-error:0.22\n",
      "[14]\tvalidation_0-aucpr:0.959218\tvalidation_0-error:0.10875\tvalidation_1-aucpr:0.876323\tvalidation_1-error:0.225\n",
      "[15]\tvalidation_0-aucpr:0.960449\tvalidation_0-error:0.11125\tvalidation_1-aucpr:0.88427\tvalidation_1-error:0.235\n",
      "[16]\tvalidation_0-aucpr:0.961118\tvalidation_0-error:0.10375\tvalidation_1-aucpr:0.889637\tvalidation_1-error:0.22\n",
      "[17]\tvalidation_0-aucpr:0.96333\tvalidation_0-error:0.09625\tvalidation_1-aucpr:0.890542\tvalidation_1-error:0.225\n",
      "[18]\tvalidation_0-aucpr:0.96388\tvalidation_0-error:0.095\tvalidation_1-aucpr:0.891061\tvalidation_1-error:0.21\n",
      "[19]\tvalidation_0-aucpr:0.9652\tvalidation_0-error:0.09375\tvalidation_1-aucpr:0.897036\tvalidation_1-error:0.22\n",
      "[20]\tvalidation_0-aucpr:0.96606\tvalidation_0-error:0.08625\tvalidation_1-aucpr:0.898378\tvalidation_1-error:0.215\n",
      "[21]\tvalidation_0-aucpr:0.967536\tvalidation_0-error:0.08625\tvalidation_1-aucpr:0.89587\tvalidation_1-error:0.21\n",
      "[22]\tvalidation_0-aucpr:0.968344\tvalidation_0-error:0.08125\tvalidation_1-aucpr:0.899167\tvalidation_1-error:0.205\n",
      "[23]\tvalidation_0-aucpr:0.969528\tvalidation_0-error:0.0825\tvalidation_1-aucpr:0.899426\tvalidation_1-error:0.205\n",
      "[24]\tvalidation_0-aucpr:0.97114\tvalidation_0-error:0.08375\tvalidation_1-aucpr:0.8967\tvalidation_1-error:0.185\n",
      "[25]\tvalidation_0-aucpr:0.971911\tvalidation_0-error:0.08375\tvalidation_1-aucpr:0.894219\tvalidation_1-error:0.195\n",
      "[26]\tvalidation_0-aucpr:0.972837\tvalidation_0-error:0.08375\tvalidation_1-aucpr:0.892759\tvalidation_1-error:0.21\n",
      "[27]\tvalidation_0-aucpr:0.973542\tvalidation_0-error:0.08125\tvalidation_1-aucpr:0.89234\tvalidation_1-error:0.205\n",
      "[28]\tvalidation_0-aucpr:0.97415\tvalidation_0-error:0.08375\tvalidation_1-aucpr:0.893739\tvalidation_1-error:0.21\n",
      "[29]\tvalidation_0-aucpr:0.974279\tvalidation_0-error:0.07875\tvalidation_1-aucpr:0.894023\tvalidation_1-error:0.205\n",
      "[30]\tvalidation_0-aucpr:0.974569\tvalidation_0-error:0.0775\tvalidation_1-aucpr:0.895195\tvalidation_1-error:0.2\n",
      "[31]\tvalidation_0-aucpr:0.975062\tvalidation_0-error:0.07625\tvalidation_1-aucpr:0.897542\tvalidation_1-error:0.2\n",
      "[32]\tvalidation_0-aucpr:0.975429\tvalidation_0-error:0.07625\tvalidation_1-aucpr:0.89768\tvalidation_1-error:0.2\n",
      "[33]\tvalidation_0-aucpr:0.976125\tvalidation_0-error:0.07875\tvalidation_1-aucpr:0.897313\tvalidation_1-error:0.2\n",
      "[34]\tvalidation_0-aucpr:0.976674\tvalidation_0-error:0.0775\tvalidation_1-aucpr:0.89765\tvalidation_1-error:0.205\n",
      "[35]\tvalidation_0-aucpr:0.977165\tvalidation_0-error:0.07125\tvalidation_1-aucpr:0.897382\tvalidation_1-error:0.2\n",
      "[36]\tvalidation_0-aucpr:0.977744\tvalidation_0-error:0.06875\tvalidation_1-aucpr:0.89633\tvalidation_1-error:0.19\n",
      "[37]\tvalidation_0-aucpr:0.978226\tvalidation_0-error:0.0675\tvalidation_1-aucpr:0.899674\tvalidation_1-error:0.19\n",
      "[38]\tvalidation_0-aucpr:0.978701\tvalidation_0-error:0.06625\tvalidation_1-aucpr:0.900285\tvalidation_1-error:0.195\n",
      "[39]\tvalidation_0-aucpr:0.979302\tvalidation_0-error:0.065\tvalidation_1-aucpr:0.898868\tvalidation_1-error:0.205\n",
      "[40]\tvalidation_0-aucpr:0.979498\tvalidation_0-error:0.06125\tvalidation_1-aucpr:0.901227\tvalidation_1-error:0.2\n",
      "[41]\tvalidation_0-aucpr:0.979676\tvalidation_0-error:0.0625\tvalidation_1-aucpr:0.90083\tvalidation_1-error:0.195\n",
      "[42]\tvalidation_0-aucpr:0.979857\tvalidation_0-error:0.0625\tvalidation_1-aucpr:0.902475\tvalidation_1-error:0.185\n",
      "[43]\tvalidation_0-aucpr:0.980055\tvalidation_0-error:0.06375\tvalidation_1-aucpr:0.902009\tvalidation_1-error:0.18\n",
      "[44]\tvalidation_0-aucpr:0.980192\tvalidation_0-error:0.06125\tvalidation_1-aucpr:0.900327\tvalidation_1-error:0.19\n",
      "[45]\tvalidation_0-aucpr:0.980395\tvalidation_0-error:0.06\tvalidation_1-aucpr:0.89961\tvalidation_1-error:0.195\n",
      "[46]\tvalidation_0-aucpr:0.9808\tvalidation_0-error:0.06125\tvalidation_1-aucpr:0.899401\tvalidation_1-error:0.195\n",
      "[47]\tvalidation_0-aucpr:0.981005\tvalidation_0-error:0.06125\tvalidation_1-aucpr:0.898797\tvalidation_1-error:0.185\n",
      "[48]\tvalidation_0-aucpr:0.981539\tvalidation_0-error:0.06\tvalidation_1-aucpr:0.899538\tvalidation_1-error:0.19\n",
      "[49]\tvalidation_0-aucpr:0.981541\tvalidation_0-error:0.06\tvalidation_1-aucpr:0.899593\tvalidation_1-error:0.195\n",
      "[50]\tvalidation_0-aucpr:0.982168\tvalidation_0-error:0.05875\tvalidation_1-aucpr:0.900673\tvalidation_1-error:0.185\n",
      "[51]\tvalidation_0-aucpr:0.98245\tvalidation_0-error:0.05875\tvalidation_1-aucpr:0.898664\tvalidation_1-error:0.185\n",
      "[52]\tvalidation_0-aucpr:0.982556\tvalidation_0-error:0.06\tvalidation_1-aucpr:0.899053\tvalidation_1-error:0.185\n",
      "[53]\tvalidation_0-aucpr:0.982772\tvalidation_0-error:0.05625\tvalidation_1-aucpr:0.901755\tvalidation_1-error:0.18\n",
      "[54]\tvalidation_0-aucpr:0.983028\tvalidation_0-error:0.05625\tvalidation_1-aucpr:0.904181\tvalidation_1-error:0.185\n",
      "[55]\tvalidation_0-aucpr:0.983131\tvalidation_0-error:0.0575\tvalidation_1-aucpr:0.904103\tvalidation_1-error:0.185\n",
      "[56]\tvalidation_0-aucpr:0.983613\tvalidation_0-error:0.0575\tvalidation_1-aucpr:0.906009\tvalidation_1-error:0.185\n",
      "[57]\tvalidation_0-aucpr:0.983765\tvalidation_0-error:0.05625\tvalidation_1-aucpr:0.904622\tvalidation_1-error:0.19\n",
      "[58]\tvalidation_0-aucpr:0.983967\tvalidation_0-error:0.05625\tvalidation_1-aucpr:0.906469\tvalidation_1-error:0.185\n",
      "[59]\tvalidation_0-aucpr:0.984176\tvalidation_0-error:0.05625\tvalidation_1-aucpr:0.905499\tvalidation_1-error:0.18\n",
      "[60]\tvalidation_0-aucpr:0.984606\tvalidation_0-error:0.055\tvalidation_1-aucpr:0.905727\tvalidation_1-error:0.18\n",
      "[61]\tvalidation_0-aucpr:0.984655\tvalidation_0-error:0.055\tvalidation_1-aucpr:0.903985\tvalidation_1-error:0.18\n",
      "[62]\tvalidation_0-aucpr:0.98495\tvalidation_0-error:0.055\tvalidation_1-aucpr:0.903294\tvalidation_1-error:0.185\n",
      "[63]\tvalidation_0-aucpr:0.984766\tvalidation_0-error:0.0575\tvalidation_1-aucpr:0.904037\tvalidation_1-error:0.185\n",
      "Stopping. Best iteration:\n",
      "[43]\tvalidation_0-aucpr:0.980055\tvalidation_0-error:0.06375\tvalidation_1-aucpr:0.902009\tvalidation_1-error:0.18\n",
      "\n"
     ]
    }
   ],
   "source": [
    "model = xgb.XGBClassifier(objective = 'binary:logistic',feature_selector= 'thrifty',top_k = '600',n_estimators=100, learning_rate =0.20, max_depth = 30,min_child_weight= 5,gamma = 0.5,colsample_bytree = 0.4)\n",
    "t0 = time.time()\n",
    "eval_s = [(tfidf_vect_train, Y_train), (tfidf_vect_test, Y_test)]\n",
    "model.fit(tfidf_vect_train, Y_train, eval_metric=[\"aucpr\",\"error\"], verbose=True, eval_set = eval_s, early_stopping_rounds=20)\n",
    "t1 = time.time()\n",
    "xg_Ypred = model.predict(tfidf_vect_test)\n",
    "t2 = time.time()\n",
    "xg_time_linear_train = t1-t0\n",
    "xg_time_linear_predict = t2-t1\n",
    "xg_f1Score = f1_score(Y_test, xg_Ypred, average = \"weighted\")"
   ]
  },
  {
   "cell_type": "code",
   "execution_count": 11,
   "metadata": {},
   "outputs": [
    {
     "name": "stdout",
     "output_type": "stream",
     "text": [
      "Training time: 2.472948s; Prediction time: 1.031030s\n"
     ]
    }
   ],
   "source": [
    "print(\"Training time: %fs; Prediction time: %fs\" % (xg_time_linear_train, xg_time_linear_predict))"
   ]
  },
  {
   "cell_type": "code",
   "execution_count": 13,
   "metadata": {},
   "outputs": [
    {
     "data": {
      "text/plain": [
       "<AxesSubplot:>"
      ]
     },
     "execution_count": 13,
     "metadata": {},
     "output_type": "execute_result"
    },
    {
     "data": {
      "image/png": "[encoded data removed]",
      "text/plain": [
       "<Figure size 432x288 with 2 Axes>"
      ]
     },
     "metadata": {
      "needs_background": "light"
     },
     "output_type": "display_data"
    }
   ],
   "source": [
    "import seaborn as sns\n",
    "import numpy as np \n",
    "\n",
    "cf_matrix = metrics.confusion_matrix(Y_test, xg_Ypred)\n",
    "group_names = ['True Neg','False Pos','False Neg','True Pos']\n",
    "# group_counts = ['{0:0.0f}'.format(value) for value in\n",
    "#                 cf_matrix.flatten()]\n",
    "group_percentages = ['{0:.2%}'.format(value) for value in\n",
    "                     cf_matrix.flatten()/np.sum(cf_matrix)]\n",
    "labels = [f\"{v1}\\n{v3}\" for v1, v3 in\n",
    "          zip(group_names,group_percentages)]\n",
    "labels = np.asarray(labels).reshape(2,2)\n",
    "sns.heatmap(cf_matrix, annot=labels, fmt='', cmap='Blues')"
   ]
  },
  {
   "cell_type": "code",
   "execution_count": 14,
   "metadata": {},
   "outputs": [
    {
     "data": {
      "text/plain": [
       "0.82"
      ]
     },
     "execution_count": 14,
     "metadata": {},
     "output_type": "execute_result"
    }
   ],
   "source": [
    "xg_f1Score"
   ]
  },
  {
   "cell_type": "code",
   "execution_count": 15,
   "metadata": {},
   "outputs": [
    {
     "name": "stdout",
     "output_type": "stream",
     "text": [
      "0:\tlearn: 0.6625526\ttotal: 242ms\tremaining: 1m 12s\n",
      "1:\tlearn: 0.6405351\ttotal: 300ms\tremaining: 44.7s\n",
      "2:\tlearn: 0.6225021\ttotal: 360ms\tremaining: 35.7s\n",
      "3:\tlearn: 0.5953133\ttotal: 419ms\tremaining: 31s\n",
      "4:\tlearn: 0.5803032\ttotal: 507ms\tremaining: 29.9s\n",
      "5:\tlearn: 0.5614870\ttotal: 612ms\tremaining: 30s\n",
      "6:\tlearn: 0.5477036\ttotal: 708ms\tremaining: 29.6s\n",
      "7:\tlearn: 0.5341629\ttotal: 787ms\tremaining: 28.7s\n",
      "8:\tlearn: 0.5241136\ttotal: 853ms\tremaining: 27.6s\n",
      "9:\tlearn: 0.5106723\ttotal: 908ms\tremaining: 26.3s\n",
      "10:\tlearn: 0.5000625\ttotal: 963ms\tremaining: 25.3s\n",
      "11:\tlearn: 0.4906050\ttotal: 1.02s\tremaining: 24.6s\n",
      "12:\tlearn: 0.4795351\ttotal: 1.08s\tremaining: 24s\n",
      "13:\tlearn: 0.4707390\ttotal: 1.14s\tremaining: 23.4s\n",
      "14:\tlearn: 0.4636198\ttotal: 1.21s\tremaining: 22.9s\n",
      "15:\tlearn: 0.4560681\ttotal: 1.27s\tremaining: 22.6s\n",
      "16:\tlearn: 0.4491228\ttotal: 1.33s\tremaining: 22.1s\n",
      "17:\tlearn: 0.4440395\ttotal: 1.39s\tremaining: 21.8s\n",
      "18:\tlearn: 0.4378838\ttotal: 1.45s\tremaining: 21.5s\n",
      "19:\tlearn: 0.4325212\ttotal: 1.51s\tremaining: 21.2s\n",
      "20:\tlearn: 0.4251564\ttotal: 1.57s\tremaining: 20.9s\n",
      "21:\tlearn: 0.4191892\ttotal: 1.63s\tremaining: 20.6s\n",
      "22:\tlearn: 0.4148842\ttotal: 1.69s\tremaining: 20.3s\n",
      "23:\tlearn: 0.4120644\ttotal: 1.75s\tremaining: 20.1s\n",
      "24:\tlearn: 0.4060776\ttotal: 1.84s\tremaining: 20.2s\n",
      "25:\tlearn: 0.4013849\ttotal: 1.92s\tremaining: 20.2s\n",
      "26:\tlearn: 0.3969631\ttotal: 1.99s\tremaining: 20.1s\n",
      "27:\tlearn: 0.3921898\ttotal: 2.06s\tremaining: 20s\n",
      "28:\tlearn: 0.3857696\ttotal: 2.13s\tremaining: 19.9s\n",
      "29:\tlearn: 0.3805422\ttotal: 2.19s\tremaining: 19.7s\n",
      "30:\tlearn: 0.3759129\ttotal: 2.25s\tremaining: 19.5s\n",
      "31:\tlearn: 0.3723543\ttotal: 2.31s\tremaining: 19.3s\n",
      "32:\tlearn: 0.3685330\ttotal: 2.36s\tremaining: 19.1s\n",
      "33:\tlearn: 0.3628437\ttotal: 2.42s\tremaining: 18.9s\n",
      "34:\tlearn: 0.3588418\ttotal: 2.48s\tremaining: 18.8s\n",
      "35:\tlearn: 0.3552478\ttotal: 2.54s\tremaining: 18.6s\n",
      "36:\tlearn: 0.3522456\ttotal: 2.59s\tremaining: 18.4s\n",
      "37:\tlearn: 0.3468183\ttotal: 2.65s\tremaining: 18.3s\n",
      "38:\tlearn: 0.3431742\ttotal: 2.71s\tremaining: 18.1s\n",
      "39:\tlearn: 0.3394817\ttotal: 2.78s\tremaining: 18.1s\n",
      "40:\tlearn: 0.3368024\ttotal: 2.84s\tremaining: 17.9s\n",
      "41:\tlearn: 0.3342217\ttotal: 2.89s\tremaining: 17.8s\n",
      "42:\tlearn: 0.3305723\ttotal: 2.96s\tremaining: 17.7s\n",
      "43:\tlearn: 0.3262237\ttotal: 3.02s\tremaining: 17.6s\n",
      "44:\tlearn: 0.3226325\ttotal: 3.08s\tremaining: 17.5s\n",
      "45:\tlearn: 0.3206015\ttotal: 3.15s\tremaining: 17.4s\n",
      "46:\tlearn: 0.3163587\ttotal: 3.21s\tremaining: 17.3s\n",
      "47:\tlearn: 0.3132804\ttotal: 3.26s\tremaining: 17.1s\n",
      "48:\tlearn: 0.3102467\ttotal: 3.32s\tremaining: 17s\n",
      "49:\tlearn: 0.3068942\ttotal: 3.37s\tremaining: 16.9s\n",
      "50:\tlearn: 0.3045414\ttotal: 3.42s\tremaining: 16.7s\n",
      "51:\tlearn: 0.3020502\ttotal: 3.48s\tremaining: 16.6s\n",
      "52:\tlearn: 0.2990570\ttotal: 3.54s\tremaining: 16.5s\n",
      "53:\tlearn: 0.2950846\ttotal: 3.6s\tremaining: 16.4s\n",
      "54:\tlearn: 0.2921542\ttotal: 3.67s\tremaining: 16.3s\n",
      "55:\tlearn: 0.2888212\ttotal: 3.74s\tremaining: 16.3s\n",
      "56:\tlearn: 0.2852847\ttotal: 3.8s\tremaining: 16.2s\n",
      "57:\tlearn: 0.2831611\ttotal: 3.86s\tremaining: 16.1s\n",
      "58:\tlearn: 0.2808620\ttotal: 3.94s\tremaining: 16.1s\n",
      "59:\tlearn: 0.2790280\ttotal: 4s\tremaining: 16s\n",
      "60:\tlearn: 0.2770770\ttotal: 4.06s\tremaining: 15.9s\n",
      "61:\tlearn: 0.2743188\ttotal: 4.12s\tremaining: 15.8s\n",
      "62:\tlearn: 0.2718921\ttotal: 4.19s\tremaining: 15.7s\n",
      "63:\tlearn: 0.2690766\ttotal: 4.24s\tremaining: 15.7s\n",
      "64:\tlearn: 0.2667577\ttotal: 4.3s\tremaining: 15.6s\n",
      "65:\tlearn: 0.2632719\ttotal: 4.36s\tremaining: 15.4s\n",
      "66:\tlearn: 0.2613417\ttotal: 4.42s\tremaining: 15.4s\n",
      "67:\tlearn: 0.2594453\ttotal: 4.48s\tremaining: 15.3s\n",
      "68:\tlearn: 0.2566375\ttotal: 4.54s\tremaining: 15.2s\n",
      "69:\tlearn: 0.2533256\ttotal: 4.61s\tremaining: 15.1s\n",
      "70:\tlearn: 0.2515918\ttotal: 4.69s\tremaining: 15.1s\n",
      "71:\tlearn: 0.2479386\ttotal: 4.75s\tremaining: 15.1s\n",
      "72:\tlearn: 0.2462050\ttotal: 4.82s\tremaining: 15s\n",
      "73:\tlearn: 0.2442620\ttotal: 4.87s\tremaining: 14.9s\n",
      "74:\tlearn: 0.2421911\ttotal: 4.95s\tremaining: 14.8s\n",
      "75:\tlearn: 0.2400911\ttotal: 5.01s\tremaining: 14.8s\n",
      "76:\tlearn: 0.2374364\ttotal: 5.08s\tremaining: 14.7s\n",
      "77:\tlearn: 0.2339614\ttotal: 5.16s\tremaining: 14.7s\n",
      "78:\tlearn: 0.2317220\ttotal: 5.22s\tremaining: 14.6s\n",
      "79:\tlearn: 0.2292504\ttotal: 5.28s\tremaining: 14.5s\n",
      "80:\tlearn: 0.2271143\ttotal: 5.34s\tremaining: 14.5s\n",
      "81:\tlearn: 0.2249860\ttotal: 5.42s\tremaining: 14.4s\n",
      "82:\tlearn: 0.2232675\ttotal: 5.48s\tremaining: 14.3s\n",
      "83:\tlearn: 0.2204901\ttotal: 5.54s\tremaining: 14.3s\n",
      "84:\tlearn: 0.2184180\ttotal: 5.61s\tremaining: 14.2s\n",
      "85:\tlearn: 0.2164835\ttotal: 5.68s\tremaining: 14.1s\n",
      "86:\tlearn: 0.2139705\ttotal: 5.73s\tremaining: 14s\n",
      "87:\tlearn: 0.2116505\ttotal: 5.79s\tremaining: 14s\n",
      "88:\tlearn: 0.2082286\ttotal: 5.85s\tremaining: 13.9s\n",
      "89:\tlearn: 0.2068760\ttotal: 5.91s\tremaining: 13.8s\n",
      "90:\tlearn: 0.2049733\ttotal: 5.97s\tremaining: 13.7s\n",
      "91:\tlearn: 0.2034362\ttotal: 6.03s\tremaining: 13.6s\n",
      "92:\tlearn: 0.2014342\ttotal: 6.1s\tremaining: 13.6s\n",
      "93:\tlearn: 0.1992364\ttotal: 6.17s\tremaining: 13.5s\n",
      "94:\tlearn: 0.1970833\ttotal: 6.22s\tremaining: 13.4s\n",
      "95:\tlearn: 0.1954991\ttotal: 6.27s\tremaining: 13.3s\n",
      "96:\tlearn: 0.1935038\ttotal: 6.33s\tremaining: 13.3s\n",
      "97:\tlearn: 0.1921195\ttotal: 6.39s\tremaining: 13.2s\n",
      "98:\tlearn: 0.1897538\ttotal: 6.46s\tremaining: 13.1s\n",
      "99:\tlearn: 0.1883527\ttotal: 6.53s\tremaining: 13.1s\n",
      "100:\tlearn: 0.1864123\ttotal: 6.59s\tremaining: 13s\n",
      "101:\tlearn: 0.1840902\ttotal: 6.66s\tremaining: 12.9s\n",
      "102:\tlearn: 0.1825853\ttotal: 6.72s\tremaining: 12.9s\n",
      "103:\tlearn: 0.1810068\ttotal: 6.8s\tremaining: 12.8s\n",
      "104:\tlearn: 0.1795389\ttotal: 6.86s\tremaining: 12.7s\n",
      "105:\tlearn: 0.1788205\ttotal: 6.93s\tremaining: 12.7s\n",
      "106:\tlearn: 0.1777333\ttotal: 6.99s\tremaining: 12.6s\n",
      "107:\tlearn: 0.1756069\ttotal: 7.05s\tremaining: 12.5s\n",
      "108:\tlearn: 0.1738762\ttotal: 7.13s\tremaining: 12.5s\n",
      "109:\tlearn: 0.1731644\ttotal: 7.19s\tremaining: 12.4s\n",
      "110:\tlearn: 0.1713843\ttotal: 7.25s\tremaining: 12.3s\n",
      "111:\tlearn: 0.1702353\ttotal: 7.3s\tremaining: 12.3s\n",
      "112:\tlearn: 0.1691054\ttotal: 7.36s\tremaining: 12.2s\n",
      "113:\tlearn: 0.1676265\ttotal: 7.42s\tremaining: 12.1s\n",
      "114:\tlearn: 0.1654843\ttotal: 7.48s\tremaining: 12s\n",
      "115:\tlearn: 0.1635856\ttotal: 7.54s\tremaining: 12s\n",
      "116:\tlearn: 0.1613007\ttotal: 7.59s\tremaining: 11.9s\n",
      "117:\tlearn: 0.1601737\ttotal: 7.66s\tremaining: 11.8s\n",
      "118:\tlearn: 0.1583945\ttotal: 7.71s\tremaining: 11.7s\n",
      "119:\tlearn: 0.1559729\ttotal: 7.77s\tremaining: 11.7s\n",
      "120:\tlearn: 0.1547143\ttotal: 7.84s\tremaining: 11.6s\n",
      "121:\tlearn: 0.1536713\ttotal: 7.89s\tremaining: 11.5s\n",
      "122:\tlearn: 0.1531290\ttotal: 7.95s\tremaining: 11.4s\n",
      "123:\tlearn: 0.1517752\ttotal: 8s\tremaining: 11.4s\n",
      "124:\tlearn: 0.1506716\ttotal: 8.07s\tremaining: 11.3s\n",
      "125:\tlearn: 0.1496959\ttotal: 8.13s\tremaining: 11.2s\n",
      "126:\tlearn: 0.1486945\ttotal: 8.19s\tremaining: 11.2s\n",
      "127:\tlearn: 0.1476633\ttotal: 8.24s\tremaining: 11.1s\n",
      "128:\tlearn: 0.1461306\ttotal: 8.31s\tremaining: 11s\n",
      "129:\tlearn: 0.1449224\ttotal: 8.36s\tremaining: 10.9s\n",
      "130:\tlearn: 0.1434958\ttotal: 8.42s\tremaining: 10.9s\n",
      "131:\tlearn: 0.1425260\ttotal: 8.47s\tremaining: 10.8s\n",
      "132:\tlearn: 0.1416118\ttotal: 8.53s\tremaining: 10.7s\n",
      "133:\tlearn: 0.1402838\ttotal: 8.59s\tremaining: 10.6s\n",
      "134:\tlearn: 0.1392988\ttotal: 8.65s\tremaining: 10.6s\n",
      "135:\tlearn: 0.1381594\ttotal: 8.71s\tremaining: 10.5s\n",
      "136:\tlearn: 0.1365291\ttotal: 8.77s\tremaining: 10.4s\n",
      "137:\tlearn: 0.1351290\ttotal: 8.84s\tremaining: 10.4s\n",
      "138:\tlearn: 0.1341478\ttotal: 8.9s\tremaining: 10.3s\n",
      "139:\tlearn: 0.1332059\ttotal: 8.96s\tremaining: 10.2s\n",
      "140:\tlearn: 0.1325668\ttotal: 9.02s\tremaining: 10.2s\n",
      "141:\tlearn: 0.1312563\ttotal: 9.09s\tremaining: 10.1s\n",
      "142:\tlearn: 0.1303421\ttotal: 9.15s\tremaining: 10s\n",
      "143:\tlearn: 0.1293127\ttotal: 9.21s\tremaining: 9.97s\n",
      "144:\tlearn: 0.1285876\ttotal: 9.27s\tremaining: 9.91s\n",
      "145:\tlearn: 0.1277723\ttotal: 9.32s\tremaining: 9.83s\n",
      "146:\tlearn: 0.1267345\ttotal: 9.38s\tremaining: 9.76s\n",
      "147:\tlearn: 0.1258744\ttotal: 9.44s\tremaining: 9.69s\n",
      "148:\tlearn: 0.1250439\ttotal: 9.5s\tremaining: 9.62s\n",
      "149:\tlearn: 0.1239910\ttotal: 9.56s\tremaining: 9.56s\n",
      "150:\tlearn: 0.1233709\ttotal: 9.62s\tremaining: 9.49s\n",
      "151:\tlearn: 0.1227127\ttotal: 9.68s\tremaining: 9.42s\n",
      "152:\tlearn: 0.1218683\ttotal: 9.74s\tremaining: 9.36s\n",
      "153:\tlearn: 0.1211930\ttotal: 9.81s\tremaining: 9.3s\n",
      "154:\tlearn: 0.1206979\ttotal: 9.87s\tremaining: 9.23s\n",
      "155:\tlearn: 0.1198302\ttotal: 9.92s\tremaining: 9.16s\n",
      "156:\tlearn: 0.1189761\ttotal: 9.99s\tremaining: 9.1s\n",
      "157:\tlearn: 0.1183530\ttotal: 10.1s\tremaining: 9.03s\n",
      "158:\tlearn: 0.1176072\ttotal: 10.1s\tremaining: 8.97s\n",
      "159:\tlearn: 0.1162556\ttotal: 10.2s\tremaining: 8.9s\n",
      "160:\tlearn: 0.1154281\ttotal: 10.2s\tremaining: 8.84s\n",
      "161:\tlearn: 0.1148979\ttotal: 10.3s\tremaining: 8.77s\n",
      "162:\tlearn: 0.1143442\ttotal: 10.3s\tremaining: 8.7s\n",
      "163:\tlearn: 0.1133274\ttotal: 10.4s\tremaining: 8.63s\n",
      "164:\tlearn: 0.1124284\ttotal: 10.5s\tremaining: 8.56s\n",
      "165:\tlearn: 0.1114832\ttotal: 10.5s\tremaining: 8.5s\n",
      "166:\tlearn: 0.1110173\ttotal: 10.6s\tremaining: 8.43s\n",
      "167:\tlearn: 0.1102604\ttotal: 10.6s\tremaining: 8.36s\n",
      "168:\tlearn: 0.1096292\ttotal: 10.7s\tremaining: 8.3s\n",
      "169:\tlearn: 0.1084483\ttotal: 10.8s\tremaining: 8.23s\n",
      "170:\tlearn: 0.1078035\ttotal: 10.8s\tremaining: 8.17s\n",
      "171:\tlearn: 0.1072286\ttotal: 10.9s\tremaining: 8.1s\n",
      "172:\tlearn: 0.1067582\ttotal: 10.9s\tremaining: 8.04s\n",
      "173:\tlearn: 0.1059466\ttotal: 11s\tremaining: 7.97s\n",
      "174:\tlearn: 0.1056785\ttotal: 11.1s\tremaining: 7.91s\n",
      "175:\tlearn: 0.1045128\ttotal: 11.1s\tremaining: 7.84s\n",
      "176:\tlearn: 0.1033997\ttotal: 11.2s\tremaining: 7.78s\n",
      "177:\tlearn: 0.1025692\ttotal: 11.3s\tremaining: 7.71s\n",
      "178:\tlearn: 0.1021309\ttotal: 11.3s\tremaining: 7.64s\n",
      "179:\tlearn: 0.1011337\ttotal: 11.4s\tremaining: 7.57s\n",
      "180:\tlearn: 0.0998120\ttotal: 11.4s\tremaining: 7.51s\n",
      "181:\tlearn: 0.0993656\ttotal: 11.5s\tremaining: 7.44s\n",
      "182:\tlearn: 0.0984676\ttotal: 11.5s\tremaining: 7.37s\n",
      "183:\tlearn: 0.0979342\ttotal: 11.6s\tremaining: 7.3s\n",
      "184:\tlearn: 0.0974899\ttotal: 11.6s\tremaining: 7.24s\n",
      "185:\tlearn: 0.0968991\ttotal: 11.7s\tremaining: 7.18s\n",
      "186:\tlearn: 0.0963381\ttotal: 11.8s\tremaining: 7.11s\n",
      "187:\tlearn: 0.0956965\ttotal: 11.8s\tremaining: 7.05s\n",
      "188:\tlearn: 0.0952123\ttotal: 11.9s\tremaining: 6.99s\n",
      "189:\tlearn: 0.0943677\ttotal: 12s\tremaining: 6.93s\n",
      "190:\tlearn: 0.0941290\ttotal: 12s\tremaining: 6.87s\n",
      "191:\tlearn: 0.0935613\ttotal: 12.1s\tremaining: 6.81s\n",
      "192:\tlearn: 0.0928626\ttotal: 12.2s\tremaining: 6.74s\n",
      "193:\tlearn: 0.0922983\ttotal: 12.2s\tremaining: 6.68s\n",
      "194:\tlearn: 0.0918378\ttotal: 12.3s\tremaining: 6.61s\n",
      "195:\tlearn: 0.0910427\ttotal: 12.3s\tremaining: 6.54s\n",
      "196:\tlearn: 0.0904587\ttotal: 12.4s\tremaining: 6.48s\n",
      "197:\tlearn: 0.0897113\ttotal: 12.4s\tremaining: 6.41s\n",
      "198:\tlearn: 0.0893228\ttotal: 12.5s\tremaining: 6.34s\n",
      "199:\tlearn: 0.0886120\ttotal: 12.6s\tremaining: 6.28s\n",
      "200:\tlearn: 0.0881775\ttotal: 12.6s\tremaining: 6.21s\n",
      "201:\tlearn: 0.0878339\ttotal: 12.7s\tremaining: 6.15s\n",
      "202:\tlearn: 0.0873998\ttotal: 12.7s\tremaining: 6.08s\n",
      "203:\tlearn: 0.0867992\ttotal: 12.8s\tremaining: 6.02s\n",
      "204:\tlearn: 0.0865509\ttotal: 12.9s\tremaining: 5.96s\n",
      "205:\tlearn: 0.0858911\ttotal: 12.9s\tremaining: 5.89s\n",
      "206:\tlearn: 0.0854463\ttotal: 13s\tremaining: 5.83s\n",
      "207:\tlearn: 0.0850336\ttotal: 13s\tremaining: 5.76s\n",
      "208:\tlearn: 0.0844086\ttotal: 13.1s\tremaining: 5.7s\n",
      "209:\tlearn: 0.0839412\ttotal: 13.2s\tremaining: 5.64s\n",
      "210:\tlearn: 0.0832990\ttotal: 13.2s\tremaining: 5.57s\n",
      "211:\tlearn: 0.0829802\ttotal: 13.3s\tremaining: 5.51s\n",
      "212:\tlearn: 0.0823367\ttotal: 13.3s\tremaining: 5.44s\n",
      "213:\tlearn: 0.0820600\ttotal: 13.4s\tremaining: 5.38s\n",
      "214:\tlearn: 0.0815075\ttotal: 13.4s\tremaining: 5.31s\n",
      "215:\tlearn: 0.0811131\ttotal: 13.5s\tremaining: 5.25s\n",
      "216:\tlearn: 0.0807111\ttotal: 13.6s\tremaining: 5.18s\n",
      "217:\tlearn: 0.0802001\ttotal: 13.6s\tremaining: 5.12s\n",
      "218:\tlearn: 0.0798704\ttotal: 13.7s\tremaining: 5.05s\n",
      "219:\tlearn: 0.0793895\ttotal: 13.7s\tremaining: 4.99s\n",
      "220:\tlearn: 0.0786774\ttotal: 13.8s\tremaining: 4.93s\n",
      "221:\tlearn: 0.0783807\ttotal: 13.9s\tremaining: 4.87s\n",
      "222:\tlearn: 0.0781364\ttotal: 13.9s\tremaining: 4.8s\n",
      "223:\tlearn: 0.0776718\ttotal: 14s\tremaining: 4.74s\n",
      "224:\tlearn: 0.0773325\ttotal: 14s\tremaining: 4.68s\n",
      "225:\tlearn: 0.0769546\ttotal: 14.1s\tremaining: 4.62s\n",
      "226:\tlearn: 0.0767728\ttotal: 14.2s\tremaining: 4.55s\n",
      "227:\tlearn: 0.0763946\ttotal: 14.2s\tremaining: 4.49s\n",
      "228:\tlearn: 0.0758905\ttotal: 14.3s\tremaining: 4.42s\n",
      "229:\tlearn: 0.0754386\ttotal: 14.3s\tremaining: 4.36s\n",
      "230:\tlearn: 0.0747951\ttotal: 14.4s\tremaining: 4.29s\n",
      "231:\tlearn: 0.0742045\ttotal: 14.4s\tremaining: 4.23s\n",
      "232:\tlearn: 0.0737900\ttotal: 14.5s\tremaining: 4.17s\n",
      "233:\tlearn: 0.0732902\ttotal: 14.6s\tremaining: 4.11s\n",
      "234:\tlearn: 0.0730081\ttotal: 14.6s\tremaining: 4.04s\n",
      "235:\tlearn: 0.0722278\ttotal: 14.7s\tremaining: 3.98s\n",
      "236:\tlearn: 0.0719902\ttotal: 14.7s\tremaining: 3.92s\n",
      "237:\tlearn: 0.0717266\ttotal: 14.8s\tremaining: 3.86s\n",
      "238:\tlearn: 0.0713733\ttotal: 14.9s\tremaining: 3.79s\n",
      "239:\tlearn: 0.0710248\ttotal: 14.9s\tremaining: 3.73s\n",
      "240:\tlearn: 0.0706788\ttotal: 15s\tremaining: 3.67s\n",
      "241:\tlearn: 0.0701410\ttotal: 15s\tremaining: 3.6s\n",
      "242:\tlearn: 0.0695163\ttotal: 15.1s\tremaining: 3.54s\n",
      "243:\tlearn: 0.0691481\ttotal: 15.2s\tremaining: 3.48s\n",
      "244:\tlearn: 0.0686673\ttotal: 15.2s\tremaining: 3.42s\n",
      "245:\tlearn: 0.0683622\ttotal: 15.3s\tremaining: 3.35s\n",
      "246:\tlearn: 0.0677896\ttotal: 15.3s\tremaining: 3.29s\n",
      "247:\tlearn: 0.0674017\ttotal: 15.4s\tremaining: 3.23s\n",
      "248:\tlearn: 0.0670135\ttotal: 15.5s\tremaining: 3.17s\n",
      "249:\tlearn: 0.0664892\ttotal: 15.5s\tremaining: 3.1s\n",
      "250:\tlearn: 0.0662860\ttotal: 15.6s\tremaining: 3.04s\n",
      "251:\tlearn: 0.0660164\ttotal: 15.6s\tremaining: 2.98s\n",
      "252:\tlearn: 0.0657659\ttotal: 15.7s\tremaining: 2.92s\n",
      "253:\tlearn: 0.0652256\ttotal: 15.8s\tremaining: 2.85s\n",
      "254:\tlearn: 0.0647091\ttotal: 15.8s\tremaining: 2.79s\n",
      "255:\tlearn: 0.0645155\ttotal: 15.9s\tremaining: 2.73s\n",
      "256:\tlearn: 0.0640933\ttotal: 15.9s\tremaining: 2.66s\n",
      "257:\tlearn: 0.0638159\ttotal: 16s\tremaining: 2.6s\n",
      "258:\tlearn: 0.0635971\ttotal: 16s\tremaining: 2.54s\n",
      "259:\tlearn: 0.0634053\ttotal: 16.1s\tremaining: 2.48s\n",
      "260:\tlearn: 0.0632446\ttotal: 16.2s\tremaining: 2.41s\n",
      "261:\tlearn: 0.0629277\ttotal: 16.2s\tremaining: 2.35s\n",
      "262:\tlearn: 0.0627279\ttotal: 16.3s\tremaining: 2.29s\n",
      "263:\tlearn: 0.0624192\ttotal: 16.3s\tremaining: 2.23s\n",
      "264:\tlearn: 0.0622146\ttotal: 16.4s\tremaining: 2.17s\n",
      "265:\tlearn: 0.0619907\ttotal: 16.5s\tremaining: 2.1s\n",
      "266:\tlearn: 0.0617102\ttotal: 16.5s\tremaining: 2.04s\n",
      "267:\tlearn: 0.0613474\ttotal: 16.6s\tremaining: 1.98s\n",
      "268:\tlearn: 0.0610498\ttotal: 16.6s\tremaining: 1.92s\n",
      "269:\tlearn: 0.0607163\ttotal: 16.7s\tremaining: 1.85s\n",
      "270:\tlearn: 0.0604448\ttotal: 16.7s\tremaining: 1.79s\n",
      "271:\tlearn: 0.0602416\ttotal: 16.8s\tremaining: 1.73s\n",
      "272:\tlearn: 0.0598946\ttotal: 16.9s\tremaining: 1.67s\n",
      "273:\tlearn: 0.0597575\ttotal: 16.9s\tremaining: 1.61s\n",
      "274:\tlearn: 0.0595188\ttotal: 17s\tremaining: 1.54s\n",
      "275:\tlearn: 0.0591553\ttotal: 17.1s\tremaining: 1.48s\n",
      "276:\tlearn: 0.0588524\ttotal: 17.1s\tremaining: 1.42s\n",
      "277:\tlearn: 0.0586368\ttotal: 17.2s\tremaining: 1.36s\n",
      "278:\tlearn: 0.0584849\ttotal: 17.2s\tremaining: 1.3s\n",
      "279:\tlearn: 0.0583056\ttotal: 17.3s\tremaining: 1.24s\n",
      "280:\tlearn: 0.0581276\ttotal: 17.4s\tremaining: 1.17s\n",
      "281:\tlearn: 0.0578686\ttotal: 17.4s\tremaining: 1.11s\n",
      "282:\tlearn: 0.0575931\ttotal: 17.5s\tremaining: 1.05s\n",
      "283:\tlearn: 0.0572334\ttotal: 17.5s\tremaining: 988ms\n",
      "284:\tlearn: 0.0570059\ttotal: 17.6s\tremaining: 927ms\n",
      "285:\tlearn: 0.0566722\ttotal: 17.7s\tremaining: 864ms\n",
      "286:\tlearn: 0.0563564\ttotal: 17.7s\tremaining: 803ms\n",
      "287:\tlearn: 0.0561864\ttotal: 17.8s\tremaining: 741ms\n",
      "288:\tlearn: 0.0559461\ttotal: 17.8s\tremaining: 679ms\n",
      "289:\tlearn: 0.0557475\ttotal: 17.9s\tremaining: 617ms\n",
      "290:\tlearn: 0.0555410\ttotal: 17.9s\tremaining: 555ms\n",
      "291:\tlearn: 0.0553849\ttotal: 18s\tremaining: 493ms\n",
      "292:\tlearn: 0.0551204\ttotal: 18.1s\tremaining: 431ms\n",
      "293:\tlearn: 0.0548473\ttotal: 18.1s\tremaining: 370ms\n",
      "294:\tlearn: 0.0543551\ttotal: 18.2s\tremaining: 308ms\n",
      "295:\tlearn: 0.0540301\ttotal: 18.2s\tremaining: 246ms\n",
      "296:\tlearn: 0.0539321\ttotal: 18.3s\tremaining: 185ms\n",
      "297:\tlearn: 0.0538113\ttotal: 18.4s\tremaining: 123ms\n",
      "298:\tlearn: 0.0536485\ttotal: 18.4s\tremaining: 61.6ms\n",
      "299:\tlearn: 0.0534521\ttotal: 18.5s\tremaining: 0us\n"
     ]
    }
   ],
   "source": [
    "model = CatBoostClassifier(iterations=300, learning_rate=0.1, max_depth = 8)\n",
    "t0 = time.time()\n",
    "model.fit(tfidf_vect_train, Y_train)\n",
    "t1 = time.time()\n",
    "cat_Ypred = model.predict(tfidf_vect_test)\n",
    "t2 = time.time()\n",
    "cat_time_linear_train = t1-t0\n",
    "cat_time_linear_predict = t2-t1\n",
    "cat_f1Score = f1_score(Y_test, cat_Ypred, average = \"weighted\")"
   ]
  },
  {
   "cell_type": "code",
   "execution_count": 16,
   "metadata": {},
   "outputs": [
    {
     "name": "stdout",
     "output_type": "stream",
     "text": [
      "Training time: 22.708619s; Prediction time: 0.059992s\n"
     ]
    }
   ],
   "source": [
    "print(\"Training time: %fs; Prediction time: %fs\" % (cat_time_linear_train, cat_time_linear_predict))"
   ]
  },
  {
   "cell_type": "code",
   "execution_count": 17,
   "metadata": {},
   "outputs": [
    {
     "data": {
      "text/plain": [
       "<AxesSubplot:>"
      ]
     },
     "execution_count": 17,
     "metadata": {},
     "output_type": "execute_result"
    },
    {
     "data": {
      "image/png": "[encoded data removed]",
      "text/plain": [
       "<Figure size 432x288 with 2 Axes>"
      ]
     },
     "metadata": {
      "needs_background": "light"
     },
     "output_type": "display_data"
    }
   ],
   "source": [
    "cf_matrix = metrics.confusion_matrix(Y_test, cat_Ypred)\n",
    "group_names = ['True Neg','False Pos','False Neg','True Pos']\n",
    "# group_counts = ['{0:0.0f}'.format(value) for value in\n",
    "#                 cf_matrix.flatten()]\n",
    "group_percentages = ['{0:.2%}'.format(value) for value in\n",
    "                     cf_matrix.flatten()/np.sum(cf_matrix)]\n",
    "labels = [f\"{v1}\\n{v3}\" for v1, v3 in\n",
    "          zip(group_names,group_percentages)]\n",
    "labels = np.asarray(labels).reshape(2,2)\n",
    "sns.heatmap(cf_matrix, annot=labels, fmt='', cmap='Blues')"
   ]
  },
  {
   "cell_type": "code",
   "execution_count": 18,
   "metadata": {},
   "outputs": [
    {
     "data": {
      "text/plain": [
       "0.8246449059345176"
      ]
     },
     "execution_count": 18,
     "metadata": {},
     "output_type": "execute_result"
    }
   ],
   "source": [
    "cat_f1Score"
   ]
  },
  {
   "cell_type": "code",
   "execution_count": 19,
   "metadata": {},
   "outputs": [],
   "source": [
    "model = svm.SVC(C = 10)\n",
    "t0 = time.time()\n",
    "model.fit(tfidf_vect_train, Y_train)\n",
    "t1 = time.time()\n",
    "svc_Ypred = model.predict(tfidf_vect_test)\n",
    "t2 = time.time()\n",
    "svc_time_linear_train = t1-t0\n",
    "svc_time_linear_predict = t2-t1\n",
    "svc_f1Score = f1_score(Y_test, svc_Ypred, average = \"weighted\")"
   ]
  },
  {
   "cell_type": "code",
   "execution_count": 20,
   "metadata": {},
   "outputs": [
    {
     "name": "stdout",
     "output_type": "stream",
     "text": [
      "Training time: 0.905332s; Prediction time: 0.170733s\n"
     ]
    }
   ],
   "source": [
    "print(\"Training time: %fs; Prediction time: %fs\" % (svc_time_linear_train, svc_time_linear_predict))"
   ]
  },
  {
   "cell_type": "code",
   "execution_count": 21,
   "metadata": {},
   "outputs": [
    {
     "data": {
      "text/plain": [
       "0.8849971249281232"
      ]
     },
     "execution_count": 21,
     "metadata": {},
     "output_type": "execute_result"
    }
   ],
   "source": [
    "svc_f1Score"
   ]
  },
  {
   "cell_type": "code",
   "execution_count": 22,
   "metadata": {},
   "outputs": [
    {
     "data": {
      "text/plain": [
       "<AxesSubplot:>"
      ]
     },
     "execution_count": 22,
     "metadata": {},
     "output_type": "execute_result"
    },
    {
     "data": {
      "image/png": "[encoded data removed]",
      "text/plain": [
       "<Figure size 432x288 with 2 Axes>"
      ]
     },
     "metadata": {
      "needs_background": "light"
     },
     "output_type": "display_data"
    }
   ],
   "source": [
    "cf_matrix = metrics.confusion_matrix(Y_test, svc_Ypred)\n",
    "group_names = ['True Neg','False Pos','False Neg','True Pos']\n",
    "# group_counts = ['{0:0.0f}'.format(value) for value in\n",
    "#                 cf_matrix.flatten()]\n",
    "group_percentages = ['{0:.2%}'.format(value) for value in\n",
    "                     cf_matrix.flatten()/np.sum(cf_matrix)]\n",
    "labels = [f\"{v1}\\n{v3}\" for v1, v3 in\n",
    "          zip(group_names,group_percentages)]\n",
    "labels = np.asarray(labels).reshape(2,2)\n",
    "sns.heatmap(cf_matrix, annot=labels, fmt='', cmap='Blues')"
   ]
  },
  {
   "cell_type": "code",
   "execution_count": 23,
   "metadata": {},
   "outputs": [],
   "source": [
    "f1_scores = [svc_f1Score, cat_f1Score, xg_f1Score]\n",
    "train_time = [svc_time_linear_train, cat_time_linear_train, xg_time_linear_train]\n",
    "predict_time = [svc_time_linear_predict, cat_time_linear_predict, xg_time_linear_predict]\n",
    "algo_name = [\"SVC\", \"CatBoost\", \"XGBoost\"]"
   ]
  },
  {
   "cell_type": "code",
   "execution_count": 24,
   "metadata": {},
   "outputs": [
    {
     "data": {
      "image/png": "[encoded data removed]",
      "text/plain": [
       "<Figure size 576x216 with 1 Axes>"
      ]
     },
     "metadata": {
      "needs_background": "light"
     },
     "output_type": "display_data"
    }
   ],
   "source": [
    "f1_scores = [svc_f1Score, cat_f1Score, xg_f1Score]\n",
    "train_time = [svc_time_linear_train, cat_time_linear_train, xg_time_linear_train]\n",
    "predict_time = [svc_time_linear_predict, cat_time_linear_predict, xg_time_linear_predict]\n",
    "algo_name = [\"SVC\", \"CatBoost\", \"XGBoost\"]\n",
    "\n",
    "import seaborn as sns\n",
    "import matplotlib.pyplot as plt\n",
    "plt.figure(figsize=(8,3))\n",
    "sns.set_theme(style = \"whitegrid\")\n",
    "ax = sns.pointplot(x = algo_name, y = f1_scores)\n",
    "ax.set_xticklabels(ax.get_xticklabels() , rotation = 90)\n",
    "plt.show()"
   ]
  },
  {
   "cell_type": "code",
   "execution_count": 25,
   "metadata": {},
   "outputs": [
    {
     "data": {
      "image/png": "[encoded data removed]",
      "text/plain": [
       "<Figure size 576x216 with 1 Axes>"
      ]
     },
     "metadata": {},
     "output_type": "display_data"
    }
   ],
   "source": [
    "plt.figure(figsize=(8,3))\n",
    "sns.set_theme(style = \"whitegrid\")\n",
    "bx = sns.pointplot(x = algo_name, y = train_time)\n",
    "bx.set_xticklabels(ax.get_xticklabels() , rotation = 90)\n",
    "plt.show()"
   ]
  },
  {
   "cell_type": "code",
   "execution_count": 26,
   "metadata": {},
   "outputs": [
    {
     "data": {
      "image/png": "[encoded data removed]",
      "text/plain": [
       "<Figure size 576x216 with 1 Axes>"
      ]
     },
     "metadata": {},
     "output_type": "display_data"
    }
   ],
   "source": [
    "plt.figure(figsize=(8,3))\n",
    "sns.set_theme(style = \"whitegrid\")\n",
    "cx = sns.pointplot(x = algo_name, y = predict_time)\n",
    "cx.set_xticklabels(ax.get_xticklabels() , rotation = 90)\n",
    "plt.show()"
   ]
  },
  {
   "cell_type": "code",
   "execution_count": null,
   "metadata": {},
   "outputs": [],
   "source": []
  }
 ],
 "metadata": {
  "kernelspec": {
   "display_name": "Python 3",
   "language": "python",
   "name": "python3"
  },
  "language_info": {
   "codemirror_mode": {
    "name": "ipython",
    "version": 3
   },
   "file_extension": ".py",
   "mimetype": "text/x-python",
   "name": "python",
   "nbconvert_exporter": "python",
   "pygments_lexer": "ipython3",
   "version": "3.7.9"
  }
 },
 "nbformat": 4,
 "nbformat_minor": 4
}
